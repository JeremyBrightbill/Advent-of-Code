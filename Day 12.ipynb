{
 "cells": [
  {
   "cell_type": "markdown",
   "metadata": {},
   "source": [
    "Try to do this using classes. The `__init__` method will need the other three as parameters:"
   ]
  },
  {
   "cell_type": "code",
   "execution_count": 7,
   "metadata": {},
   "outputs": [],
   "source": [
    "class Moon():\n",
    "    \n",
    "    def __init__(self): \n",
    "        \"\"\"Set all positions and velocities to None initially. \"\"\"\n",
    "        self.pos = None\n",
    "        self.vel = None\n",
    "        self.next = [None, None, None]\n",
    "        self.others = []\n",
    "        \n",
    "class System():\n",
    "    \n",
    "    def __init__(self):\n",
    "        self.moons = []\n",
    "    \n",
    "    def assign_moon(self, moon):\n",
    "        self.moons.append(moon)"
   ]
  },
  {
   "cell_type": "code",
   "execution_count": 8,
   "metadata": {},
   "outputs": [
    {
     "name": "stdout",
     "output_type": "stream",
     "text": [
      "[<__main__.Moon object at 0x7f3dfc26d970>, <__main__.Moon object at 0x7f3dfc26d970>, <__main__.Moon object at 0x7f3dfc26dd90>, <__main__.Moon object at 0x7f3dfc26d9a0>]\n"
     ]
    }
   ],
   "source": [
    "moon1, moon2, moon3, moon4 = Moon(), Moon(), Moon(), Moon()\n",
    "\n",
    "system = System()\n",
    "\n",
    "for moon in [moon1, moon1, moon3, moon4]:\n",
    "    system.assign_moon(moon)\n",
    "    \n",
    "print(system.moons)"
   ]
  },
  {
   "cell_type": "code",
   "execution_count": 1,
   "metadata": {},
   "outputs": [],
   "source": [
    "class Moon(): \n",
    "    \n",
    "    \"\"\"Class for each moon, including methods to find others, compute velocity, \n",
    "    and finally move\"\"\"\n",
    "    \n",
    "    def __init__(self): \n",
    "        \"\"\"Set all positions and velocities to None initially. \"\"\"\n",
    "        self.pos = None\n",
    "        self.vel = None\n",
    "        self.next = [None, None, None]\n",
    "        self.other_one = [None, None, None]\n",
    "        self.other_two = [None, None, None]\n",
    "        self.other_three = [None, None, None]\n",
    "    \n",
    "    def identify_others(self, x, y, z):\n",
    "        \"\"\"Identify the other three moons for each one. All must be created before they can identify\n",
    "        each other\"\"\"\n",
    "        self.others = (x, y, z)\n",
    "            \n",
    "    def find_others(self):\n",
    "        \"\"\"Find the positions of the other three moons\"\"\"\n",
    "        self.other_one = [self.others[0].pos[0], self.others[0].pos[1], self.others[0].pos[2]]\n",
    "        self.other_two = [self.others[1].pos[0], self.others[1].pos[1], self.others[1].pos[2]]\n",
    "        self.other_three = [self.others[2].pos[0], self.others[2].pos[1], self.others[2].pos[2]]\n",
    "                \n",
    "    def find_velocity(self):\n",
    "        \"\"\"Given the positions of the other three moons, update the velocity of this moon\"\"\"\n",
    "        \n",
    "        others_x = [self.other_one[0], self.other_two[0], self.other_three[0]]\n",
    "        others_y = [self.other_one[1], self.other_two[1], self.other_three[1]]\n",
    "        others_z = [self.other_one[2], self.other_two[2], self.other_three[2]]\n",
    "        \n",
    "        change_x = 0\n",
    "        for moon in others_x:\n",
    "            if moon > self.pos[0]:\n",
    "                change_x += 1\n",
    "            if moon < self.pos[0]:\n",
    "                change_x -= 1\n",
    "        \n",
    "        change_y = 0\n",
    "        for moon in others_y:\n",
    "            if moon > self.pos[1]:\n",
    "                change_y += 1\n",
    "            if moon < self.pos[1]:\n",
    "                change_y -= 1\n",
    "        \n",
    "        change_z = 0\n",
    "        for moon in others_z:\n",
    "            if moon > self.pos[2]:\n",
    "                change_z += 1\n",
    "            if moon < self.pos[2]:\n",
    "                change_z -= 1\n",
    "        \n",
    "        self.vel[0] += change_x\n",
    "        self.vel[1] += change_y\n",
    "        self.vel[2] += change_z\n",
    "    \n",
    "    def find_next_position(self):\n",
    "        \"\"\"Find next position but don't apply yet - must compute for all 4 moons first\"\"\"\n",
    "        for i in range(3):\n",
    "            self.next[i] = self.pos[i] + self.vel[i]\n",
    "    \n",
    "    def move(self):\n",
    "        \"\"\"Once the next position of all 4 moons has been determined, move\"\"\"\n",
    "        for i in range(3):\n",
    "            self.pos[i] = self.next[i]"
   ]
  },
  {
   "cell_type": "code",
   "execution_count": 24,
   "metadata": {},
   "outputs": [],
   "source": [
    "def run_step(moons):\n",
    "    \"\"\"Apply all the steps to all the moons\"\"\"\n",
    "    \n",
    "    for moon in moons:\n",
    "        moon.find_others()\n",
    "        \n",
    "    for moon in moons:\n",
    "        moon.find_velocity()\n",
    "        \n",
    "    for moon in moons: \n",
    "        moon.find_next_position()\n",
    "        \n",
    "    for moon in moons:\n",
    "        moon.move()\n",
    "    \n",
    "    return None"
   ]
  },
  {
   "cell_type": "markdown",
   "metadata": {},
   "source": [
    "Test on the inputs provided - everything is correct:"
   ]
  },
  {
   "cell_type": "code",
   "execution_count": 13,
   "metadata": {},
   "outputs": [],
   "source": [
    "initial_2 = [[-1, 0, 2], [2, -10, -7], [4, -8, 8], [3, 5, -1]]\n",
    "moon_1, moon_2, moon_3, moon_4 = Moon(), Moon(), Moon(), Moon()\n",
    "moons_all = [moon_1, moon_2, moon_3, moon_4]\n",
    "\n",
    "for moon, coords in zip(moons_all, initial_2): \n",
    "    moon.pos = coords\n",
    "    moon.vel = [0, 0, 0]\n",
    "    \n",
    "moon_1.identify_others(moon_2, moon_3, moon_4)\n",
    "moon_2.identify_others(moon_1, moon_3, moon_4)\n",
    "moon_3.identify_others(moon_1, moon_2, moon_4)\n",
    "moon_4.identify_others(moon_1, moon_2, moon_3)"
   ]
  },
  {
   "cell_type": "code",
   "execution_count": 14,
   "metadata": {},
   "outputs": [
    {
     "name": "stdout",
     "output_type": "stream",
     "text": [
      "After 1 steps: [[2, -1, 1], [3, -7, -4], [1, -7, 5], [2, 2, 0]]\n",
      "After 2 steps: [[5, -3, -1], [1, -2, 2], [1, -4, -1], [1, -4, 2]]\n",
      "After 3 steps: [[5, -6, -1], [0, 0, 6], [2, 1, -5], [1, -8, 2]]\n",
      "After 4 steps: [[2, -8, 0], [2, 1, 7], [2, 3, -6], [2, -9, 1]]\n",
      "After 5 steps: [[-1, -9, 2], [4, 1, 5], [2, 2, -4], [3, -7, -1]]\n",
      "After 6 steps: [[-1, -7, 3], [3, 0, 0], [3, -2, 1], [3, -4, -2]]\n",
      "After 7 steps: [[2, -2, 1], [1, -4, -4], [3, -7, 5], [2, 0, 0]]\n",
      "After 8 steps: [[5, 2, -2], [2, -7, -5], [0, -9, 6], [1, 1, 3]]\n",
      "After 9 steps: [[5, 3, -4], [2, -9, -3], [0, -8, 4], [1, 1, 5]]\n",
      "After 10 steps: [[2, 1, -3], [1, -8, 0], [3, -6, 1], [2, 0, 4]]\n"
     ]
    }
   ],
   "source": [
    "for i in range(1, 11): \n",
    "    output = run_step(moons_all)\n",
    "    print(f'After {i} steps: {output}')"
   ]
  },
  {
   "cell_type": "markdown",
   "metadata": {},
   "source": [
    "Now do what the problem asks: calculate positions after 1000 steps:"
   ]
  },
  {
   "cell_type": "code",
   "execution_count": 35,
   "metadata": {},
   "outputs": [],
   "source": [
    "moon_1, moon_2, moon_3, moon_4 = Moon(), Moon(), Moon(), Moon()\n",
    "\n",
    "# Set initial positions \n",
    "\n",
    "initial = [[6, 10, 10], [-9, 3, 17], [9, -4, 14], [4, 14, 4]]\n",
    "moons_all = [moon_1, moon_2, moon_3, moon_4]\n",
    "\n",
    "for moon, coords in zip(moons_all, initial): \n",
    "    moon.pos = coords\n",
    "    moon.vel = [0, 0, 0]\n",
    "    \n",
    "# Tell each moon which are the other three\n",
    "    \n",
    "moon_1.identify_others(moon_2, moon_3, moon_4)\n",
    "moon_2.identify_others(moon_1, moon_3, moon_4)\n",
    "moon_3.identify_others(moon_1, moon_2, moon_4)\n",
    "moon_4.identify_others(moon_1, moon_2, moon_3)"
   ]
  },
  {
   "cell_type": "code",
   "execution_count": 36,
   "metadata": {},
   "outputs": [
    {
     "name": "stdout",
     "output_type": "stream",
     "text": [
      "[[[57, -19, -6], [2, -3, 14]], [[-13, -62, 75], [15, -18, -1]], [[21, 133, -19], [0, 19, -3]], [[-55, -29, -5], [-17, 2, -10]]]\n"
     ]
    }
   ],
   "source": [
    "for i in range(1, 1001):\n",
    "    run_step(moons_all)\n",
    "\n",
    "output = []\n",
    "\n",
    "for moon in moons_all:\n",
    "    output.append([moon.pos, moon.vel])\n",
    "    \n",
    "print(output)"
   ]
  },
  {
   "cell_type": "code",
   "execution_count": 47,
   "metadata": {},
   "outputs": [
    {
     "name": "stdout",
     "output_type": "stream",
     "text": [
      "1558\n",
      "5100\n",
      "3806\n",
      "2581\n"
     ]
    }
   ],
   "source": [
    "for moon in output: \n",
    "    pos_abs = [abs(value) for value in moon[0]]\n",
    "    vel_abs = [abs(value) for value in moon[1]]\n",
    "    potential = 0\n",
    "    for value in pos_abs:\n",
    "        potential += value\n",
    "    kinetic = 0\n",
    "    for value in vel_abs:\n",
    "        kinetic += value\n",
    "    print(potential * kinetic)"
   ]
  },
  {
   "cell_type": "code",
   "execution_count": 48,
   "metadata": {},
   "outputs": [
    {
     "name": "stdout",
     "output_type": "stream",
     "text": [
      "13045\n"
     ]
    }
   ],
   "source": [
    "print(1558 + 5100 + 3806 + 2581)"
   ]
  }
 ],
 "metadata": {
  "kernelspec": {
   "display_name": "Python 3",
   "language": "python",
   "name": "python3"
  },
  "language_info": {
   "codemirror_mode": {
    "name": "ipython",
    "version": 3
   },
   "file_extension": ".py",
   "mimetype": "text/x-python",
   "name": "python",
   "nbconvert_exporter": "python",
   "pygments_lexer": "ipython3",
   "version": "3.7.0"
  }
 },
 "nbformat": 4,
 "nbformat_minor": 2
}
