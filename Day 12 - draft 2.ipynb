{
 "cells": [
  {
   "cell_type": "markdown",
   "metadata": {},
   "source": [
    "Try to do this using classes. In draft 1, I made a separate instance for each moon, but it seems better for the class to be the whole system - it's too hard to call the other moons' methods otherwise."
   ]
  },
  {
   "cell_type": "code",
   "execution_count": 45,
   "metadata": {},
   "outputs": [],
   "source": [
    "class Moons(): \n",
    "    \n",
    "    \"\"\"Every moon will have position and velocity in x, y, and z dimensions. \n",
    "    They are numbered 1, 2, 3, 4\"\"\"\n",
    "    \n",
    "    def __init__(self, number): \n",
    "        \"\"\"Set initial positions and velocities\"\"\"\n",
    "        self.one = [6, 10, 10, 0, 0, 0]\n",
    "        self.two = [-9, 3, 17, 0, 0, 0]\n",
    "        self.three = [9, -4, 14, 0, 0, 0]\n",
    "        self.four = [4, 14, 4, 0, 0, 0]\n",
    "    \n",
    "    # def find_velocity\n",
    "    \n",
    "    # def find_next_position\n",
    "    \n",
    "    # def apply"
   ]
  },
  {
   "cell_type": "code",
   "execution_count": 46,
   "metadata": {},
   "outputs": [
    {
     "name": "stdout",
     "output_type": "stream",
     "text": [
      "1\n"
     ]
    }
   ],
   "source": [
    "moon_1, moon_2, moon_3, moon_4 = Moon(1), Moon(2), Moon(3), Moon(4)\n",
    "print(moon_1.number)"
   ]
  },
  {
   "cell_type": "markdown",
   "metadata": {},
   "source": [
    "Set initial positions:"
   ]
  },
  {
   "cell_type": "code",
   "execution_count": 47,
   "metadata": {},
   "outputs": [],
   "source": [
    "moon_1.pos_x, moon_1.pos_y, moon_1.pos_z = 6, 10, 10\n",
    "moon_2.pos_x, moon_2.pos_y, moon_2.pos_z = -9, 3, 17\n",
    "moon_3.pos_x, moon_3.pos_y, moon_3.pos_z = 9, -4, 14\n",
    "moon_4.pos_x, moon_4.pos_y, moon_4.pos_z = 4, 14, 4"
   ]
  },
  {
   "cell_type": "code",
   "execution_count": 48,
   "metadata": {},
   "outputs": [
    {
     "name": "stdout",
     "output_type": "stream",
     "text": [
      "['moon_2', 'moon_3', 'moon_4']\n"
     ]
    }
   ],
   "source": [
    "print(moon_1.find_other_3())"
   ]
  },
  {
   "cell_type": "code",
   "execution_count": 43,
   "metadata": {},
   "outputs": [
    {
     "name": "stdout",
     "output_type": "stream",
     "text": [
      "['moon_1', 'moon_2', 'moon_3']\n"
     ]
    }
   ],
   "source": [
    "x = [1, 2, 3]\n",
    "print(['moon_' + str(number) for number in x])"
   ]
  },
  {
   "cell_type": "code",
   "execution_count": null,
   "metadata": {},
   "outputs": [],
   "source": []
  }
 ],
 "metadata": {
  "kernelspec": {
   "display_name": "Python 3",
   "language": "python",
   "name": "python3"
  },
  "language_info": {
   "codemirror_mode": {
    "name": "ipython",
    "version": 3
   },
   "file_extension": ".py",
   "mimetype": "text/x-python",
   "name": "python",
   "nbconvert_exporter": "python",
   "pygments_lexer": "ipython3",
   "version": "3.7.0"
  }
 },
 "nbformat": 4,
 "nbformat_minor": 2
}
