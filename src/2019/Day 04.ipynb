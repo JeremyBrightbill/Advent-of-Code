{
 "cells": [
  {
   "cell_type": "markdown",
   "metadata": {},
   "source": [
    "Key facts about the password:\n",
    "\n",
    "* It is a six-digit number.\n",
    "* The value is within the range given in your puzzle input.\n",
    "* Two adjacent digits are the same (like 22 in 122345).\n",
    "* Going from left to right, the digits never decrease; they only ever increase or stay the same (like 111123 or 135679).\n",
    "\n",
    "Range is 245182-790572\n",
    "\n",
    "How many different passwords within the range given in your puzzle input meet these criteria?"
   ]
  },
  {
   "cell_type": "code",
   "execution_count": 1,
   "metadata": {},
   "outputs": [
    {
     "name": "stdout",
     "output_type": "stream",
     "text": [
      "[False, False, False, False, True]\n"
     ]
    }
   ],
   "source": [
    "str_test = \"012344\"\n",
    "\n",
    "# equal_test = str_test[4] == str_test[5]\n",
    "\n",
    "equal_test = []\n",
    "for a, b in zip([0, 1, 2, 3, 4], [1, 2, 3, 4, 5]):\n",
    "    result = str_test[a] == str_test[b]\n",
    "    equal_test.append(result)\n",
    "    \n",
    "print(equal_test)\n"
   ]
  },
  {
   "cell_type": "code",
   "execution_count": 2,
   "metadata": {},
   "outputs": [
    {
     "data": {
      "text/plain": [
       "True"
      ]
     },
     "execution_count": 2,
     "metadata": {},
     "output_type": "execute_result"
    }
   ],
   "source": [
    "test2 = [False, True]\n",
    "any(test2)"
   ]
  },
  {
   "cell_type": "code",
   "execution_count": 3,
   "metadata": {},
   "outputs": [
    {
     "data": {
      "text/plain": [
       "False"
      ]
     },
     "execution_count": 3,
     "metadata": {},
     "output_type": "execute_result"
    }
   ],
   "source": [
    "test3 = [True, False]\n",
    "all(test3)"
   ]
  },
  {
   "cell_type": "code",
   "execution_count": 8,
   "metadata": {},
   "outputs": [
    {
     "name": "stdout",
     "output_type": "stream",
     "text": [
      "1099\n"
     ]
    }
   ],
   "source": [
    "counter = 0\n",
    "\n",
    "for number in range(245182, 790573):\n",
    "    \n",
    "    num_str = str(number)\n",
    "    \n",
    "    adjacent_test = []\n",
    "    for a, b in zip(range(5), range(1, 6)): \n",
    "        result = num_str[a] == num_str[b]\n",
    "        adjacent_test.append(result)\n",
    "    has_adjacent = any(adjacent_test)\n",
    "    \n",
    "    no_decrease_test = []\n",
    "    for a, b in zip(range(5), range(1, 6)): \n",
    "        result = num_str[b] >= num_str[a]\n",
    "        no_decrease_test.append(result)\n",
    "    no_decrease = all(no_decrease_test)\n",
    "    \n",
    "    if has_adjacent & no_decrease: \n",
    "        counter += 1\n",
    "\n",
    "print(counter)"
   ]
  },
  {
   "cell_type": "markdown",
   "metadata": {},
   "source": [
    "## Part 2"
   ]
  },
  {
   "cell_type": "markdown",
   "metadata": {},
   "source": [
    "New criterion: \n",
    "\n",
    "* the two adjacent matching digits are not part of a larger group of matching digits\n",
    "\n",
    "There could still be a larger group of other matching digits, but there is at least one group of exactly 2."
   ]
  },
  {
   "cell_type": "code",
   "execution_count": 22,
   "metadata": {},
   "outputs": [
    {
     "name": "stdout",
     "output_type": "stream",
     "text": [
      "[False, True, False, True, True]\n"
     ]
    }
   ],
   "source": [
    "test = \"abbfff\"\n",
    "\n",
    "output = []\n",
    "for i in range(len(test)-1): \n",
    "    result = test[i] == test[i + 1]\n",
    "    output.append(result)\n",
    "print(output)"
   ]
  },
  {
   "cell_type": "code",
   "execution_count": 29,
   "metadata": {},
   "outputs": [
    {
     "name": "stdout",
     "output_type": "stream",
     "text": [
      "1\n"
     ]
    }
   ],
   "source": [
    "test = \"abbfff\"\n",
    "\n",
    "a = 0\n",
    "\n",
    "for i in range(len(test)-2):\n",
    "    if (test[i] == test[i + 1]) & ((test[i] != test[i + 2]) | (i + 2 > 5)): \n",
    "        a += 1\n",
    "        \n",
    "print(a)"
   ]
  },
  {
   "cell_type": "code",
   "execution_count": 65,
   "metadata": {},
   "outputs": [
    {
     "name": "stdout",
     "output_type": "stream",
     "text": [
      "True\n"
     ]
    }
   ],
   "source": [
    "test = \"aaabbc\"\n",
    "\n",
    "counter = 0\n",
    "for i in range(len(test)-1):\n",
    "    if i == 0: \n",
    "        if (test[i] == test[i + 1]) & (test[i] != test[i + 2]):\n",
    "            counter += 1\n",
    "    elif i < 4:\n",
    "        if (test[i] == test[i + 1]) & (test[i] != test[i + 2]) & (test[i] != test[i - 1]): \n",
    "            counter += 1\n",
    "    else: \n",
    "        if (test[i] == test[i + 1]) & (test[i] != test[i - 1]):\n",
    "            counter += 1\n",
    "print(counter > 0)\n"
   ]
  },
  {
   "cell_type": "code",
   "execution_count": 66,
   "metadata": {},
   "outputs": [
    {
     "name": "stdout",
     "output_type": "stream",
     "text": [
      "710\n"
     ]
    }
   ],
   "source": [
    "counter = 0\n",
    "\n",
    "for number in range(245182, 790573):\n",
    "    \n",
    "    num_str = str(number)\n",
    "    \n",
    "    pair_counter = 0\n",
    "    for i in range(5): \n",
    "        if i == 0: \n",
    "            if (num_str[i] == num_str[i + 1]) & (num_str[i] != num_str[i + 2]):\n",
    "                pair_counter += 1\n",
    "        elif i < 4:\n",
    "            if (num_str[i] == num_str[i + 1]) & (num_str[i] != num_str[i + 2]) & (num_str[i] != num_str[i - 1]): \n",
    "                pair_counter += 1\n",
    "        else: \n",
    "            if (num_str[i] == num_str[i + 1]) & (num_str[i] != num_str[i - 1]):\n",
    "                pair_counter += 1\n",
    "    has_pair = pair_counter > 0\n",
    "    \n",
    "    no_decrease_num_str = []\n",
    "    for a, b in zip(range(5), range(1, 6)): \n",
    "        result = num_str[b] >= num_str[a]\n",
    "        no_decrease_num_str.append(result)\n",
    "    no_decrease = all(no_decrease_num_str)\n",
    "    \n",
    "    if has_pair & no_decrease: \n",
    "        counter += 1\n",
    "\n",
    "print(counter)"
   ]
  },
  {
   "cell_type": "code",
   "execution_count": null,
   "metadata": {},
   "outputs": [],
   "source": []
  }
 ],
 "metadata": {
  "kernelspec": {
   "display_name": "Python 3",
   "language": "python",
   "name": "python3"
  },
  "language_info": {
   "codemirror_mode": {
    "name": "ipython",
    "version": 3
   },
   "file_extension": ".py",
   "mimetype": "text/x-python",
   "name": "python",
   "nbconvert_exporter": "python",
   "pygments_lexer": "ipython3",
   "version": "3.8.0"
  }
 },
 "nbformat": 4,
 "nbformat_minor": 2
}
