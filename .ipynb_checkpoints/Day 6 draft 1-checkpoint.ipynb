{
 "cells": [
  {
   "cell_type": "markdown",
   "metadata": {},
   "source": [
    "Load data, convert to list of tuples. In each tuple, index 0 is the object being orbited, index 1 is the object in orbit."
   ]
  },
  {
   "cell_type": "code",
   "execution_count": 41,
   "metadata": {},
   "outputs": [],
   "source": [
    "def load_data(path):\n",
    "    with open(path) as f:\n",
    "        program = f.read()\n",
    "    return program\n",
    "\n",
    "def parse_data(program): \n",
    "    \"\"\"Function to split string and convert to list of tuples\"\"\"\n",
    "    \n",
    "    program = program.rstrip()\n",
    "    program = program.split('\\n')\n",
    "    program = [tuple(value.split(')')) for value in program]\n",
    "    return program"
   ]
  },
  {
   "cell_type": "code",
   "execution_count": 42,
   "metadata": {},
   "outputs": [
    {
     "name": "stdout",
     "output_type": "stream",
     "text": [
      "[('VM4', '6C4'), ('7KN', '17S'), ('GJY', '8S9'), ('78B', 'DLT'), ('LSK', 'L97'), ('JB7', 'P2M'), ('ZT2', '64G'), ('YVF', 'FCB'), ('1L9', 'C2Q'), ('1TH', 'V5G'), ('Q5K', '2W5'), ('23Y', '25Z'), ('XTW', 'MYZ'), ('C8S', '8S4'), ('2MF', 'Z9X'), ('4TV', 'P9Q'), ('N6P', '349'), ('4HY', '17M'), ('HVY', 'DRY'), ('P31', '5V1'), ('F2W', '7S8'), ('W84', 'XKM'), ('D49', 'SHK'), ('3G5', '6G7'), ('QGF', 'FF7'), ('HCH', 'X94'), ('MCB', 'J58'), ('YCV', 'XGD'), ('W4P', 'DYF'), ('LSW', 'PKQ'), ('LNV', '42V'), ('CVV', 'BRX'), ('1B3', '419'), ('TZT', 'RH6'), ('9VJ', 'CFF'), ('BC8', 'H4V'), ('JVZ', 'XJL'), ('BGN', 'PQ3'), ('3WR', '69K'), ('VK9', 'BD9'), ('MCN', '9FW'), ('DRY', 'S82'), ('3F8', 'D4G'), ('GW9', 'ZZF'), ('QYC', 'HKT'), ('1L5', '1TH'), ('LJV', 'BP3'), ('5W4', '518'), ('B85', 'WTD'), ('LNS', '2XZ'), ('X5V', '22Y'), ('ZCN', 'M73'), ('W6H', 'RNH'), ('SN3', 'FYN'), ('VKR', 'LQ4'), ('8DZ', 'KW8'), ('S82', 'P5J'), ('J59', 'ZMM'), ('861', 'FH8'), ('V5G', 'KGC'), ('N92', 'CHB'), ('6FM', '2XG'), ('ZGM', 'QGF'), ('16Q', '7BP'), ('639', '9KP'), ('5P1', '296'), ('49M', 'J91'), ('YVH', 'D1L'), ('SGJ', 'KT4'), ('PRD', 'B7D'), ('6XM', 'VVZ'), ('L38', 'VY6'), ('T5J', 'R7D'), ('9T8', 'KV5'), ('ZQG', 'KQ3'), ('P9Q', 'NMZ'), ('V5F', 'YG4'), ('6TK', '845'), ('P6M', '6SQ'), ('XZK', 'K4P'), ('NZX', '49W'), ('S1P', 'X5B'), ('KXG', 'DFN'), ('M8C', 'DSX'), ('DHQ', 'SZT'), ('1TN', 'W9C'), ('99B', 'Q5K'), ('5L3', 'HQP'), ('NZV', 'N1W'), ('HW5', 'RFF'), ('Z77', 'LLK'), ('Q5V', '6RR'), ('MP8', 'QH1'), ('PS4', 'W8Z'), ('69M', 'S1H'), ('BRX', '97C'), ('8S8', '5W3'), ('CK9', '5L3'), ('6MB', '2XP'), ('MBN', '1WR'), ('WWV', 'XR5'), ('ND3', 'VZN'), ('KQ5', 'HVF'), ('DJ6', 'SWQ'), ('JKK', '6XF'), ('8B9', 'J4L'), ('T11', 'NZX'), ('Q6R', 'QS5'), ('B3F', 'XJ1'), ('WTD', 'XYM'), ('YCK', 'VN4'), ('8C8', 'RZK'), ('DQP', 'LBL'), ('845', 'XY9'), ('PRL', '4CG'), ('H9K', '2SC'), ('SHZ', 'G6X'), ('1HY', 'S1Z'), ('5VG', 'C29'), ('QC7', 'ZST'), ('CHM', '6M8'), ('PW5', 'Q7Z'), ('CDT', '6MB'), ('RH7', 'J7G'), ('CT4', 'CXS'), ('JWC', '8SZ'), ('MQ9', 'N7R'), ('61P', 'QTC'), ('8RL', '1B3'), ('LZS', 'K81'), ('2W4', 'FTD'), ('TDC', '78B'), ('3QZ', '5X9'), ('QPS', '44C'), ('BFS', 'CPP'), ('1G3', 'ZGM'), ('BJD', 'QYC'), ('YYT', '52V'), ('49W', 'GF6'), ('4WL', 'ZW9'), ('Z6Z', 'JVZ'), ('9PR', 'NCC'), ('54X', 'V1C'), ('8N6', 'WKX'), ('SWQ', 'WF5'), ('KMN', 'F3Z'), ('ZW2', 'F3L'), ('V3X', 'VRK'), ('KPT', '2NT'), ('F4S', '5VG'), ('R3C', '74T'), ('NCJ', 'Y3P'), ('LMF', 'FMB'), ('J56', 'KKT'), ('CNR', 'WH2'), ('1NC', '7VS'), ('CVL', 'FQ6'), ('2PG', 'K1W'), ('YPV', 'SS8'), ('SS8', '46V'), ('95H', 'TQP'), ('JDZ', 'VFW'), ('58T', 'GHL'), ('1QN', 'GXG'), ('H1C', 'LPV'), ('Y67', '5S5'), ('ZZQ', 'SCR'), ('YM3', '2PG'), ('7TQ', 'T11'), ('2QR', '9DZ'), ('MG1', '7RW'), ('2NP', 'WHD'), ('VLY', 'TZT'), ('4JT', 'MX2'), ('XFL', 'WNL'), ('BDV', 'SZ4'), ('WK9', 'NDR'), ('GP7', 'LD1'), ('YV8', 'STD'), ('ZHD', 'SGJ'), ('ZC2', 'B3S'), ('SQZ', '6SM'), ('6VH', '7K7'), ('4P9', '6DB'), ('K39', 'KDR'), ('ZW9', 'XVL'), ('VMZ', '2NP'), ('Y3P', '6XM'), ('LWW', '7KN'), ('YGH', '6CH'), ('B6X', 'TRG'), ('KQ3', '7H6'), ('22X', 'GQ9'), ('43G', 'WTY'), ('1JV', 'SBS'), ('9QB', '9RV'), ('YLQ', 'LJB'), ('MYZ', 'ZL9'), ('LNF', '72M'), ('WKP', '22X'), ('H4C', 'HLD'), ('TN5', '3XH'), ('F3L', '963'), ('G3Q', '8WJ'), ('1DK', '89D'), ('LZ2', 'J3G'), ('B68', '81Z'), ('576', 'S6F'), ('ZGC', '68G'), ('GHL', '5P1'), ('89M', 'WL3'), ('VJH', 'PSH'), ('55J', 'DGT'), ('B9S', '3BS'), ('LF3', 'TBN'), ('2XL', '89M'), ('LPG', 'TC8'), ('B9N', '2ZV'), ('R3S', '2T4'), ('FZL', 'C3F'), ('ZMM', 'C7D'), ('7SK', 'XQP'), ('6GH', 'KFV'), ('C7B', 'V93'), ('G51', '2DN'), ('FYN', '6GH'), ('5HF', '7BB'), ('D47', '4GK'), ('NDR', 'TBB'), ('Z41', 'BN4'), ('BLK', '5HL'), ('5MZ', 'MM5'), ('NWN', '6KR'), ('8SD', 'B1B'), ('9L7', 'Y4W'), ('VYW', 'RHQ'), ('TC3', 'QBL'), ('LBL', '8D5'), ('44B', 'J51'), ('BNV', 'J5V'), ('BD9', 'DM4'), ('G84', 'TN5'), ('935', 'KXG'), ('NWL', '8MY'), ('HQT', 'NTZ'), ('KW8', '14D'), ('NZ5', 'V5N'), ('CPP', 'M6M'), ('1TH', 'X36'), ('D4G', 'VKR'), ('WH2', 'HT8'), ('BC2', 'Z41'), ('MSJ', '9BV'), ('B8T', 'CDC'), ('BC8', 'BWR'), ('QSX', 'VM4'), ('8BY', 'T2B'), ('VJF', 'WFZ'), ('4JM', 'N3R'), ('2GH', 'CLL'), ('VZS', '2XL'), ('8YZ', '149'), ('M19', 'GPY'), ('P14', 'XDH'), ('69M', 'YVF'), ('LGW', 'DHQ'), ('4DB', 'M5S'), ('FR7', 'L3B'), ('2R5', 'LXT'), ('HHX', 'X5P'), ('L97', 'V8M'), ('H2Y', 'WB7'), ('ZCP', 'YG1'), ('2K8', 'SQ9'), ('GXN', 'ZDN'), ('ZGN', 'K42'), ('TXX', 'S1P'), ('NXW', '9MX'), ('M1C', 'JS4'), ('G4Y', 'G9J'), ('89D', 'QV6'), ('4GH', '3VY'), ('KQQ', 'B9S'), ('WG6', '3X2'), ('QBL', '54X'), ('RJB', 'R4S'), ('N77', 'GKV'), ('XDH', 'ZVN'), ('DW1', '9RZ'), ('M1L', 'VN3'), ('GQX', 'M3N'), ('5FY', '4JM'), ('9WY', 'RNK'), ('ZVM', 'GFK'), ('6R4', 'QQW'), ('518', 'MPL'), ('GMY', '589'), ('68B', 'FTK'), ('WR3', '2HC'), ('85G', '2JB'), ('5B5', 'LYP'), ('8J2', 'LNP'), ('WK1', 'MXP'), ('CXS', 'LV6'), ('DDF', 'TJJ'), ('H8H', 'BTV'), ('FP2', 'BLK'), ('LD1', 'HWN'), ('YV5', '8PP'), ('4CG', 'WR9'), ('S6F', '3J3'), ('GDQ', 'MB2'), ('3YL', 'RCH'), ('RF4', 'GQX'), ('3ZD', 'SBD'), ('WB7', 'HDZ'), ('WX7', 'Z9Y'), ('5RT', 'LLW'), ('8S9', 'YHY'), ('FKW', 'W84'), ('FQF', '2BC'), ('68G', 'FKW'), ('6Z4', 'BMP'), ('YZ4', 'G51'), ('XSY', 'SC7'), ('X5B', '8R3'), ('D2C', 'FMS'), ('LSW', 'W97'), ('Q2G', 'W3F'), ('KFV', 'XWR'), ('FQ9', 'SHF'), ('88P', 'JH5'), ('7BP', '4F8'), ('8S7', 'GKN'), ('23G', 'GZM'), ('V8N', 'X96'), ('BMP', 'KKP'), ('LXK', '3Z1'), ('NTQ', '68R'), ('Z78', '3G8'), ('BDQ', 'TM3'), ('R4P', '5SP'), ('NR3', 'D2Z'), ('9FW', 'RWT'), ('FRJ', '6BF'), ('KFV', '79N'), ('CW2', 'K6F'), ('9RZ', 'WK3'), ('MZN', '1M3'), ('GCQ', '615'), ('8D5', 'WGF'), ('JNF', 'N9F'), ('JS7', 'Y13'), ('G5Z', 'SLN'), ('DTX', 'N4J'), ('64G', '2TQ'), ('6GH', 'GFP'), ('HV2', 'JWB'), ('RYV', '9T8'), ('P49', 'B88'), ('KND', '7QV'), ('HDZ', '1TN'), ('F96', '3FM'), ('KB1', 'BF1'), ('HBC', '2Z7'), ('BXC', '82G'), ('C2Q', 'TH1'), ('4GK', 'HMT'), ('CKJ', 'XX4'), ('L6V', '49R'), ('2ZV', 'MTY'), ('MRZ', 'S9K'), ('W5S', '71M'), ('8XD', 'H2R'), ('NMZ', 'B41'), ('TTW', '7RV'), ('Z6S', 'XBS'), ('M8B', 'GP7'), ('R8J', '8WM'), ('NNV', 'LT9'), ('4QY', '7LW'), ('YL3', '82P'), ('Q8G', '5SQ'), ('NPQ', '81X'), ('P6G', '7NK'), ('HZY', '1SH'), ('8C1', 'SGX'), ('SQ9', 'KMN'), ('2X2', '2CQ'), ('TQP', 'GMQ'), ('B6S', 'V7K'), ('YG1', '8W2'), ('FWV', '32G'), ('83C', 'QTY'), ('9K5', '4YP'), ('LV6', 'KXW'), ('X8Z', 'F2W'), ('4K8', 'HJW'), ('PG2', 'YNP'), ('NTZ', 'RLK'), ('CB5', 'G2Y'), ('78F', 'X1V'), ('LY8', 'PL3'), ('W9K', '3CK'), ('TPK', '2Y2'), ('RH6', 'YLJ'), ('6DY', '77G'), ('59F', 'RY1'), ('W2C', '1HY'), ('YK9', 'Y9K'), ('HJK', 'WT4'), ('BF1', 'Q26'), ('HVY', 'F5Y'), ('1V3', 'TJ2'), ('K77', '1G3'), ('FKN', 'R3S'), ('HHJ', 'CFZ'), ('SCR', 'YBL'), ('VKP', 'YQJ'), ('JHT', 'TVH'), ('N4J', '6HF'), ('Q1S', 'SN3'), ('8PP', '9NL'), ('G4Y', '86S'), ('JB1', '4DB'), ('57Y', 'ZGC'), ('K1L', 'B4R'), ('CCP', 'F4Q'), ('M6M', 'TLJ'), ('Q7Z', 'H3N'), ('ZHF', 'YZ9'), ('LGW', '68B'), ('MP8', 'PWD'), ('GMQ', 'P8Y'), ('LPK', 'PV7'), ('QR6', 'QGT'), ('1JM', 'PDT'), ('852', 'JXR'), ('C25', 'XVW'), ('52V', '27F'), ('8LF', 'LJP'), ('7S8', '7SK'), ('WFZ', 'W5S'), ('4FQ', 'R5F'), ('78B', '624'), ('XK6', 'YHL'), ('37Q', 'PWP'), ('DMG', 'FBD'), ('8C1', 'FY7'), ('XQW', '7YZ'), ('MB2', 'FKD'), ('84P', 'C7B'), ('X3S', 'R8J'), ('9QB', 'RXL'), ('CJJ', '16Q'), ('RKF', '8S7'), ('1DP', 'FX2'), ('J2G', 'JK2'), ('7HY', 'B6N'), ('XJL', 'Y67'), ('B4L', '2JC'), ('WJZ', '8MJ'), ('DBB', 'RBG'), ('6WR', 'XFP'), ('YHY', 'CNW'), ('ZVN', 'PR2'), ('H5V', 'C9B'), ('YQJ', '5C7'), ('G76', '7HQ'), ('4B6', 'GWS'), ('LS8', '3DQ'), ('HX1', '1N4'), ('8Q9', 'DTX'), ('4NL', 'YY7'), ('VN3', 'S6B'), ('MM5', 'QHC'), ('GXJ', 'PGV'), ('6SQ', 'LZ2'), ('82G', 'VYW'), ('KPV', 'CK9'), ('314', 'CK2'), ('1TJ', 'GFW'), ('3XR', 'VT1'), ('2SC', 'XCV'), ('3J3', 'W9R'), ('8NX', 'CFH'), ('VRK', 'YPV'), ('8N7', 'LHK'), ('PV7', 'N77'), ('V53', '852'), ('JZJ', '8N6'), ('NX8', 'HZC'), ('TGK', '2PV'), ('RHS', 'M34'), ('L8J', 'KVT'), ('721', 'GXN'), ('95Q', 'HQT'), ('7VS', 'Z1V'), ('HG8', '6N7'), ('8SZ', 'JKK'), ('FV6', 'RYV'), ('B41', 'RCK'), ('TNX', '3JQ'), ('F6S', 'M1L'), ('8MJ', 'N61'), ('4B6', 'ZHF'), ('S2V', 'KQQ'), ('X91', '5LR'), ('2XZ', '3J6'), ('F8W', '1QN'), ('1CK', 'FSN'), ('B5Z', '2K8'), ('P2M', 'NPQ'), ('59Y', 'YD8'), ('1WR', 'JB7'), ('3YR', '3N8'), ('FBR', 'M8B'), ('VHW', '8G1'), ('5KS', 'C7N'), ('WMS', '8Q9'), ('5NY', 'WR3'), ('4T1', 'WB4'), ('PHB', 'S2V'), ('VYT', '35X'), ('FWF', 'K7K'), ('9K5', 'V3B'), ('V5N', 'JWC'), ('T5D', 'SMP'), ('TM3', 'R4N'), ('17M', '7B5'), ('1DW', '3F6'), ('RF3', 'M1P'), ('767', 'FPB'), ('B4W', 'VMZ'), ('YJ2', '8BD'), ('CNK', 'R83'), ('2TQ', '7XK'), ('H5P', 'FV6'), ('SB5', 'MW2'), ('DNP', 'NCJ'), ('ZDN', 'LWR'), ('LNV', 'Q1N'), ('9RV', '8XS'), ('55K', '44B'), ('BDY', 'FY8'), ('NHZ', 'NR3'), ('9WY', 'L5B'), ('GKV', 'LZS'), ('GGJ', 'LB9'), ('K26', 'NNK'), ('MYZ', 'WC2'), ('G7S', '2QW'), ('N1V', 'XC7'), ('WT4', 'PLG'), ('PYL', '62L'), ('P7P', '6W7'), ('SXJ', 'RF3'), ('2W5', 'DF6'), ('Z7B', 'WRL'), ('M5H', 'N6G'), ('1T3', 'HG6'), ('VCD', '8D4'), ('KM6', 'NFF'), ('1QT', '899'), ('9X2', '7JV'), ('WJ2', '93L'), ('3GM', 'BCX'), ('6BF', '5CX'), ('HF2', '4NT'), ('TXX', '2VT'), ('7H6', 'JK1'), ('KBF', '87T'), ('FGS', '6P5'), ('GTR', 'JS7'), ('B2H', 'GJ3'), ('NCC', 'HHJ'), ('MTY', 'QHW'), ('TRG', 'QNK'), ('QDG', 'XKR'), ('VT1', '4KQ'), ('X96', 'LZC'), ('XR9', '69S'), ('Z75', 'DBB'), ('CFS', 'DCM'), ('HCH', '8SD'), ('TH1', 'YZN'), ('HWN', '91L'), ('F1H', '8MS'), ('329', 'BZD'), ('319', 'XLL'), ('6KF', 'ZBN'), ('ZCN', 'ZZ9'), ('B3S', 'ZLJ'), ('5PV', 'ZM9'), ('RZB', '7GG'), ('WB4', '9JT'), ('1Q7', 'VB7'), ('QTY', 'J84'), ('XQP', '134'), ('4BY', 'FS3'), ('L7J', '95G'), ('Z1V', 'ZQB'), ('2Y2', 'X6K'), ('8BN', 'MMB'), ('ZFB', 'T9R'), ('B4J', 'BXC'), ('9XV', '4X4'), ('CDC', 'TLK'), ('K6J', 'HD8'), ('JW8', 'T76'), ('3G8', 'RHS'), ('TQ6', '7VN'), ('2R9', 'HQX'), ('KKT', 'CCP'), ('8XX', 'LXK'), ('2VQ', '3P2'), ('BRX', '4HY'), ('5PV', 'NQC'), ('V2D', 'WG6'), ('HKT', '41S'), ('WTY', 'FSG'), ('LYP', 'JPJ'), ('6N7', 'XTW'), ('NWN', '1XP'), ('ZMB', 'J4S'), ('MT4', '63J'), ('CLL', 'JHT'), ('6FM', 'R3N'), ('RV6', 'M83'), ('KBZ', 'FB2'), ('6FZ', '56T'), ('LJH', '8C1'), ('5CX', 'P49'), ('HQX', '3XZ'), ('TXJ', '69M'), ('9P3', 'ZWG'), ('NNK', 'PRD'), ('LXT', 'B4W'), ('2VT', 'QR6'), ('1WR', 'C75'), ('GW2', 'P7P'), ('6P5', 'YJ2'), ('BHS', '1JB'), ('PR2', 'GBB'), ('X6H', 'TPK'), ('K7P', '1L5'), ('SZT', 'FWV'), ('C8P', '4P9'), ('39Q', 'R4P'), ('WNZ', 'D1H'), ('KVD', 'LYL'), ('YBL', '378'), ('XFP', '2ZW'), ('R8C', '1GD'), ('71T', '6DW'), ('78G', 'BJD'), ('2Z7', '3M8'), ('KZV', 'FH1'), ('C71', 'SCG'), ('TNN', '5M4'), ('DSX', 'MCB'), ('FTQ', 'RGM'), ('5VW', 'NVV'), ('JXK', '2FF'), ('28V', '16Z'), ('XMC', 'YZ4'), ('3DP', 'SLM'), ('P12', '2JW'), ('LD5', 'HB4'), ('HGL', '1D9'), ('L1Q', '4B6'), ('F5W', 'L29'), ('J3G', 'ZZY'), ('PZK', 'M4N'), ('7JV', 'ZBT'), ('9RM', 'DT7'), ('XC7', 'YK9'), ('K79', '9VJ'), ('Q1N', 'ZBD'), ('Z1W', 'T9C'), ('K6B', 'N4F'), ('68M', 'B8M'), ('QGY', '5ZG'), ('6TS', 'TQ6'), ('F5M', 'DNL'), ('WR9', 'FY4'), ('3PY', 'Z8V'), ('637', 'FBR'), ('YQR', 'RF4'), ('LG1', 'PRL'), ('BXW', '2HZ'), ('TCK', 'HW5'), ('P5J', 'XB4'), ('YZ2', 'PYL'), ('GCT', '9P3'), ('8D4', 'NBM'), ('2TQ', 'GW3'), ('WGF', 'NZ5'), ('6YX', 'C25'), ('F7C', 'J6R'), ('7HQ', '68M'), ('52V', 'XC5'), ('7YZ', 'CDT'), ('GV5', '9QB'), ('963', 'VK9'), ('HTQ', 'R7J'), ('28V', 'JSY'), ('M3F', 'H8H'), ('N7J', 'KBZ'), ('61P', '79R'), ('ZWG', '31C'), ('F2N', 'J9D'), ('GWK', 'B3V'), ('X47', 'H7F'), ('2W2', 'ZVM'), ('1ZP', 'H1T'), ('WL3', '1T7'), ('1ZS', 'TRV'), ('W5Y', '4C1'), ('9D5', '8K3'), ('NZG', 'YQR'), ('J9D', 'V53'), ('GFP', '5HF'), ('V2P', 'VHW'), ('BK5', 'T4V'), ('FDY', '1JM'), ('HCN', 'XJJ'), ('FBD', 'P5W'), ('J7G', 'YR5'), ('CR7', '1RG'), ('LPB', '95P'), ('CXQ', 'HG8'), ('49R', '7HH'), ('K9X', 'DMG'), ('JPJ', 'SYY'), ('RZK', 'BM4'), ('XKR', 'BC2'), ('J8B', 'TXD'), ('H4V', 'Z1W'), ('RFF', 'K6J'), ('8HL', 'F3X'), ('FPB', 'LWW'), ('QV7', 'B6S'), ('M5S', 'FTQ'), ('B4T', 'QG4'), ('F9V', '9K5'), ('YR5', 'KTZ'), ('J4L', 'MMM'), ('Q26', '9D1'), ('JBJ', '3T4'), ('NNS', 'ZCP'), ('L29', 'NQH'), ('QLQ', 'BC8'), ('FTK', 'P4N'), ('XYW', 'QLQ'), ('RMC', 'Z3B'), ('C9B', '6HL'), ('R1Z', 'KFR'), ('HLD', 'K6W'), ('FSG', 'DRQ'), ('539', 'WJ2'), ('J5X', '7BY'), ('P4X', 'H4C'), ('K6W', 'MVQ'), ('TK4', 'RZG'), ('RWT', 'T5J'), ('MJK', 'RFK'), ('3S5', '779'), ('3CK', 'NWY'), ('JVK', 'DKR'), ('272', '2MF'), ('4X6', 'Q3T'), ('ST2', 'GCQ'), ('JVX', 'R1K'), ('2H8', 'XR9'), ('2CX', 'K8H'), ('SD8', 'NWL'), ('TLY', 'XK6'), ('RRV', 'KCT'), ('F3X', '539'), ('PGV', '6DY'), ('K1W', '2TY'), ('X56', 'MYW'), ('KP5', '6YH'), ('RHZ', 'P14'), ('JC9', '3ZD'), ('2T4', 'H1K'), ('4BY', 'PPZ'), ('BP3', 'C8S'), ('QHW', 'HM3'), ('RK8', 'FRJ'), ('BND', 'ZV5'), ('RJ8', 'XQ8'), ('PDT', '6FZ'), ('2HL', '9Q3'), ('JXR', '18G'), ('3Z1', '61P'), ('5B9', '4LN'), ('378', '4TV'), ('SLM', 'G37'), ('PWP', 'W2C'), ('9PG', '7FK'), ('HC8', 'ZFT'), ('T1S', 'KBF'), ('K4P', 'SQZ'), ('C7D', 'Y5C'), ('3C6', 'F8W'), ('LT9', 'X47'), ('BDK', 'KPQ'), ('DWM', 'MQ9'), ('6SX', 'X3S'), ('QC1', '7RC'), ('BZ4', 'P31'), ('XRX', '7TF'), ('35X', '9XY'), ('XHW', 'SHZ'), ('Y54', '3CJ'), ('QFR', 'KZL'), ('FY7', '4LD'), ('Y5T', 'MT4'), ('TJJ', 'TW3'), ('4PF', 'KR5'), ('2W2', 'YVH'), ('KJY', '1JV'), ('D1V', '8WF'), ('J91', 'WW5'), ('HZC', 'K77'), ('PLG', 'YM3'), ('B8H', 'N1V'), ('2DN', 'TVD'), ('WKX', 'YBK'), ('27F', '2QR'), ('9NL', 'B47'), ('D2Z', 'S78'), ('FKD', 'J92'), ('1TN', '329'), ('GFK', 'F5M'), ('JS5', '6GM'), ('K81', 'RV6'), ('6FX', '585'), ('5LR', 'MG1'), ('LPV', 'LVV'), ('XBX', 'R9L'), ('2GB', '6ZN'), ('WFS', 'HX8'), ('5SQ', 'H5P'), ('3DR', 'PZH'), ('L45', '3SP'), ('ZK8', 'TDV'), ('LWH', 'L45'), ('M1P', '3P1'), ('MV5', '2HL'), ('229', '5RK'), ('6M8', 'NHZ'), ('H55', 'V3G'), ('DNL', '57Y'), ('C1K', 'BXW'), ('FMB', 'X7W'), ('7DC', '4T1'), ('BN4', 'Q17'), ('JXB', 'XBX'), ('W9C', '37Q'), ('86S', '89B'), ('VZN', '83C'), ('XWB', 'L5H'), ('7BB', 'SB5'), ('S4M', 'V3X'), ('4F3', '4G7'), ('Q3T', '11J'), ('4X4', '3WS'), ('9BV', 'LF3'), ('M6T', 'D1V'), ('ZYS', 'BBW'), ('KFR', '3C3'), ('79R', 'Z28'), ('P4N', 'BHS'), ('TRV', 'GPP'), ('M3N', 'N92'), ('LVM', 'WJ7'), ('FTD', '3PX'), ('D85', 'FCW'), ('L5H', 'ZFB'), ('HN1', 'LJH'), ('JN4', 'TR2'), ('7VN', 'MQ2'), ('N2Y', 'WPW'), ('5S5', 'XP3'), ('S1Z', 'YNF'), ('3M8', 'ZDD'), ('5KH', '2ZQ'), ('CHB', 'F85'), ('2QW', '78F'), ('32G', 'YCP'), ('XKM', 'W54'), ('56C', 'VJ1'), ('6D6', 'PQH'), ('3FM', 'W9K'), ('M34', 'TNN'), ('JHC', 'KB1'), ('JLS', 'HC8'), ('KCT', 'QV7'), ('W8G', '3B7'), ('4L8', 'N6P'), ('W97', 'D49'), ('LQ4', 'Z78'), ('JCW', 'RZB'), ('VK9', 'PF7'), ('WW5', 'G28'), ('PLG', 'ZGN'), ('KR5', 'G4Y'), ('S6F', '5MZ'), ('V2C', '2R9'), ('4G6', 'YLQ'), ('4C2', 'D47'), ('Q2F', 'B4J'), ('8BD', 'MRZ'), ('R83', 'YCK'), ('GQ9', '44N'), ('9QK', 'HCN'), ('22Z', 'JJ1'), ('LRK', '6FX'), ('68R', 'TK4'), ('DZ2', 'FKN'), ('2LM', 'J2G'), ('G4Q', 'YCH'), ('PQ7', 'Z7B'), ('SNW', 'WFX'), ('7B5', 'TTS'), ('P2Y', '5Z3'), ('3P1', 'RHZ'), ('3BS', 'GMY'), ('V8R', '8ZF'), ('9KY', 'MTN'), ('FF7', 'V9M'), ('Z28', '4G5'), ('QNK', 'XZK'), ('PQH', 'ZT2'), ('W54', 'YOU'), ('Y2Y', '34X'), ('G74', 'M4M'), ('KC1', 'JKD'), ('SWQ', 'PG2'), ('1JM', 'RH7'), ('LJP', 'ZMB'), ('LHK', '1CK'), ('5YV', 'GTR'), ('44C', 'BYH'), ('H2R', '971'), ('W8Z', 'KJY'), ('FH8', 'ZF9'), ('8R3', 'RLL'), ('RY1', '2B1'), ('C7N', '4QY'), ('6HF', 'M1C'), ('2BC', '8LF'), ('2JB', 'SAN'), ('55P', '5YV'), ('XYM', 'CVV'), ('71M', 'VXN'), ('69X', '1TJ'), ('11J', '2CX'), ('RKF', 'WC6'), ('B4J', 'XM1'), ('M7W', 'QJ5'), ('GKN', 'LPK'), ('7D6', 'JCT'), ('D1D', 'RKF'), ('J1P', '2GB'), ('ZZ9', 'YWJ'), ('16Z', 'WK9'), ('589', '3Q2'), ('K9X', 'QS1'), ('XB4', '9RH'), ('ZZQ', 'B2S'), ('QXR', '5MW'), ('6SM', 'PMB'), ('1W5', '9XR'), ('V49', 'WPB'), ('X94', 'C9F'), ('14D', 'QFR'), ('6G7', 'F9W'), ('CNJ', '8P3'), ('KT4', 'HF2'), ('7HH', '5KK'), ('7RC', 'W8G'), ('5C7', 'R4Z'), ('9FZ', 'DN9'), ('8ZF', 'RK8'), ('GZM', 'B9N'), ('Q2J', 'JPH'), ('R5F', 'L8J'), ('XYW', '6KN'), ('R3N', 'P2Y'), ('GW2', '639'), ('42V', 'KPV'), ('3XZ', 'TN6'), ('WJ7', '3XF'), ('JSY', '8HL'), ('J4S', '2LM'), ('XQ8', 'QR8'), ('Z83', 'LYV'), ('ZM9', 'W7G'), ('FSN', 'DQH'), ('KMN', '18X'), ('V3B', 'BNV'), ('TDJ', '9G7'), ('VYT', 'CSH'), ('CYZ', 'TNX'), ('RCH', 'V8G'), ('3SP', 'PHB'), ('DM4', 'QDG'), ('34X', '25T'), ('XLL', '43G'), ('9RH', 'B5Z'), ('8P3', 'KLB'), ('WD2', '4MH'), ('QGT', '6VH'), ('9XR', 'C71'), ('S35', '1TW'), ('8QD', '62J'), ('25Z', 'JSV'), ('X6H', '7FJ'), ('HBL', '5W4'), ('3HN', 'DBQ'), ('59F', '1W5'), ('DRQ', 'HQJ'), ('TMX', 'NZV'), ('GGP', 'J59'), ('GF6', '4G6'), ('N6G', '1NC'), ('WC6', '3C6'), ('95G', 'CXQ'), ('VJX', 'QPS'), ('MMB', 'V8R'), ('4W2', 'B4L'), ('44N', 'CY6'), ('K7T', 'LV5'), ('JB7', 'NML'), ('M4N', '85R'), ('FMS', 'K6B'), ('3PX', 'L15'), ('PSH', 'ZK8'), ('8XS', 'K7P'), ('ZFT', 'GWK'), ('HD8', 'M7W'), ('SNP', 'D85'), ('3LP', 'VJH'), ('1YC', 'G4Q'), ('JN4', 'NWN'), ('ZZF', 'CFS'), ('YY7', '9LP'), ('FP1', 'PZY'), ('K6N', 'YYT'), ('WFX', 'XWB'), ('8CJ', '2PT'), ('LZ4', 'JKR'), ('J6R', 'VJX'), ('7BY', 'CB5'), ('S1H', 'LVM'), ('9XY', 'V2C'), ('ZBT', 'G3Q'), ('4RV', '6WR'), ('COM', 'SNP'), ('YHL', 'HBH'), ('G6X', '637'), ('NJ9', 'LKV'), ('YG4', 'W1Z'), ('GLW', 'P6M'), ('HDF', '725'), ('Y9K', '9T4'), ('74T', 'Q2G'), ('DLF', '229'), ('KBW', '43T'), ('85R', 'QSX'), ('4G5', '2VQ'), ('4KQ', '84P'), ('FCB', 'MBN'), ('8G1', 'HY7'), ('TJ2', '935'), ('TC6', '3FF'), ('MJ2', 'Y6S'), ('H3N', 'CC1'), ('VXN', '6TS'), ('R4N', 'Q2F'), ('DQK', 'D2H'), ('JCT', '6TK'), ('4MH', 'SNW'), ('2HZ', '2BT'), ('B7D', 'KM6'), ('PZH', 'HGL'), ('3B7', 'LS8'), ('LQV', 'XWX'), ('TBN', 'TTW'), ('2FH', 'VPC'), ('4KJ', '3BN'), ('961', 'FQF'), ('G37', '1R7'), ('V4K', 'LNV'), ('N1W', 'JS5'), ('HQP', 'JNF'), ('3Q2', 'KPT'), ('DF6', 'CKJ'), ('HQJ', '1PR'), ('YJK', 'Y2Y'), ('82P', '141'), ('WJ7', 'TLY'), ('C29', '17T'), ('L97', 'R1Z'), ('CFZ', '8T2'), ('ZQB', 'CJJ'), ('H39', 'J56'), ('5ZG', '1ZS'), ('TS8', '1P5'), ('5ZF', '45C'), ('3SY', 'THK'), ('85Y', 'LD5'), ('8XS', 'L38'), ('ZDZ', 'TS8'), ('RCK', 'WK8'), ('MMB', 'DMM'), ('4GH', 'X6H'), ('XCV', '42H'), ('M9Z', '2BF'), ('QGT', '95Q'), ('WMG', '5ZF'), ('PMB', '5KS'), ('YTB', 'CJD'), ('SHF', 'ZKH'), ('558', '8RJ'), ('V33', '9QK'), ('18G', 'KND'), ('ZDD', 'X8Z'), ('FV3', 'NTC'), ('95G', '1QT'), ('9T4', 'DQP'), ('7RW', 'C1K'), ('RJ8', 'PW5'), ('4C2', '3SY'), ('TLJ', 'RN8'), ('1R7', 'M5H'), ('L6L', 'CH2'), ('MH4', 'TGK'), ('GNH', 'GJY'), ('QQW', 'YL3'), ('9BG', 'VZS'), ('149', 'HVY'), ('P6M', 'FCG'), ('NJJ', 'FGS'), ('7FJ', 'NPN'), ('2TY', '59F'), ('Y13', 'ZW2'), ('NNV', 'SND'), ('YWJ', 'BDV'), ('KJ7', 'F7C'), ('DGT', '319'), ('CC1', '767'), ('RD7', 'YCV'), ('PMB', 'GV8'), ('DH3', 'N8M'), ('PQ3', 'MJ2'), ('YCF', '27B'), ('675', 'J5C'), ('6SQ', '2C8'), ('97C', 'K9Q'), ('4C6', 'RD7'), ('SGL', '6Z4'), ('ZQR', '6FM'), ('SYY', '8QD'), ('4G7', '1KW'), ('HT8', 'LDB'), ('ZT1', '7HD'), ('8MS', '5B9'), ('BZK', '861'), ('G28', 'JVX'), ('81Z', 'RJB'), ('RGM', 'FBV'), ('8T2', 'MQB'), ('BJT', 'GW2'), ('349', 'PQ9'), ('N61', '2X2'), ('56T', 'H5V'), ('S9K', 'HBL'), ('6ZN', 'MYB'), ('MPL', 'PF9'), ('7FK', '7HW'), ('1D9', 'NX8'), ('SMP', '85T'), ('PZY', 'ZNW'), ('7MQ', 'J1M'), ('6XM', 'K4H'), ('3F6', '2RG'), ('LJB', 'Z7C'), ('6HL', 'Q6R'), ('9J4', 'N56'), ('6R4', '56C'), ('2XG', 'H93'), ('FR4', 'G74'), ('TSJ', '4C2'), ('HB4', 'CNR'), ('9D1', '2W4'), ('F4Q', 'CW2'), ('G7X', 'Z7X'), ('FH1', 'RMC'), ('T9R', 'L7J'), ('KKP', '3XR'), ('2ZQ', 'PQ7'), ('LWR', 'V33'), ('63J', 'L6V'), ('ZBN', '1N5'), ('WPB', '3S5'), ('FKN', 'V5F'), ('L1Q', '9N9'), ('7RV', 'ZT1'), ('B1B', 'VJF'), ('KMY', 'BND'), ('C9F', 'NNV'), ('RY1', 'B68'), ('5Z3', 'KC1'), ('R4S', 'J1P'), ('39V', 'H9K'), ('1JB', 'H2Y'), ('3XW', 'K39'), ('9W9', '8B9'), ('PQ9', 'ST2'), ('9PB', 'Y54'), ('X14', '4C6'), ('JG9', 'ZHD'), ('5M5', 'DLF'), ('81X', 'HN1'), ('3XH', '2R5'), ('8LJ', 'NTQ'), ('GW3', '3YR'), ('TVD', 'LZ4'), ('DMM', '9X2'), ('J19', '3LP'), ('95P', 'JB1'), ('17T', 'FDY'), ('LZC', '4KJ'), ('FY4', 'TNQ'), ('DZV', 'G76'), ('725', 'Z6T'), ('2XP', 'FR4'), ('CFF', 'WMS'), ('WRL', 'STF'), ('3T4', '6YX'), ('NTC', 'V8N'), ('Z3B', 'ZCN'), ('1ML', 'WKB'), ('VY6', 'DZV'), ('JH5', 'K4J'), ('TVH', 'QPW'), ('624', '9XV'), ('5F5', '4F3'), ('8K3', 'FCF'), ('9QL', 'HFF'), ('69S', 'GZ5'), ('5V1', '23Y'), ('P48', 'BZ4'), ('BS2', '4JT'), ('N4F', 'F9V'), ('GPS', '1YC'), ('T9C', 'Z2K'), ('Z7X', 'WFS'), ('Z2K', 'HBC'), ('7XK', 'ZRR'), ('VHW', 'J5X'), ('V9M', 'ZKP'), ('K75', 'JG9'), ('GXJ', 'LRK'), ('TW3', 'G7S'), ('31C', 'LCW'), ('4T1', '8J2'), ('MBB', '2HV'), ('LPN', 'CHM'), ('3J6', 'KMY'), ('5X9', 'P91'), ('JKR', 'ND3'), ('L15', 'WWV'), ('SZ4', '7DC'), ('G9J', 'DC8'), ('BY5', 'DNP'), ('LLW', 'VKX'), ('TDV', 'ZNR'), ('JFX', '3HR'), ('LKV', 'P6G'), ('L5B', '2GH'), ('BTV', 'JC9'), ('TVT', 'HD9'), ('ZV5', 'CYZ'), ('NQH', 'D1D'), ('2PV', 'WKP'), ('BCX', 'X14'), ('6W7', 'R28'), ('W52', 'ZNK'), ('79R', 'F6S'), ('ZKH', 'VYS'), ('5Q7', '182'), ('7QV', '2W2'), ('6YH', '8NX'), ('MQ2', '95H'), ('GCQ', '9W1'), ('2HV', 'XKN'), ('6XF', '4L8'), ('SND', '8XD'), ('GPP', 'LSW'), ('RL2', '3Q4'), ('QNK', 'S35'), ('GCS', 'NRS'), ('SC7', '1ZP'), ('ZNK', 'DW1'), ('NPN', 'W4P'), ('D6L', 'R3C'), ('86T', 'B4T'), ('L33', 'GCS'), ('ZPG', 'HV2'), ('1PR', '6J7'), ('2ZW', 'LMF'), ('5M4', '1B4'), ('B88', '3DP'), ('WSJ', '49M'), ('8WF', '99B'), ('8S4', 'N3B'), ('6CH', 'MSJ'), ('D49', 'V49'), ('9DZ', '576'), ('3XF', '6D6'), ('R1K', 'LWH'), ('7TF', 'LQV'), ('V1C', 'SB9'), ('D1L', '3GM'), ('GFW', '5M5'), ('5RK', '85G'), ('ZL9', 'DJ6'), ('SGX', '558'), ('28P', '9J4'), ('GJ3', '9L7'), ('JK2', 'Z6S'), ('6J7', 'J19'), ('WNL', 'FP2'), ('N9F', '93B'), ('6DW', '39V'), ('FWF', 'JCW'), ('W7G', '59Y'), ('F9W', '6SX'), ('H6C', 'YJK'), ('YQ9', 'F2N'), ('RNK', 'BDK'), ('C4L', 'VKP'), ('QPW', '9QL'), ('FZL', 'LPN'), ('38F', '3DR'), ('GV5', '272'), ('WK8', '7TQ'), ('K4J', 'JMW'), ('QV6', '4GH'), ('2B1', 'BDQ'), ('55P', '9QD'), ('9QD', '7D6'), ('S78', 'LY8'), ('7SF', 'GSK'), ('YNP', 'ZC2'), ('R28', 'YCF'), ('69K', 'G16'), ('3Q2', '3HN'), ('J6C', '22Z'), ('Q2G', 'LMM'), ('FCW', 'JN4'), ('3WS', 'SD8'), ('QWB', '4PF'), ('1P4', 'R8C'), ('TNQ', 'NZG'), ('YR5', 'B85'), ('K7K', 'GLW'), ('P8Y', 'G5Z'), ('ZNR', 'NJJ'), ('SBS', 'B8T'), ('2HC', '6YS'), ('9MX', 'MM7'), ('ZQM', 'WD2'), ('93B', 'XMC'), ('N3P', 'TMX'), ('JK1', '9RM'), ('W6F', 'W52'), ('144', '86T'), ('9VJ', '6KF'), ('1B4', 'PS4'), ('Z7C', 'B7P'), ('W97', 'Y5T'), ('MVQ', '8N7'), ('WC2', '55J'), ('GXG', 'K7T'), ('DC8', 'YGH'), ('BYH', 'KJ4'), ('6RR', 'LPG'), ('Y5G', 'M9Q'), ('77G', 'M9Z'), ('2RG', '4W2'), ('FY8', '3PY'), ('G37', 'K9X'), ('5SP', 'LGW'), ('2HV', 'BFS'), ('3N8', 'KQ5'), ('62L', 'TVF'), ('971', 'KVD'), ('182', 'CNK'), ('DBQ', 'P12'), ('BWR', '9WY'), ('JQV', '4RV'), ('QS1', 'X56'), ('B2S', '8LJ'), ('2CQ', 'CCQ'), ('2B1', 'GCT'), ('ZDN', 'B2H'), ('FS3', 'HSL'), ('SYY', 'S4M'), ('79N', 'JLS'), ('847', '9LB'), ('7TQ', 'BS2'), ('9BG', '7VB'), ('6KN', 'X11'), ('85T', 'XRX'), ('HMT', 'L1Q'), ('DRV', 'Q5V'), ('QHC', 'F1H'), ('1MS', 'H6C'), ('7J2', '38F'), ('TVF', '39Q'), ('Z4F', '4BY'), ('8RJ', '8LM'), ('2Q6', '9W9'), ('DQH', 'LG1'), ('FF6', 'M19'), ('GBB', 'TCK'), ('TRG', '8XX'), ('25T', 'X5V'), ('LNP', '1ML'), ('8LM', 'FZL'), ('3P2', 'FW5'), ('QC7', 'DRV'), ('PKQ', 'N3P'), ('HM3', 'PZK'), ('WKB', '3QZ'), ('9W1', 'QC7'), ('V8M', 'HHX'), ('Z9Y', '5NY'), ('L2G', '5PV'), ('H1T', 'GV5'), ('BBW', 'VLY'), ('DN9', 'K26'), ('2FF', 'M3F'), ('MCB', 'XQW'), ('D1H', 'G7X'), ('K8H', 'DQK'), ('6D6', 'W5Y'), ('G2Y', 'BY5'), ('ZST', '3F8'), ('VZM', 'B8H'), ('FCF', 'SXJ'), ('8W2', 'BJT'), ('KZL', 'F4S'), ('RRV', '8CJ'), ('KBZ', 'YXP'), ('P91', 'MFD'), ('Y4W', '85Y'), ('419', 'LNS'), ('63J', 'SGL'), ('WT4', 'P56'), ('JNF', '8YZ'), ('F5Y', 'GW9'), ('XX4', 'HJK'), ('K42', 'TC3'), ('899', '2Q6'), ('2BF', '8S8'), ('NML', 'LJV'), ('D2H', 'YZ2'), ('62J', 'YND'), ('ZF9', 'M6T'), ('4LN', '314'), ('PPZ', '4NL'), ('NRS', '4X6'), ('VVZ', 'W6H'), ('R4Z', '9PB'), ('YDC', 'WK1'), ('BP3', '9FZ'), ('P8V', 'M2D'), ('DT7', 'QYD'), ('1N4', 'L2G'), ('1RG', 'NXW'), ('34X', 'ZQG'), ('MYW', '721'), ('2NT', 'FV3'), ('M9Q', 'JN6'), ('33R', 'ZQM'), ('3SY', 'L84'), ('PF7', 'F96'), ('YLJ', 'XSY'), ('3HR', 'TC6'), ('F3Z', 'M8C'), ('QJG', 'FF6'), ('NVV', '4K8'), ('MM7', '8BY'), ('G16', '1T3'), ('CH2', '4WF'), ('PZH', 'WQJ'), ('KJ7', 'WJZ'), ('MB2', 'T5D'), ('YND', 'TLF'), ('JPJ', '847'), ('FBV', 'H55'), ('5SQ', 'G4V'), ('4KJ', '5KH'), ('RLK', 'NNS'), ('QJG', 'KBW'), ('FX2', '4WL'), ('585', 'RJ8'), ('7NK', 'HZY'), ('NWY', 'K1L'), ('93L', 'N2Y'), ('8H5', 'X2K'), ('CNW', '5FY'), ('RFK', 'M3P'), ('NVV', 'DWM'), ('HSL', 'FP1'), ('QG4', 'Z4F'), ('7HW', 'J9P'), ('3Q4', 'GPS'), ('WW5', '1DP'), ('PF9', 'MQC'), ('SLZ', '3YL'), ('JZJ', 'GXJ'), ('HBH', 'MSQ'), ('MSQ', 'JW8'), ('6YS', 'K79'), ('1N5', 'DZ2'), ('LMM', 'LNF'), ('LKW', '5F5'), ('G4V', 'B6X'), ('TR2', 'Y5G'), ('2V2', 'KJ7'), ('3DQ', 'BZK'), ('JS4', 'SLZ'), ('H93', '88P'), ('L3B', 'CVL'), ('J92', '7HY'), ('7HD', '7FQ'), ('NQC', 'GNR'), ('79N', 'TDJ'), ('VJ1', '2FH'), ('9G7', 'BGN'), ('3C3', '78G'), ('XWR', 'C4L'), ('M1P', '1DW'), ('XJ1', 'JQV'), ('KTZ', 'FQ9'), ('1XP', '5B5'), ('B3F', 'GDQ'), ('SNP', 'Q8G'), ('4LD', 'TRL'), ('615', 'BDY'), ('F9V', '9KY'), ('CCQ', 'P48'), ('WTD', 'MCN'), ('RFV', '8BN'), ('TXD', 'RFV'), ('C4L', 'YTB'), ('FBR', '97L'), ('1HN', 'KCX'), ('V8G', 'B3F'), ('MG1', 'LKW'), ('V93', 'T48'), ('R7D', 'MV5'), ('M83', 'X91'), ('42H', 'TMZ'), ('YD8', '675'), ('WF5', '1HN'), ('M2D', 'Z83'), ('GNR', 'Z6Z'), ('CJD', 'VM6'), ('F1H', 'KZV'), ('MQC', 'J8B'), ('45C', 'RD1'), ('46V', '3QM'), ('ZBD', '23G'), ('22Y', 'LMC'), ('KPQ', 'NGV'), ('TBB', 'Q2J'), ('91L', 'R2C'), ('BM4', 'CT4'), ('2JC', 'MP8'), ('3VY', 'LSK'), ('5HL', '1Q7'), ('LDB', 'XW5'), ('JKD', '2V2'), ('LMC', 'HDF'), ('3X2', '7J2'), ('SN3', 'Z75'), ('HD9', 'KP5'), ('K6F', 'JCH'), ('RXL', 'JDZ'), ('B7P', '1V3'), ('LYV', 'HX1'), ('9CV', '1L9'), ('W1Z', 'ZDZ'), ('5KK', '144'), ('KVT', 'LV1'), ('KGC', 'GGJ'), ('NQC', '28V'), ('ZNW', 'D2C'), ('JN6', 'MZN'), ('SBD', 'HCH'), ('2BT', 'CR7'), ('YZ9', 'WMG'), ('1DP', '5Q7'), ('89B', 'JFX'), ('JJ1', 'QQX'), ('1TW', '9PG'), ('LLK', 'BK5'), ('BZD', '55P'), ('7K7', '28P'), ('Z6T', 'QWB'), ('X1V', 'BM1'), ('QDG', 'D6L'), ('Y5C', 'XYW'), ('XW5', 'VZM'), ('2H8', 'NJ9'), ('QH1', '5VW'), ('9KP', 'QC1'), ('KDR', '9PR'), ('Q17', 'JXK'), ('9X2', 'XFL'), ('RN8', '9CV'), ('LB9', 'LPB'), ('FB2', '5RT'), ('J5V', 'W6F'), ('4YP', 'HTQ'), ('FCG', 'JBJ'), ('XBS', 'DH3'), ('NWY', 'QGY'), ('XM1', 'WSJ'), ('XR5', 'H39'), ('WQJ', 'V2P'), ('RNH', 'TDC'), ('MX2', 'P8V'), ('J84', 'P4X'), ('RD1', '7SF'), ('SCG', '3XW'), ('TTS', 'JHC'), ('NDR', 'GNH'), ('97L', '23X'), ('XVL', 'DDF'), ('F85', 'YQ9'), ('XKN', 'FWF'), ('BM1', 'GGP'), ('ZRR', '71T'), ('B6N', 'YDC'), ('TM3', 'ZYS'), ('XVW', 'QGK'), ('Y5D', '55K'), ('C75', 'JVK'), ('N56', 'MJK'), ('1M3', 'C8P'), ('SB5', '9BG'), ('GPY', 'YV8'), ('VN4', 'TVT'), ('W7G', 'Y5D'), ('141', 'YMP'), ('6KR', 'MBB'), ('9XY', '8C8'), ('TLK', 'F5W'), ('X6K', 'L6L'), ('1D9', 'WX7'), ('P56', 'XHW'), ('LZ2', '1DK'), ('MTN', 'ZPG'), ('1KW', 'Q1S'), ('K4H', 'TSJ'), ('9N9', 'N7J'), ('6C4', 'MH4'), ('X11', '8RL'), ('N8M', 'PDR'), ('X7W', 'ZZQ'), ('J5C', 'XS4'), ('JSV', 'K75'), ('T2B', '69X'), ('SLN', 'VYT'), ('2PT', '4FQ'), ('J1M', 'TXJ'), ('QS5', 'YRV'), ('RHQ', '58T'), ('CFH', '1P4'), ('S6B', 'H1C'), ('J51', 'V4K'), ('VKX', '9D5'), ('N7R', 'Z77'), ('MQB', '961'), ('CSH', '7MQ'), ('T76', 'KGH'), ('3JQ', 'YV5'), ('L84', 'WNZ'), ('VZM', 'G84'), ('VFW', '8H5'), ('779', '6SJ'), ('7VB', 'QJG'), ('72M', 'CNJ'), ('W9R', '3WR'), ('7LW', '6R4'), ('6SJ', 'VCD'), ('K9Q', '3G5'), ('R2C', 'RL2'), ('TLF', 'T1S'), ('RLL', 'Z7J'), ('P5W', 'FR7'), ('QJ5', 'RRV'), ('Z6T', 'V2D'), ('PDR', 'L33'), ('1T7', 'J6C'), ('YZN', 'TXX'), ('DKR', 'ZQR'), ('QV6', 'QXR'), ('B47', '8DZ'), ('YXP', '2H8'), ('Z8V', 'K6N'), ('2C8', 'JZJ'), ('JCH', '33R'), ('4NT', '1MS'), ('HX8', 'F4H'), ('9LP', 'JXB')]\n"
     ]
    }
   ],
   "source": [
    "program_raw = load_data('data/day_6.txt')\n",
    "program = parse_data(program_raw)\n",
    "print(program)"
   ]
  },
  {
   "cell_type": "markdown",
   "metadata": {},
   "source": [
    "Find distinct objects in system"
   ]
  },
  {
   "cell_type": "code",
   "execution_count": 43,
   "metadata": {},
   "outputs": [
    {
     "name": "stdout",
     "output_type": "stream",
     "text": [
      "['NTQ', 'PL3', 'ZZQ', 'NHZ', 'J1P', 'T5J', 'ZT1', 'G51', 'GMQ', 'GWK', '22Y', 'W52', 'B8M', '46V', 'H1T', '3CK', 'DMM', 'YBL', '5W4', 'XFP', '4NT', 'H3N', 'HF2', 'J4S', '4G7', '27F', '3S5', 'ND3', 'C71', 'LS8', 'ZC2', '4C1', 'RJB', '2QR', '2TY', 'VKX', '3QM', 'YWJ', '7TQ', 'RCH', 'LSW', 'V93', 'MT4', '3G5', 'JNF', 'K77', '4FQ', '59Y', 'JFX', 'NXW', 'J91', '4DB', 'RHS', 'H39', '64G', '1G3', '8WM', '78F', 'H93', 'WKP', 'XJ1', '45C', '8H5', 'XWX', '4X4', '1CK', 'ZBT', 'RD1', '3PY', 'ZK8', 'FKW', 'V3B', '5MW', 'BS2', 'Z77', '539', 'B7D', 'MMM', 'LV1', 'HBH', '5B5', 'CK2', 'LYL', 'S4M', 'BMP', 'JN4', '56C', 'LJH', 'FKN', '95P', '4RV', '9QB', 'X11', 'V3X', 'R5F', 'M34', '4G5', 'MJ2', '6C4', 'BDV', '8WJ', 'WX7', 'RGM', '2LM', 'W4P', 'T11', 'LSK', '14D', 'CCP', 'ZM9', 'RMC', '5Q7', 'ZW2', 'YGH', 'TN5', 'GSK', 'JMW', '1T7', 'F9V', 'HB4', 'DF6', 'SBS', '89B', 'GDQ', 'V2P', '2V2', 'YNF', 'BY5', 'Q2G', 'FGS', '89D', '899', 'TVT', '1P4', 'F5M', 'GW2', '8N7', 'N8M', '3CJ', 'BWR', '9MX', 'S82', '71M', 'LYP', 'NZX', 'TW3', 'J9P', 'ZDN', 'CXQ', '9Q3', 'WWV', 'LHK', 'B4W', 'FQF', 'KXW', 'ZW9', 'D1V', 'FCF', 'W54', 'QGY', '5RK', 'YCV', 'ZGM', 'MZN', 'Y3P', 'BZD', 'C75', 'XZK', 'NZV', 'P6G', '8W2', '3DP', '77G', 'SWQ', 'VN4', '8D5', 'MSQ', '23X', 'T76', '78G', 'SZ4', 'TM3', 'RHZ', '3VY', 'LY8', 'P9Q', 'D1H', 'HD8', 'FY8', 'SAN', 'BK5', 'CY6', 'K6B', 'L15', 'LWW', '6TS', 'GPY', 'QGF', 'JH5', '2B1', '4HY', '2NT', 'TLJ', 'F4Q', 'XVL', '9WY', 'MTN', 'MYZ', '93B', 'QS5', '2CX', 'C4L', 'D47', '935', 'SND', 'YRV', 'CVV', 'KB1', 'WQJ', 'GXJ', 'L6V', 'LXK', 'V53', 'DLT', '6KR', 'KVT', '9BV', 'QHW', 'JSV', 'X94', 'BM4', 'B3S', 'VK9', 'X56', '3G8', 'N6G', 'P31', 'TS8', '6TK', 'JN6', 'M1L', '963', 'HV2', 'SNP', '639', 'VLY', 'VFW', 'MYW', 'PRL', '3XW', 'F3L', 'CXS', 'LRK', '84P', 'GQ9', '9CV', 'YPV', 'WK8', '3QZ', '7LW', 'QHC', 'C1K', 'G7X', 'K4P', '39V', 'H7F', 'W8Z', '34X', '88P', 'M9Q', '95Q', 'MPL', 'RFF', '42V', '8D4', 'K9Q', 'RCK', '5FY', 'FZL', '9LP', 'SMP', 'GFK', '1MS', 'WNZ', 'SNW', 'WPB', 'VT1', 'WK1', 'SLM', '4MH', 'G9J', 'TDJ', 'HDZ', '6ZN', 'Y5G', '8MJ', '9QK', '725', 'QXR', 'LMF', 'BXC', 'FWF', 'L38', 'RF4', 'GV8', 'XS4', 'Z6S', 'Y54', 'P48', 'R4S', 'P91', '7S8', '1L9', 'CFS', 'B68', 'YV5', 'HQP', 'K39', 'LLK', 'PF9', 'D85', '7D6', 'YZ9', 'TNX', '1TJ', 'M6T', 'DZV', '8CJ', 'YV8', 'M73', 'RL2', 'N1W', 'GKV', 'VZS', 'R7J', 'P4X', 'TC8', '9RM', 'DKR', 'CDT', 'VZN', 'XSY', 'FF6', 'HVY', 'M9Z', 'KGC', '272', 'THK', 'QH1', 'WK9', 'GF6', 'WKB', 'VYW', 'LPB', 'TTW', 'LD1', 'V2D', 'CHB', 'MBN', 'G28', '7BP', 'ZVN', '5KS', '9N9', '8S4', 'X47', '9NL', 'HJK', 'Z83', 'KPV', '8BN', 'Z7J', 'SLZ', 'SGJ', '6SM', '2R9', '3B7', 'BGN', 'W84', 'WFS', '8RJ', 'B3F', 'JLS', '7RC', 'BBW', '1Q7', '7VB', '69S', 'WC2', 'HD9', '6YX', '8SD', '5M5', 'T1S', 'NNK', 'JK1', '2FF', '57Y', 'H8H', 'YY7', 'HG6', '54X', '8P3', 'NZ5', 'B3V', 'B8H', 'VY6', 'G76', '8B9', '2C8', 'X6H', '3J3', 'V7K', '7HH', '314', 'Q7Z', 'F3X', 'TSJ', 'ZFT', 'K6W', 'JG9', 'MH4', '9KP', '8Q9', 'J92', 'FWV', 'VM6', 'F85', '2SC', 'VVZ', 'Q5V', 'P7P', 'KGH', 'WRL', 'YLQ', 'VRK', '32G', 'KQ5', '961', 'COM', '9P3', 'NTZ', 'J2G', 'KBZ', 'M6M', 'Y5C', '7HY', 'TK4', '5HL', 'JXR', '2H8', '4LN', 'KCX', 'S6B', 'LXT', '9VJ', '1HN', 'MJK', '8G1', '4TV', 'CH2', '7FQ', '585', 'QSX', 'MB2', 'FY7', 'DHQ', 'YND', 'RNK', 'NR3', 'FH8', 'LVM', 'ZF9', 'TTS', 'NPN', 'WC6', 'P14', '589', '1D9', '7H6', 'GNR', 'PQH', '8K3', '2MF', 'HX1', 'W5S', 'PWP', 'QR8', '378', '3XZ', '3J6', 'ST2', 'ZZ9', 'XY9', '7NK', 'FCW', '6J7', 'BFS', '3PX', 'GMY', 'V1C', '1W5', '4L8', '85G', '9XY', '8BY', 'H5P', '296', 'FSG', 'X36', 'P12', '7DC', 'BXW', 'F7C', 'M19', 'V5G', 'CW2', 'J3G', 'TCK', '2W4', 'FBR', 'YZ4', 'LKW', 'PZK', 'M4N', 'ZYS', '7K7', 'M8C', 'DTX', 'S9K', 'JDZ', 'XMC', '9G7', 'JKK', 'PQ7', 'BRX', 'HHJ', '518', '319', 'WJ2', 'WNL', 'C9B', '86T', 'Z1V', '8J2', '85T', 'KJY', 'YG4', 'J5V', 'FPB', 'TH1', 'TZT', 'W3F', 'ZVM', '44N', 'PZH', 'PLG', 'MM7', 'RNH', 'BCX', '9T8', 'J9D', '8PP', 'P8V', 'QV7', 'GCT', 'DFN', 'QLQ', '72M', '3JQ', 'DGT', 'CSH', '7HW', '6YH', 'LZC', 'N3P', 'P4N', '779', 'GP7', 'H5V', 'X6K', '8MY', 'D2Z', 'R8C', 'T4V', 'LVV', '6M8', 'F2W', 'HQJ', 'DRV', 'BLK', '2Q6', '6G7', '6KF', 'CC1', 'JPJ', 'WL3', '2BF', 'QDG', '97C', 'ZNK', '38F', 'TNN', 'DRQ', '39Q', 'P5J', '7JV', 'W1Z', 'MSJ', 'FKD', 'KQ3', '8NX', 'L6L', 'H2Y', '17S', '83C', 'J19', 'TJ2', 'RH6', 'XJJ', '82P', '2GH', 'H55', 'MQB', 'W6F', '2XG', 'S2V', 'P5W', 'LWR', 'RN8', '1P5', 'J59', '7KN', 'WR3', 'QYC', 'LJB', '5HF', '3M8', '55K', 'BC2', 'DLF', '3T4', '1GD', 'YHL', 'B7P', 'D2H', '6SQ', 'B6N', 'FDY', '44C', 'RLK', '9KY', '79N', '1QT', '3C6', 'NCJ', '6N7', 'YVF', 'Z8V', '6DY', 'HTQ', 'XKN', 'R3C', 'MQ9', 'PKQ', '3WS', '1V3', 'K79', 'MQ2', '2HC', '37Q', 'WT4', 'NGV', 'N77', 'V5F', 'ZMB', '9LB', 'X91', 'MP8', 'QC1', 'HWN', 'LPK', 'ZBN', '1WR', 'QPS', '3F6', '2CQ', 'VPC', 'PGV', 'K7P', 'H4V', '3YR', 'TJJ', '97L', 'N9F', 'YTB', '6XM', 'DSX', 'ZZF', 'BND', 'WGF', '2PG', 'N7R', 'J58', 'CB5', 'J84', 'KCT', 'B1B', 'XGD', 'PMB', 'MV5', 'QV6', 'WB7', '6RR', 'D6L', 'HG8', 'VXN', 'W7G', 'YJ2', 'QFR', 'F8W', 'Z7B', '2HV', '9D5', '6BF', 'ZLJ', 'T9C', '9L7', 'B47', 'YCK', '49R', 'S6F', 'PPZ', 'J8B', '2XZ', 'DCM', 'KPQ', '31C', 'M5H', 'XB4', 'HHX', 'GNH', 'SQZ', 'YYT', '7HD', 'MVQ', 'GXN', 'HN1', '2K8', 'H6C', 'B41', '637', '5P1', 'DNL', 'P8Y', '5SQ', 'K6F', 'D1D', '6MB', 'CFH', '8XS', 'C3F', '7TF', 'CNJ', 'TRV', '861', '2HZ', 'FCG', 'LPV', 'N4F', 'NJ9', '6YS', 'R4Z', 'XCV', 'J5C', 'W2C', 'N56', 'B9N', '3XR', 'V3G', 'L3B', 'X14', 'V8R', '5YV', '1T3', '1JB', 'DNP', 'V5N', '558', 'LJP', 'V8M', 'BZK', '18G', 'XWR', '1N4', 'LDB', 'WFX', '95H', '5NY', 'ZZY', 'LD5', 'TPK', 'CNR', '9PG', 'G16', 'SHF', '1JV', 'TMZ', '2W5', 'K1L', 'HVF', 'CYZ', 'XC5', 'GFW', '6XF', 'T48', 'VJH', 'KBW', 'HQX', 'LQ4', '2VT', '44B', 'LG1', 'XLL', '1R7', '2RG', '4GH', '52V', '134', 'Y5D', '2R5', '9W9', 'WTD', '1N5', 'MFD', 'LQV', '5Z3', 'D4G', '1PR', 'X8Z', '6SX', '99B', '81Z', 'RV6', 'PDT', '8C1', '4YP', 'ZGC', 'H1C', 'FV6', '17T', 'TVH', 'FP2', '23Y', 'PQ9', 'WMS', 'GJ3', 'PSH', 'WH2', '229', '17M', '7MQ', 'VN3', '4CG', 'Q17', 'NMZ', 'RZK', '1RG', 'TNQ', 'ZKP', 'Z9X', 'B4T', 'W9C', '2ZW', 'KFV', '82G', 'BP3', 'RFK', 'XRX', 'RZG', 'HDF', 'GGP', '8WF', 'DDF', 'R28', 'ZQM', 'ZWG', '5L3', 'JK2', 'N1V', '9T4', 'LF3', 'VJ1', '2HL', 'LJV', 'MCN', 'MG1', 'R8J', 'YZN', 'HM3', '8XD', 'CPP', 'XQP', 'SB5', '6W7', 'R7D', 'SCR', 'Z1W', 'MBB', 'JCH', 'DQP', 'JSY', 'VYT', 'RH7', '5KH', 'XTW', '4X6', '4KJ', 'YCP', 'GW9', 'P6M', '3FF', 'SGL', '6D6', 'WJ7', 'YDC', '845', 'JHC', 'XJL', 'QS1', 'XR9', 'JXB', 'JHT', 'FCB', '8LJ', 'M5S', 'XYW', 'H4C', 'PYL', 'L97', '8MS', 'JS7', 'HBL', 'ZCP', 'HZY', 'Y2Y', '4F8', 'TQ6', '3WR', '68R', 'LMC', 'WG6', 'XYM', 'B4L', '2W2', '3Q4', 'Y13', 'CJJ', '4B6', 'T9R', '7SK', '847', 'KP5', 'CNK', '28V', 'XK6', '55J', '3LP', '624', '8LM', 'H9K', '2JW', 'DT7', 'N7J', 'T5D', 'VCD', '2QW', '3Q2', 'Q26', 'G74', '4QY', 'YMP', 'V49', 'C29', 'MM5', '4W2', 'PR2', 'CNW', '971', 'MCB', 'S35', 'C2Q', 'ZQB', 'BDK', 'HBC', 'RBG', 'RJ8', 'BHS', '2ZQ', 'KKT', '5MZ', 'LB9', 'C25', '4JT', 'WB4', 'QG4', 'QYD', 'YQJ', 'R1Z', '8S9', '9RZ', 'FTD', 'GLW', 'RF3', 'GW3', 'FBV', 'QGT', '41S', 'LNP', 'K1W', '1TN', 'LV6', '6KN', '1JM', '8DZ', 'P2M', 'V8N', '7J2', '8R3', 'DRY', 'PV7', '68G', '5KK', '615', 'NNV', 'YL3', 'TBB', 'L33', 'NJJ', 'XX4', 'ZHD', 'WJZ', 'F5W', 'HZC', 'JS4', 'L1Q', '5F5', 'K4H', 'M3P', 'M8B', '5ZG', 'VJX', 'L2G', 'KMY', '5B9', '7RV', '22Z', '95G', 'MX2', 'FRJ', '81X', 'G4V', '9QD', 'STD', 'RD7', 'YNP', '1TW', 'VHW', '1KW', 'K9X', 'CJD', 'BDY', 'F2N', 'NML', 'V33', 'FX2', 'GV5', 'PF7', 'WHD', 'J51', 'YQR', 'DBQ', 'GXG', '1M3', 'QC7', 'NQC', '7XK', '8HL', 'QJ5', 'W9R', '7BY', 'TC3', '7BB', '62L', '11J', '8S7', '349', '23G', '1NC', 'GGJ', '1XP', 'R4N', 'TRL', 'QR6', 'PDR', '3ZD', '2TQ', 'SQ9', '7HQ', '6R4', '4WF', 'JXK', '8C8', 'RLL', 'BNV', 'D2C', 'Q1S', '2XP', 'HKT', '2GB', 'DBB', 'SGX', '3X2', 'BJT', 'KV5', 'K81', 'QPW', '6P5', '3YL', '55P', 'TGK', 'LLW', 'NCC', 'FR7', '9D1', 'G6X', '5VG', 'HX8', 'BM1', 'ZST', 'MTY', 'QBL', '6Z4', 'STF', '3C3', 'JVK', 'KFR', 'YD8', 'TLF', 'TVD', 'KW8', 'NVV', 'SC7', 'Q3T', '1ML', 'DWM', 'WSJ', 'SXJ', 'TXJ', 'Q8G', 'NWY', '86S', 'R83', '4KQ', 'XW5', 'PZY', '3HR', 'M3N', 'X7W', 'LNV', 'MYB', 'F9W', 'QJG', 'VKR', 'FMS', 'B4R', 'ZT2', 'YBK', 'WFZ', 'XBX', 'GPS', 'M1C', 'D49', 'CDC', 'KJ7', '9FZ', '2PV', '33R', '71T', 'YLJ', 'QQW', 'X3S', 'DMG', 'S78', 'XC7', 'Z78', 'TDC', 'SLN', 'CT4', 'RY1', '4C6', '3DR', 'TMX', 'ZGN', 'L84', 'YG1', 'HT8', 'V4K', 'B6X', 'R4P', '1DK', 'G7S', 'HLD', '4PF', 'LWH', '7SF', 'F4H', 'JC9', 'VMZ', '3SP', 'JKD', '3N8', '6HF', 'B9S', 'HC8', '7B5', '4NL', 'X5V', 'WK3', 'XM1', '9X2', 'HFF', 'ZKH', 'BC8', 'SYY', 'SZT', '3BN', 'TLK', 'LKV', '9PB', '2JC', 'S1P', '28P', 'YZ2', '9W1', '4WL', 'C7B', 'N3B', 'YCF', '62J', 'Q2J', '6VH', 'N92', 'Q2F', '68M', '419', 'SB9', '4BY', '91L', 'YXP', 'NWN', 'NRS', 'YK9', '2XL', '27B', 'WF5', 'Z7C', 'XQ8', '2PT', '6WR', '2NP', '6GM', 'NX8', 'RYV', 'GPP', 'BYH', 'LPG', 'KJ4', 'HSL', 'VM4', '1B3', 'KND', 'C9F', 'GCQ', 'TQP', 'DYF', 'GQX', '6HL', 'B4J', 'SD8', '2BT', 'C8P', '5RT', 'KMN', 'SS8', 'CLL', '329', 'GZM', 'RRV', 'DZ2', '7QV', 'R1K', 'MMB', 'P2Y', 'FV3', 'FQ6', '1YC', 'JCW', '8YZ', 'J7G', '5W3', 'JWC', 'LV5', 'FTQ', 'NFF', 'C7N', '69X', 'WW5', '3BS', 'ZMM', '78B', 'Y6S', 'Z4F', 'FTK', 'G5Z', 'J1M', 'JW8', 'FW5', 'XR5', '3XH', 'D1L', 'SBD', 'LCW', '3GM', 'N4J', 'QTC', 'Z6T', 'G37', 'BZ4', 'GWS', 'NTC', 'K6N', 'ZV5', '4LD', 'N6P', '93L', '6GH', 'G3Q', 'KPT', 'HQT', '675', '25T', 'R3N', '4P9', 'K6J', '3P1', '9BG', 'P49', 'FYN', 'Q6R', 'Q1N', '79R', 'ZQR', '56T', 'ZBD', 'FH1', '3SY', 'LZS', 'ZL9', 'V2C', '8BD', '68B', 'Z7X', 'G84', 'FF7', 'WTY', '2ZV', '9XV', '6DB', 'KZV', 'X96', '2FH', 'VKP', 'JVZ', '6FM', '767', '1L5', '9RV', 'JZJ', 'JPH', 'CFZ', 'GCS', 'RHQ', '3FM', '9XR', 'CR7', 'LT9', 'HY7', 'L29', 'LZ2', 'RXL', 'TLY', 'K26', 'LBL', '1B4', 'BJD', '89M', 'F96', 'BN4', 'XP3', 'N2Y', '1HY', '43G', 'GFP', '2JB', 'F4S', 'XWB', '7FK', '58T', 'SN3', 'R3S', 'PHB', '5V1', '8XX', '149', 'J4L', '5M4', '6CH', 'DN9', '85Y', 'QNK', '69M', 'WMG', '3F8', 'XKM', 'SHK', '85R', '49W', '61P', 'X1V', 'VB7', '9FW', '9PR', '4T1', '182', 'KT4', 'K7T', 'Q5K', 'LYV', 'TR2', '9QL', 'F1H', '1ZS', '22X', 'V9M', 'B2S', '141', 'NDR', '3XF', 'MXP', '9RH', 'DH3', '69K', 'BD9', 'F5Y', 'B2H', '1DW', 'LNS', 'ZHF', 'XBS', 'MQC', '4JM', 'FSN', 'LNF', 'K7K', '1SH', '6FX', '576', 'KXG', '9K5', 'KTZ', 'ZFB', 'L45', 'QQX', 'NBM', 'BDQ', '8QD', 'RZB', 'HCN', 'XQW', '3DQ', 'TN6', 'VZM', 'XVW', 'MW2', '9JT', 'GHL', 'LGW', '5LR', 'C8S', 'W6H', 'MRZ', 'ZNR', 'XDH', 'G4Y', '2Z7', 'GBB', 'JKR', 'N61', 'FY4', 'XFL', 'KKP', 'K75', 'JBJ', 'FP1', '7GG', 'XHW', 'DQH', 'Z2K', 'YHY', 'GJY', 'C7D', 'GZ5', '63J', 'NQH', 'VYS', 'JQV', 'KDR', '3Z1', 'Z75', '5ZF', '1DP', '2X2', 'HJW', '5X9', 'CHM', 'G4Q', 'GTR', 'DM4', '5VW', 'RFV', 'L5H', '1TH', '7RW', 'L8J', 'R9L', 'Z41', 'KR5', 'YJK', 'YR5', 'KZL', '42H', 'Z9Y', 'G2Y', 'CK9', '2BC', 'FQ9', 'XKR', 'TXX', '8T2', 'TDV', 'YOU', '2Y2', 'HW5', 'M7W', 'W8G', 'DW1', 'FS3', 'TVF', '8RL', 'M83', '7VN', 'TXD', 'H1K', '3P2', 'WD2', 'X5P', 'F3Z', 'B88', 'S1H', 'N3R', 'WR9', 'Y5T', 'YCH', 'PWD', '4F3', 'T2B', 'JB1', 'B5Z', 'DC8', 'LPN', 'NWL', 'ZCN', '49M', '87T', '74T', 'SCG', 'PS4', 'YQ9', '43T', '144', 'W97', 'ZNW', 'B8T', '721', 'DJ6', 'Y67', '6FZ', 'ZRR', '7FJ', 'CVL', 'JJ1', 'YM3', '8LF', '852', '35X', 'DQK', '4GK', 'BF1', 'Z6Z', 'KVD', 'FR4', 'M1P', 'CKJ', 'NPQ', '6DW', '1ZP', 'JWB', 'M3F', 'HMT', 'J6R', '4K8', 'S1Z', 'ZDD', 'PQ3', '7VS', 'HCH', 'CCQ', 'RK8', 'H2R', 'Y4W', 'P56', '5S5', 'Y9K', 'RKF', 'PRD', '9DZ', 'K42', '8N6', 'X5B', '2T4', '16Z', '9J4', 'KM6', 'R2C', '5CX', 'K4J', 'FB2', '18X', 'JVX', 'V8G', 'L7J', 'J56', 'KLB', '8SZ', 'L5B', 'QTY', 'JCT', 'B85', 'B6S', 'Z28', 'Z3B', 'ZDZ', 'KQQ', 'W5Y', 'QGK', 'M2D', '5SP', 'FMB', 'X2K', '5C7', '3HN', '8ZF', 'TBN', '5PV', 'VJF', 'M4M', '2VQ', 'J6C', 'BTV', 'KBF', '59F', 'TC6', 'LMM', 'JS5', '25Z', 'PW5', 'YVH', '4C2', 'WPW', 'ZQG', 'GKN', 'J5X', '16Q', '8S8', 'RWT', 'NZG', 'K8H', '1QN', 'CFF', 'LZ4', 'ZPG', '6SJ', 'SHZ', 'F6S', 'JB7', 'WKX', '2DN', 'HGL', 'QWB', 'FBD', '4G6', 'PG2', 'KC1', 'TRG', '7YZ', 'W9K', 'NNS']\n"
     ]
    }
   ],
   "source": [
    "test = [item for tuple in program for item in tuple]\n",
    "objects = list(set(test))\n",
    "print(objects)"
   ]
  },
  {
   "cell_type": "markdown",
   "metadata": {},
   "source": [
    "I think I need a recursive algorithm. For each object in objects, call function to find what it orbits; then call function to find what *that* orbits, until we reach COM. Counter to keep track. "
   ]
  },
  {
   "cell_type": "code",
   "execution_count": 44,
   "metadata": {},
   "outputs": [
    {
     "data": {
      "text/plain": [
       "True"
      ]
     },
     "execution_count": 44,
     "metadata": {},
     "output_type": "execute_result"
    }
   ],
   "source": [
    "'COM' in objects"
   ]
  },
  {
   "cell_type": "code",
   "execution_count": 55,
   "metadata": {},
   "outputs": [
    {
     "name": "stdout",
     "output_type": "stream",
     "text": [
      "['VM4']\n"
     ]
    }
   ],
   "source": [
    "test2 = [item[0] for item in program if item[1] == '6C4']\n",
    "print(test2)"
   ]
  },
  {
   "cell_type": "code",
   "execution_count": 56,
   "metadata": {},
   "outputs": [],
   "source": [
    "for object in objects: \n",
    "    head = [item[0] for item in program if item[1] == object]"
   ]
  },
  {
   "cell_type": "code",
   "execution_count": 94,
   "metadata": {},
   "outputs": [],
   "source": [
    "def find_head(body, program):\n",
    "    \"\"\"Function to find the 'head' which a body orbits\"\"\"\n",
    "    head = [item[0] for item in program if item[1] == body]\n",
    "    return head[0]"
   ]
  },
  {
   "cell_type": "code",
   "execution_count": 104,
   "metadata": {},
   "outputs": [
    {
     "name": "stdout",
     "output_type": "stream",
     "text": [
      "301100\n"
     ]
    }
   ],
   "source": [
    "overall = []\n",
    "\n",
    "for body in objects: \n",
    "    body_test = body\n",
    "    if body_test == 'COM':\n",
    "        continue\n",
    "    head = None\n",
    "    chain = []\n",
    "    while head != 'COM':\n",
    "        head = find_head(body_test, program)\n",
    "        chain.append(head)\n",
    "        body_test = head\n",
    "    for item in chain:\n",
    "        overall.append(item)\n",
    "    \n",
    "print(len(overall))"
   ]
  },
  {
   "cell_type": "markdown",
   "metadata": {},
   "source": [
    "**Part 2: Find distance from you to Santa**"
   ]
  },
  {
   "cell_type": "code",
   "execution_count": 105,
   "metadata": {},
   "outputs": [
    {
     "name": "stdout",
     "output_type": "stream",
     "text": [
      "['YOU']\n"
     ]
    }
   ],
   "source": [
    "print([item for item in objects if item == \"YOU\"])"
   ]
  },
  {
   "cell_type": "code",
   "execution_count": 106,
   "metadata": {},
   "outputs": [
    {
     "name": "stdout",
     "output_type": "stream",
     "text": [
      "['SAN']\n"
     ]
    }
   ],
   "source": [
    "print([item for item in objects if item == \"SAN\"])"
   ]
  },
  {
   "cell_type": "code",
   "execution_count": 107,
   "metadata": {},
   "outputs": [],
   "source": [
    "def find_chain(body, program):\n",
    "    \"\"\"Function to find the chain of orbit dependencies for a\n",
    "    given body\"\"\"\n",
    "    body_test = body\n",
    "    head = None\n",
    "    chain = []\n",
    "    while head != 'COM':\n",
    "        head = find_head(body_test, program)\n",
    "        chain.append(head)\n",
    "        body_test = head\n",
    "    return chain"
   ]
  },
  {
   "cell_type": "code",
   "execution_count": 109,
   "metadata": {},
   "outputs": [
    {
     "name": "stdout",
     "output_type": "stream",
     "text": [
      "['W54', 'XKM', 'W84', 'FKW', '68G', 'ZGC', '57Y', 'DNL', 'F5M', 'GFK', 'ZVM', '2W2', '7QV', 'KND', '18G', 'JXR', '852', 'V53', 'J9D', 'F2N', 'YQ9', 'F85', 'CHB', 'N92', 'M3N', 'GQX', 'RF4', 'YQR', 'NZG', 'TNQ', 'FY4', 'WR9', '4CG', 'PRL', 'LG1', 'DQH', 'FSN', '1CK', 'LHK', '8N7', 'MVQ', 'K6W', 'HLD', 'H4C', 'P4X', 'J84', 'QTY', '83C', 'VZN', 'ND3', 'JKR', 'LZ4', 'TVD', '2DN', 'G51', 'YZ4', 'XMC', '93B', 'N9F', 'JNF', 'HQP', '5L3', 'CK9', 'KPV', '42V', 'LNV', 'V4K', 'J51', '44B', '55K', 'Y5D', 'W7G', 'ZM9', '5PV', 'L2G', '1N4', 'HX1', 'LYV', 'Z83', 'M2D', 'P8V', 'MX2', '4JT', 'BS2', '7TQ', 'WK8', 'RCK', 'B41', 'NMZ', 'P9Q', '4TV', '378', 'YBL', 'SCR', 'ZZQ', 'X7W', 'FMB', 'LMF', '2ZW', 'XFP', '6WR', '4RV', 'JQV', 'XJ1', 'B3F', 'V8G', 'RCH', '3YL', 'SLZ', 'JS4', 'M1C', '6HF', 'N4J', 'DTX', '8Q9', 'WMS', 'CFF', '9VJ', 'K79', '6YS', '2HC', 'WR3', '5NY', 'Z9Y', 'WX7', '1D9', 'HGL', 'PZH', '3DR', '38F', '7J2', '3X2', 'WG6', 'V2D', 'Z6T', '725', 'HDF', 'LMC', '22Y', 'X5V', '25T', '34X', 'Y2Y', 'YJK', 'H6C', '1MS', '4NT', 'HF2', 'KT4', 'SGJ', 'ZHD', 'JG9', 'K75', 'JSV', '25Z', '23Y', '5V1', 'P31', 'BZ4', 'P48', 'CCQ', '2CQ', '2X2', 'N61', '8MJ', 'WJZ', 'KJ7', '2V2', 'JKD', 'KC1', '5Z3', 'P2Y', 'R3N', '6FM', 'ZQR', 'DKR', 'JVK', 'C75', '1WR', 'MBN', 'FCB', 'YVF', '69M', 'TXJ', 'J1M', '7MQ', 'CSH', 'VYT', 'SLN', 'G5Z', 'P8Y', 'GMQ', 'TQP', '95H', 'MQ2', '7VN', 'TQ6', '6TS', 'VXN', '71M', 'W5S', 'WFZ', 'VJF', 'B1B', '8SD', 'HCH', 'SBD', '3ZD', 'JC9', 'BTV', 'H8H', 'M3F', '2FF', 'JXK', 'Q17', 'BN4', 'Z41', 'BC2', 'XKR', 'QDG', 'DM4', 'BD9', 'VK9', '963', 'F3L', 'ZW2', 'Y13', 'JS7', 'GTR', '5YV', '55P', 'BZD', '329', '1TN', 'HDZ', 'WB7', 'H2Y', '1JB', 'BHS', 'P4N', 'FTK', '68B', 'LGW', '5SP', 'R4P', '39Q', 'TVF', '62L', 'PYL', 'YZ2', 'D2H', 'DQK', 'K8H', '2CX', '11J', 'Q3T', '4X6', 'NRS', 'GCS', 'L33', 'PDR', 'N8M', 'DH3', 'XBS', 'Z6S', 'JK2', 'J2G', '2LM', 'J4S', 'ZMB', 'LJP', '8LF', '2BC', 'FQF', '961', 'MQB', '8T2', 'CFZ', 'HHJ', 'NCC', '9PR', 'KDR', 'K39', '3XW', 'SCG', 'C71', '9XR', '1W5', '59F', '2TY', 'K1W', '2PG', 'YM3', 'PLG', 'WT4', 'HJK', 'XX4', 'CKJ', 'DF6', '2W5', 'Q5K', '99B', '8WF', 'D1V', 'M6T', 'ZF9', 'FH8', '861', 'BZK', '3DQ', 'LS8', '3B7', 'W8G', '7RC', 'QC1', '9KP', '639', 'GW2', 'BJT', '8W2', 'YG1', 'ZCP', 'NNS', 'RLK', 'NTZ', 'HQT', '95Q', 'QGT', 'QR6', '2VT', 'TXX', 'YZN', 'TH1', 'C2Q', '1L9', '9CV', 'RN8', 'TLJ', 'M6M', 'CPP', 'BFS', '2HV', 'MBB', '6KR', 'NWN', 'JN4', 'FCW', 'D85', 'SNP', 'COM']\n",
      "['2JB', '85G', '5RK', '229', 'DLF', '5M5', 'GFW', '1TJ', '69X', 'T2B', '8BY', 'MM7', '9MX', 'NXW', '1RG', 'CR7', '2BT', '2HZ', 'BXW', 'C1K', '7RW', 'MG1', '5LR', 'X91', 'M83', 'RV6', 'K81', 'LZS', 'GKV', 'N77', 'PV7', 'LPK', 'GKN', '8S7', 'RKF', 'D1D', 'NQH', 'L29', 'F5W', 'TLK', 'CDC', 'B8T', 'SBS', '1JV', 'KJY', 'W8Z', 'PS4', '1B4', '5M4', 'TNN', 'M34', 'RHS', '3G8', 'Z78', 'LQ4', 'VKR', 'D4G', '3F8', 'ZST', 'QC7', '9W1', 'GCQ', 'ST2', 'PQ9', '349', 'N6P', '4L8', '6XF', 'JKK', '8SZ', 'JWC', 'V5N', 'NZ5', 'WGF', '8D5', 'LBL', 'DQP', '9T4', 'Y9K', 'YK9', 'XC7', 'N1V', 'B8H', 'VZM', 'XW5', 'LDB', 'HT8', 'WH2', 'CNR', 'HB4', 'LD5', '85Y', 'Y4W', '9L7', 'GJ3', 'B2H', 'ZDN', 'GXN', '721', 'MYW', 'X56', 'QS1', 'K9X', 'G37', 'SLM', '3DP', 'B88', 'P49', '5CX', '6BF', 'FRJ', 'RK8', '8ZF', 'V8R', 'MMB', '8BN', 'RFV', 'TXD', 'J8B', 'MQC', 'PF9', 'MPL', '518', '5W4', 'HBL', 'S9K', 'MRZ', '8BD', 'YJ2', '6P5', 'FGS', 'NJJ', 'ZNR', 'TDV', 'ZK8', 'PSH', 'VJH', '3LP', 'J19', '6J7', '1PR', 'HQJ', 'DRQ', 'FSG', 'WTY', '43G', 'XLL', '319', 'DGT', '55J', 'WC2', 'MYZ', 'XTW', '6N7', 'HG8', 'CXQ', '95G', 'L7J', 'T9R', 'ZFB', 'L5H', 'XWB', 'WFX', 'SNW', '4MH', 'WD2', 'ZQM', '33R', 'JCH', 'K6F', 'CW2', 'F4Q', 'CCP', 'KKT', 'J56', 'H39', 'XR5', 'WWV', 'L15', '3PX', 'FTD', '2W4', '9D1', 'Q26', 'BF1', 'KB1', 'JHC', 'TTS', '7B5', '17M', '4HY', 'BRX', 'CVV', 'XYM', 'WTD', 'B85', 'YR5', 'J7G', 'RH7', '1JM', 'FDY', '17T', 'C29', '5VG', 'F4S', 'KZL', 'QFR', '14D', 'KW8', '8DZ', 'B47', '9NL', '8PP', 'YV5', '3JQ', 'TNX', 'CYZ', 'ZV5', 'BND', 'KMY', '3J6', '2XZ', 'LNS', '419', '1B3', '8RL', 'X11', '6KN', 'XYW', 'Y5C', 'C7D', 'ZMM', 'J59', 'GGP', 'BM1', 'X1V', '78F', '2QW', 'G7S', 'TW3', 'TJJ', 'DDF', 'XVL', 'ZW9', '4WL', 'FX2', '1DP', 'WW5', 'J91', '49M', 'WSJ', 'XM1', 'B4J', 'Q2F', 'R4N', 'TM3', 'BDQ', '2B1', 'RY1', '59F', '2TY', 'K1W', '2PG', 'YM3', 'PLG', 'WT4', 'HJK', 'XX4', 'CKJ', 'DF6', '2W5', 'Q5K', '99B', '8WF', 'D1V', 'M6T', 'ZF9', 'FH8', '861', 'BZK', '3DQ', 'LS8', '3B7', 'W8G', '7RC', 'QC1', '9KP', '639', 'GW2', 'BJT', '8W2', 'YG1', 'ZCP', 'NNS', 'RLK', 'NTZ', 'HQT', '95Q', 'QGT', 'QR6', '2VT', 'TXX', 'YZN', 'TH1', 'C2Q', '1L9', '9CV', 'RN8', 'TLJ', 'M6M', 'CPP', 'BFS', '2HV', 'MBB', '6KR', 'NWN', 'JN4', 'FCW', 'D85', 'SNP', 'COM']\n"
     ]
    }
   ],
   "source": [
    "you = find_chain('YOU', program)\n",
    "santa = find_chain('SAN', program)\n",
    "print(you)\n",
    "print(santa)"
   ]
  },
  {
   "cell_type": "code",
   "execution_count": 111,
   "metadata": {},
   "outputs": [
    {
     "name": "stdout",
     "output_type": "stream",
     "text": [
      "{'BFS', 'PLG', 'YG1', '2HV', 'CKJ', '7RC', 'JN4', 'SNP', '639', '6KR', 'LS8', '95Q', 'BJT', 'ZCP', 'BZK', 'QR6', 'FCW', 'Q5K', 'QC1', '861', 'RLK', 'NWN', '8W2', '2TY', 'XX4', '99B', '2PG', '2VT', 'NNS', '1L9', 'COM', 'YZN', 'TLJ', 'YM3', 'NTZ', 'HQT', 'HJK', 'D1V', '3DQ', 'QGT', 'CPP', 'GW2', '59F', 'TXX', '9CV', 'K1W', 'C2Q', 'M6M', 'RN8', 'FH8', 'D85', 'ZF9', 'TH1', 'M6T', '8WF', 'W8G', 'MBB', '2W5', 'DF6', '9KP', '3B7', 'WT4'}\n"
     ]
    }
   ],
   "source": [
    "both = set(you).intersection(santa)\n",
    "print(both)"
   ]
  },
  {
   "cell_type": "markdown",
   "metadata": {},
   "source": [
    "That's quite a lot. So we'll have to use for loop: for each one, find its distance from you and Santa in each list, then add and find the minimum."
   ]
  },
  {
   "cell_type": "code",
   "execution_count": null,
   "metadata": {},
   "outputs": [],
   "source": []
  }
 ],
 "metadata": {
  "kernelspec": {
   "display_name": "Python 3",
   "language": "python",
   "name": "python3"
  },
  "language_info": {
   "codemirror_mode": {
    "name": "ipython",
    "version": 3
   },
   "file_extension": ".py",
   "mimetype": "text/x-python",
   "name": "python",
   "nbconvert_exporter": "python",
   "pygments_lexer": "ipython3",
   "version": "3.8.0"
  }
 },
 "nbformat": 4,
 "nbformat_minor": 2
}
