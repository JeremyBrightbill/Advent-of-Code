{
 "cells": [
  {
   "cell_type": "code",
   "execution_count": 20,
   "metadata": {},
   "outputs": [],
   "source": [
    "from collections import defaultdict\n",
    "\n",
    "class Intcode:\n",
    "    def __init__(self, path, input_queue):\n",
    "        self.position = 0\n",
    "        self.relative_base = 0\n",
    "        self.raw = self.load_data(path)\n",
    "        self.data = self.parse_data(self.raw)\n",
    "        self.input_queue = input_queue\n",
    "        self.output_queue = []\n",
    "        self.steps_processed = 0\n",
    "    \n",
    "    class Halt(Exception):\n",
    "        pass\n",
    "    \n",
    "    @staticmethod\n",
    "    def load_data(path):\n",
    "        with open(path) as f:\n",
    "            raw = f.read()\n",
    "        return raw\n",
    "\n",
    "    @staticmethod\n",
    "    def parse_data(data):\n",
    "        d = [int(d) for d in data.split(\",\")]\n",
    "        return defaultdict(int, enumerate(d))\n",
    "    \n",
    "    @staticmethod\n",
    "    def parse_op_code(op_code):\n",
    "        op = str(op_code).rjust(5, \"0\")\n",
    "        code = int(op[3:])\n",
    "        modes = [int(m) for m in op[:3][::-1]]\n",
    "        return (code, modes)\n",
    "    \n",
    "    def print_state(self):\n",
    "        print(\"opcode:\", self.data[self.position])\n",
    "        print(\"position:\", self.position)\n",
    "        print(\"relative_base:\", self.relative_base)\n",
    "        print(\"input_queue:\", self.input_queue)\n",
    "        print(\"output_queue:\", self.output_queue)\n",
    "    \n",
    "    def step(self, verbose=False):\n",
    "        self.steps_processed += 1\n",
    "        op, modes = self.parse_op_code(self.data[self.position])\n",
    "        param_pointers = {}\n",
    "        for i, mode in enumerate(modes, start=1):\n",
    "            if mode == 0:  # position\n",
    "                param_pointers[i] = self.data[self.position + i]\n",
    "            if mode == 1:  # immediate\n",
    "                param_pointers[i] = self.position + i\n",
    "            if mode == 2:  # relative\n",
    "                param_pointers[i] = self.data[self.position + 1] + self.relative_base\n",
    "        if verbose:\n",
    "            print(\"-----Step-----\")\n",
    "            self.print_state()\n",
    "            print(\"opcode:\", op)\n",
    "            print(\"modes:\", modes)\n",
    "            print(\"param_pointers:\", list(param_pointers.values()))\n",
    "        if op == 99:  # halt\n",
    "            raise Intcode.Halt\n",
    "        elif op == 1:  # add\n",
    "            a, b, c = param_pointers[1], param_pointers[2], param_pointers[3]\n",
    "            self.data[c] = self.data[a] + self.data[b]\n",
    "            self.position += 4\n",
    "        elif op == 2:  # multiply\n",
    "            a, b, c = param_pointers[1], param_pointers[2], param_pointers[3]\n",
    "            self.data[c] = self.data[a] * self.data[b]\n",
    "            self.position += 4\n",
    "        elif op == 3:  # input\n",
    "            a, b, c = param_pointers[1], param_pointers[2], param_pointers[3]\n",
    "            try: \n",
    "                new_val = self.input_queue.pop(0)\n",
    "                self.data[a] = new_val\n",
    "                self.position += 2\n",
    "            except: \n",
    "                raise Intcode.Halt\n",
    "        elif op == 4:  # output\n",
    "            a, b, c = param_pointers[1], param_pointers[2], param_pointers[3]\n",
    "            self.output_queue.append(self.data[a])\n",
    "            self.position += 2\n",
    "        elif op == 5:  # jump if true\n",
    "            a, b, c = param_pointers[1], param_pointers[2], param_pointers[3]\n",
    "            if self.data[a] != 0:\n",
    "                self.position = self.data[b]\n",
    "            else:\n",
    "                self.position += 3\n",
    "        elif op == 6:  # jump if false\n",
    "            a, b, c = param_pointers[1], param_pointers[2], param_pointers[3]\n",
    "            if self.data[a] == 0:\n",
    "                self.position = self.data[b]\n",
    "            else:\n",
    "                self.position += 3\n",
    "        elif op == 7:  # less than\n",
    "            a, b, c = param_pointers[1], param_pointers[2], param_pointers[3]\n",
    "            if self.data[a] < self.data[b]:\n",
    "                self.data[c] = 1\n",
    "            else:\n",
    "                self.data[c] = 0\n",
    "            self.position += 4\n",
    "        elif op == 8:  # equals\n",
    "            a, b, c = param_pointers[1], param_pointers[2], param_pointers[3]\n",
    "            if self.data[a] == self.data[b]:\n",
    "                self.data[c] = 1\n",
    "            else: \n",
    "                self.data[c] = 0\n",
    "            self.position += 4\n",
    "        else:\n",
    "            raise Intcode.Halt\n",
    "\n",
    "    def run(self, verbose=False):\n",
    "        while True:\n",
    "            try:\n",
    "                self.step(verbose=verbose)\n",
    "            except:\n",
    "                break\n",
    "            "
   ]
  },
  {
   "cell_type": "code",
   "execution_count": 17,
   "metadata": {},
   "outputs": [],
   "source": [
    "def run(path, input_queue, verbose=False):\n",
    "    intcode = Intcode(path=path, input_queue=input_queue)\n",
    "    while True:\n",
    "        try:\n",
    "            intcode.step(verbose=verbose)\n",
    "        except:\n",
    "            break\n",
    "    return intcode\n",
    "\n",
    "def solve(path, input_queue):\n",
    "    intcode = run(path, input_queue)\n",
    "    return intcode.output_queue[-1]"
   ]
  },
  {
   "cell_type": "code",
   "execution_count": 19,
   "metadata": {},
   "outputs": [
    {
     "name": "stdout",
     "output_type": "stream",
     "text": [
      "6745903\n"
     ]
    }
   ],
   "source": [
    "print(solve('data/day_5.txt', [1]))"
   ]
  },
  {
   "cell_type": "code",
   "execution_count": 21,
   "metadata": {},
   "outputs": [
    {
     "name": "stdout",
     "output_type": "stream",
     "text": [
      "9168267\n"
     ]
    }
   ],
   "source": [
    "print(solve('data/day_5.txt', [5]))"
   ]
  },
  {
   "cell_type": "code",
   "execution_count": null,
   "metadata": {},
   "outputs": [],
   "source": []
  }
 ],
 "metadata": {
  "kernelspec": {
   "display_name": "Python 3",
   "language": "python",
   "name": "python3"
  },
  "language_info": {
   "codemirror_mode": {
    "name": "ipython",
    "version": 3
   },
   "file_extension": ".py",
   "mimetype": "text/x-python",
   "name": "python",
   "nbconvert_exporter": "python",
   "pygments_lexer": "ipython3",
   "version": "3.8.0"
  }
 },
 "nbformat": 4,
 "nbformat_minor": 2
}
