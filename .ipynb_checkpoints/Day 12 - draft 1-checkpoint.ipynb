{
 "cells": [
  {
   "cell_type": "markdown",
   "metadata": {},
   "source": [
    "Try to do this using classes:"
   ]
  },
  {
   "cell_type": "code",
   "execution_count": 45,
   "metadata": {},
   "outputs": [],
   "source": [
    "class Moon(): \n",
    "    \n",
    "    \"\"\"Every moon will have position and velocity in x, y, and z dimensions. \n",
    "    They are numbered 1, 2, 3, 4\"\"\"\n",
    "    \n",
    "    def __init__(self): \n",
    "        \"\"\"Set all to 0 initially\"\"\"\n",
    "        self.number = number\n",
    "        self.other_3 = [1, 2, 3, 4]\n",
    "        self.other_3.remove(self.number)\n",
    "        self.pos_x = 0\n",
    "        self.pos_y = 0\n",
    "        self.pos_z = 0\n",
    "        self.vel_x = 0\n",
    "        self.vel_y = 0\n",
    "        self.vel_z = 0\n",
    "    \n",
    "    def find_other_3(self):\n",
    "        \"\"\"Find the positions of the other three moons\"\"\"\n",
    "        names = ['moon_' + str(number) for number in self.other_3]\n",
    "        for name in names:\n",
    "            name.pos_x\n",
    "    \n",
    "    # def find_velocity\n",
    "    \n",
    "    # def find_next_position\n",
    "    \n",
    "    # def apply"
   ]
  },
  {
   "cell_type": "code",
   "execution_count": 46,
   "metadata": {},
   "outputs": [
    {
     "name": "stdout",
     "output_type": "stream",
     "text": [
      "1\n"
     ]
    }
   ],
   "source": [
    "moon_1, moon_2, moon_3, moon_4 = Moon(1), Moon(2), Moon(3), Moon(4)\n",
    "print(moon_1.number)"
   ]
  },
  {
   "cell_type": "markdown",
   "metadata": {},
   "source": [
    "Set initial positions:"
   ]
  },
  {
   "cell_type": "code",
   "execution_count": 47,
   "metadata": {},
   "outputs": [],
   "source": [
    "moon_1.pos_x, moon_1.pos_y, moon_1.pos_z = 6, 10, 10\n",
    "moon_2.pos_x, moon_2.pos_y, moon_2.pos_z = -9, 3, 17\n",
    "moon_3.pos_x, moon_3.pos_y, moon_3.pos_z = 9, -4, 14\n",
    "moon_4.pos_x, moon_4.pos_y, moon_4.pos_z = 4, 14, 4"
   ]
  },
  {
   "cell_type": "code",
   "execution_count": 48,
   "metadata": {},
   "outputs": [
    {
     "name": "stdout",
     "output_type": "stream",
     "text": [
      "['moon_2', 'moon_3', 'moon_4']\n"
     ]
    }
   ],
   "source": [
    "print(moon_1.find_other_3())"
   ]
  },
  {
   "cell_type": "code",
   "execution_count": 43,
   "metadata": {},
   "outputs": [
    {
     "name": "stdout",
     "output_type": "stream",
     "text": [
      "['moon_1', 'moon_2', 'moon_3']\n"
     ]
    }
   ],
   "source": [
    "x = [1, 2, 3]\n",
    "print(['moon_' + str(number) for number in x])"
   ]
  },
  {
   "cell_type": "code",
   "execution_count": null,
   "metadata": {},
   "outputs": [],
   "source": []
  }
 ],
 "metadata": {
  "kernelspec": {
   "display_name": "Python 3",
   "language": "python",
   "name": "python3"
  },
  "language_info": {
   "codemirror_mode": {
    "name": "ipython",
    "version": 3
   },
   "file_extension": ".py",
   "mimetype": "text/x-python",
   "name": "python",
   "nbconvert_exporter": "python",
   "pygments_lexer": "ipython3",
   "version": "3.7.0"
  }
 },
 "nbformat": 4,
 "nbformat_minor": 2
}
