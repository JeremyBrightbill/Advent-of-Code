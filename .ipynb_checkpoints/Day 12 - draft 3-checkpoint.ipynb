{
 "cells": [
  {
   "cell_type": "markdown",
   "metadata": {},
   "source": [
    "Try to do this using classes. The `__init__` method will need the other three as parameters:"
   ]
  },
  {
   "cell_type": "code",
   "execution_count": 142,
   "metadata": {},
   "outputs": [],
   "source": [
    "class Moon(): \n",
    "    \n",
    "    \"\"\"Fill out docstring when I figure out what the heck I'm doing\"\"\"\n",
    "    \n",
    "    def __init__(self): \n",
    "        \"\"\"Set all positions and velocities to 0 initially. Other moon positions\n",
    "        are all [None, None, None]\"\"\"\n",
    "        self.pos = None\n",
    "        self.vel = [0, 0, 0]\n",
    "        self.next_x = None\n",
    "        self.next_y = None\n",
    "        self.next_z = None\n",
    "        self.other_one = [None, None, None]\n",
    "        self.other_two = [None, None, None]\n",
    "        self.other_three = [None, None, None]\n",
    "    \n",
    "    def identify_others(self, x, y, z):\n",
    "        \"\"\"Identify the other three moons for each one. All must be created before they can identify\n",
    "        each other\"\"\"\n",
    "        self.others = (x, y, z)\n",
    "            \n",
    "    def find_others(self):\n",
    "        \"\"\"Find the positions of the other three moons\"\"\"\n",
    "        self.other_one = [self.others[0].pos[0], self.others[0].pos[1], self.others[0].pos[2]]\n",
    "        self.other_two = [self.others[1].pos[0], self.others[1].pos[1], self.others[1].pos[2]]\n",
    "        self.other_three = [self.others[2].pos[0], self.others[2].pos[1], self.others[2].pos[2]]\n",
    "                \n",
    "    def find_velocity(self, dimension, moon):\n",
    "        \"\"\"Find where another moon is in each of the three dimensions, then compute velocity\"\"\"\n",
    "        \n",
    "        change = 0\n",
    "        key = {'x': self.pos[0], \n",
    "               'y': self.pos[1], \n",
    "               'z': self.pos[2]}\n",
    "        dim = key[dimension]\n",
    "        key_other = {'x': 0, \n",
    "                     'y': 1, \n",
    "                     'z': 2}\n",
    "        other_dim = key_other[dimension]\n",
    "        key_moon = {self.others[0]: self.other_one, \n",
    "                    self.others[1]: self.other_two, \n",
    "                    self.others[2]: self.other_three}\n",
    "        moon_attr = key_moon[moon]\n",
    "        \n",
    "        if moon_attr[other_dim] > dim:\n",
    "            change += 1\n",
    "        elif moon_attr[other_dim] < dim:\n",
    "            change -+ 1\n",
    "            \n",
    "        if dimension == 'x':\n",
    "            self.vel[0] += change\n",
    "        elif dimension == 'y':\n",
    "            self.vel[1] += change\n",
    "        elif dimension == 'z':\n",
    "            self.vel[2] += change\n",
    "        else: \n",
    "            print(\"Error, dimension not recognized\")\n",
    "            \n",
    "    def find_velocities(self):\n",
    "        \"\"\"Apply self.find_velocity() in a for loop for each dimension and moon\"\"\"\n",
    "        for dimension in ['x', 'y', 'z']: \n",
    "            for moon in self.others:\n",
    "                self.find_velocity(dimension, moon)\n",
    "    \n",
    "    def find_next_position(self):\n",
    "        \"\"\"Find next position but don't apply yet - must compute for all 4 moons first\"\"\"\n",
    "        self.next_x = self.pos[0] + self.vel[0]\n",
    "        self.next_y = self.pos[1] + self.vel[1]\n",
    "        self.next_z = self.pos[2] + self.vel[2]\n",
    "    \n",
    "    def move(self):\n",
    "        \"\"\"Once the next position of all 4 moons has been determined, move\"\"\"\n",
    "        self.pos[0] = self.next_x\n",
    "        self.pos[1] = self.next_y\n",
    "        self.pos[2] = self.next_z\n",
    "        return (self.pos[0], self.pos[1], self.pos[2])"
   ]
  },
  {
   "cell_type": "code",
   "execution_count": 143,
   "metadata": {},
   "outputs": [],
   "source": [
    "moon_1, moon_2, moon_3, moon_4 = Moon(), Moon(), Moon(), Moon()"
   ]
  },
  {
   "cell_type": "markdown",
   "metadata": {},
   "source": [
    "Set initial positions:"
   ]
  },
  {
   "cell_type": "code",
   "execution_count": 144,
   "metadata": {},
   "outputs": [],
   "source": [
    "initial = [[6, 10, 10], [-9, 3, 17], [9, -4, 14], [4, 14, 4]]\n",
    "moons_all = [moon_1, moon_2, moon_3, moon_4]\n",
    "\n",
    "for moon, coords in zip(moons_all, initial): \n",
    "    moon.pos = coords"
   ]
  },
  {
   "cell_type": "markdown",
   "metadata": {},
   "source": [
    "Tell each moon which are the other 3:"
   ]
  },
  {
   "cell_type": "code",
   "execution_count": 145,
   "metadata": {},
   "outputs": [],
   "source": [
    "moon_1.identify_others(moon_2, moon_3, moon_4)\n",
    "moon_2.identify_others(moon_1, moon_3, moon_4)\n",
    "moon_3.identify_others(moon_1, moon_2, moon_4)\n",
    "moon_4.identify_others(moon_1, moon_2, moon_3)"
   ]
  },
  {
   "cell_type": "code",
   "execution_count": 146,
   "metadata": {},
   "outputs": [],
   "source": [
    "for moon in moons_all:\n",
    "    moon.find_others()"
   ]
  },
  {
   "cell_type": "code",
   "execution_count": 147,
   "metadata": {},
   "outputs": [],
   "source": [
    "for moon in moons_all:\n",
    "    moon.find_velocities()"
   ]
  },
  {
   "cell_type": "code",
   "execution_count": 148,
   "metadata": {},
   "outputs": [],
   "source": [
    "for moon in moons_all:\n",
    "    moon.find_next_position()"
   ]
  },
  {
   "cell_type": "code",
   "execution_count": 149,
   "metadata": {},
   "outputs": [],
   "source": [
    "for moon in moons_all:\n",
    "    moon.move()"
   ]
  },
  {
   "cell_type": "code",
   "execution_count": 150,
   "metadata": {},
   "outputs": [
    {
     "name": "stdout",
     "output_type": "stream",
     "text": [
      "[7, 11, 12]\n"
     ]
    }
   ],
   "source": [
    "print(moon_1.pos)"
   ]
  },
  {
   "cell_type": "code",
   "execution_count": null,
   "metadata": {},
   "outputs": [],
   "source": []
  }
 ],
 "metadata": {
  "kernelspec": {
   "display_name": "Python 3",
   "language": "python",
   "name": "python3"
  },
  "language_info": {
   "codemirror_mode": {
    "name": "ipython",
    "version": 3
   },
   "file_extension": ".py",
   "mimetype": "text/x-python",
   "name": "python",
   "nbconvert_exporter": "python",
   "pygments_lexer": "ipython3",
   "version": "3.7.0"
  }
 },
 "nbformat": 4,
 "nbformat_minor": 2
}
