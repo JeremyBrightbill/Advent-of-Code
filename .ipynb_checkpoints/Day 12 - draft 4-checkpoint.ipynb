{
 "cells": [
  {
   "cell_type": "markdown",
   "metadata": {},
   "source": [
    "Try to do this using classes. The `__init__` method will need the other three as parameters:"
   ]
  },
  {
   "cell_type": "code",
   "execution_count": 55,
   "metadata": {},
   "outputs": [],
   "source": [
    "class Moon(): \n",
    "    \n",
    "    \"\"\"Fill out docstring when I figure out what the heck I'm doing\"\"\"\n",
    "    \n",
    "    def __init__(self): \n",
    "        \"\"\"Set all positions and velocities to None initially. \"\"\"\n",
    "        self.pos = None\n",
    "        self.vel = None\n",
    "        self.next = [None, None, None]\n",
    "        self.other_one = [None, None, None]\n",
    "        self.other_two = [None, None, None]\n",
    "        self.other_three = [None, None, None]\n",
    "    \n",
    "    def identify_others(self, x, y, z):\n",
    "        \"\"\"Identify the other three moons for each one. All must be created before they can identify\n",
    "        each other\"\"\"\n",
    "        self.others = (x, y, z)\n",
    "            \n",
    "    def find_others(self):\n",
    "        \"\"\"Find the positions of the other three moons\"\"\"\n",
    "        self.other_one = [self.others[0].pos[0], self.others[0].pos[1], self.others[0].pos[2]]\n",
    "        self.other_two = [self.others[1].pos[0], self.others[1].pos[1], self.others[1].pos[2]]\n",
    "        self.other_three = [self.others[2].pos[0], self.others[2].pos[1], self.others[2].pos[2]]\n",
    "                \n",
    "    def find_velocity(self, dimension, moon):\n",
    "        \"\"\"Given another moon and a dimension, calculate that moon's effect on velocity\n",
    "        in the given dimension\"\"\"\n",
    "        \n",
    "        change = 0\n",
    "        key = {'x': self.pos[0], \n",
    "               'y': self.pos[1], \n",
    "               'z': self.pos[2]}\n",
    "        dim = key[dimension]\n",
    "        key_other = {'x': 0, \n",
    "                     'y': 1, \n",
    "                     'z': 2}\n",
    "        other_dim = key_other[dimension]\n",
    "        key_moon = {self.others[0]: self.other_one, \n",
    "                    self.others[1]: self.other_two, \n",
    "                    self.others[2]: self.other_three}\n",
    "        moon_attr = key_moon[moon]\n",
    "        \n",
    "        if moon_attr[other_dim] > dim:\n",
    "            change += 1\n",
    "        elif moon_attr[other_dim] < dim:\n",
    "            change -+ 1\n",
    "        \n",
    "        return change\n",
    "    \n",
    "    def find_velocities(self):\n",
    "        \"\"\"Apply self.find_velocity() in a loop for each dimension and moon\"\"\"\n",
    "        \n",
    "        velocity = self.vel\n",
    "        \n",
    "        for dimension in ['x', 'y', 'z']: \n",
    "            for moon in self.others:\n",
    "                change = self.find_velocity(dimension, moon)\n",
    "                \n",
    "                if dimension == 'x':\n",
    "                    velocity[0] += change\n",
    "                elif dimension == 'y':\n",
    "                    velocity[1] += change\n",
    "                else:\n",
    "                    velocity[2] += change\n",
    "                    \n",
    "        self.vel = velocity\n",
    "        return self.vel #TEMP\n",
    "    \n",
    "    def find_next_position(self):\n",
    "        \"\"\"Find next position but don't apply yet - must compute for all 4 moons first\"\"\"\n",
    "        for i in range(3):\n",
    "            self.next[i] = self.pos[i] + self.vel[i]\n",
    "    \n",
    "    def move(self):\n",
    "        \"\"\"Once the next position of all 4 moons has been determined, move\"\"\"\n",
    "        for i in range(3):\n",
    "            self.pos[i] = self.next[i]"
   ]
  },
  {
   "cell_type": "code",
   "execution_count": 56,
   "metadata": {},
   "outputs": [],
   "source": [
    "def run_step(moons):\n",
    "    \"\"\"Apply all the steps to all the moons\"\"\"\n",
    "    \n",
    "    output = []\n",
    "    \n",
    "    for moon in moons:\n",
    "        moon.find_others()\n",
    "        \n",
    "    for moon in moons:\n",
    "        moon.find_velocities()\n",
    "        \n",
    "#     for moon in moons: \n",
    "#         moon.find_next_position()\n",
    "        \n",
    "#     for moon in moons:\n",
    "#         moon.move()\n",
    "    \n",
    "#     for moon in moons:\n",
    "#         output.append(moon.pos)\n",
    "\n",
    "    for moon in moons:\n",
    "        output.append(moon.vel)\n",
    "        \n",
    "    return output"
   ]
  },
  {
   "cell_type": "code",
   "execution_count": 8,
   "metadata": {},
   "outputs": [],
   "source": [
    "moon_1, moon_2, moon_3, moon_4 = Moon(), Moon(), Moon(), Moon()"
   ]
  },
  {
   "cell_type": "markdown",
   "metadata": {},
   "source": [
    "Set initial positions:"
   ]
  },
  {
   "cell_type": "code",
   "execution_count": 9,
   "metadata": {},
   "outputs": [],
   "source": [
    "initial = [[6, 10, 10], [-9, 3, 17], [9, -4, 14], [4, 14, 4]]\n",
    "moons_all = [moon_1, moon_2, moon_3, moon_4]\n",
    "\n",
    "for moon, coords in zip(moons_all, initial): \n",
    "    moon.pos = coords\n",
    "    moon.vel = [0, 0, 0]"
   ]
  },
  {
   "cell_type": "markdown",
   "metadata": {},
   "source": [
    "Tell each moon which are the other 3:"
   ]
  },
  {
   "cell_type": "code",
   "execution_count": 10,
   "metadata": {},
   "outputs": [],
   "source": [
    "moon_1.identify_others(moon_2, moon_3, moon_4)\n",
    "moon_2.identify_others(moon_1, moon_3, moon_4)\n",
    "moon_3.identify_others(moon_1, moon_2, moon_4)\n",
    "moon_4.identify_others(moon_1, moon_2, moon_3)"
   ]
  },
  {
   "cell_type": "code",
   "execution_count": 31,
   "metadata": {},
   "outputs": [],
   "source": []
  },
  {
   "cell_type": "code",
   "execution_count": 32,
   "metadata": {},
   "outputs": [
    {
     "name": "stdout",
     "output_type": "stream",
     "text": [
      "[[5, 2, 4], [4, -4, -1], [4, -4, 8], [4, 5, 3]]\n"
     ]
    }
   ],
   "source": [
    "print(run_step(moons_all))"
   ]
  },
  {
   "cell_type": "markdown",
   "metadata": {},
   "source": [
    "Test on the inputs provided - SOMETHING IS WRONG. Go back and check the formulas in the Class. It's because I've been resetting velocity with each step, but it actually should persist and add. "
   ]
  },
  {
   "cell_type": "code",
   "execution_count": 57,
   "metadata": {},
   "outputs": [],
   "source": [
    "initial_2 = [[-1, 0, 2], [2, -10, -7], [4, -8, 8], [3, 5, -1]]\n",
    "moon_1, moon_2, moon_3, moon_4 = Moon(), Moon(), Moon(), Moon()\n",
    "moons_all = [moon_1, moon_2, moon_3, moon_4]\n",
    "\n",
    "for moon, coords in zip(moons_all, initial_2): \n",
    "    moon.pos = coords\n",
    "    moon.vel = [0, 0, 0]\n",
    "    \n",
    "moon_1.identify_others(moon_2, moon_3, moon_4)\n",
    "moon_2.identify_others(moon_1, moon_3, moon_4)\n",
    "moon_3.identify_others(moon_1, moon_2, moon_4)\n",
    "moon_4.identify_others(moon_1, moon_2, moon_3)"
   ]
  },
  {
   "cell_type": "code",
   "execution_count": 58,
   "metadata": {},
   "outputs": [
    {
     "name": "stdout",
     "output_type": "stream",
     "text": [
      "[4, -8, 8]\n",
      "[0, 0, 0]\n",
      "[None, None, None]\n"
     ]
    }
   ],
   "source": [
    "print(moon_3.pos)\n",
    "print(moon_3.vel)\n",
    "print(moon_3.next)"
   ]
  },
  {
   "cell_type": "code",
   "execution_count": 59,
   "metadata": {},
   "outputs": [
    {
     "name": "stdout",
     "output_type": "stream",
     "text": [
      "[[3, 1, 1], [2, 3, 3], [0, 2, 0], [1, 0, 2]]\n"
     ]
    }
   ],
   "source": [
    "print(run_step(moons_all))"
   ]
  },
  {
   "cell_type": "code",
   "execution_count": 46,
   "metadata": {},
   "outputs": [
    {
     "name": "stdout",
     "output_type": "stream",
     "text": [
      "[2, 1, 3]\n"
     ]
    }
   ],
   "source": [
    "print(moon_1.pos)"
   ]
  },
  {
   "cell_type": "code",
   "execution_count": 17,
   "metadata": {},
   "outputs": [
    {
     "name": "stdout",
     "output_type": "stream",
     "text": [
      "x - one\n",
      "x - two\n",
      "x - three\n",
      "y - one\n",
      "y - two\n",
      "y - three\n",
      "z - one\n",
      "z - two\n",
      "z - three\n"
     ]
    }
   ],
   "source": [
    "for dimension in ['x', 'y', 'z']:\n",
    "    for moon in ['one', 'two', 'three']:\n",
    "        print(dimension + ' - ' + moon)"
   ]
  },
  {
   "cell_type": "code",
   "execution_count": null,
   "metadata": {},
   "outputs": [],
   "source": []
  }
 ],
 "metadata": {
  "kernelspec": {
   "display_name": "Python 3",
   "language": "python",
   "name": "python3"
  },
  "language_info": {
   "codemirror_mode": {
    "name": "ipython",
    "version": 3
   },
   "file_extension": ".py",
   "mimetype": "text/x-python",
   "name": "python",
   "nbconvert_exporter": "python",
   "pygments_lexer": "ipython3",
   "version": "3.8.0"
  }
 },
 "nbformat": 4,
 "nbformat_minor": 2
}
