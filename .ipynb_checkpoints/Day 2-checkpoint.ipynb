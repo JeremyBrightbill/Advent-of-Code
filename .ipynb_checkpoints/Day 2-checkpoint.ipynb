{
 "cells": [
  {
   "cell_type": "code",
   "execution_count": 11,
   "metadata": {},
   "outputs": [
    {
     "name": "stdout",
     "output_type": "stream",
     "text": [
      "1,0,0,3,1,1,2,3,1,3,4,3,1,5,0,3,2,10,1,19,1,5,19,23,1,23,5,27,1,27,13,31,1,31,5,35,1,9,35,39,2,13,39,43,1,43,10,47,1,47,13,51,2,10,51,55,1,55,5,59,1,59,5,63,1,63,13,67,1,13,67,71,1,71,10,75,1,6,75,79,1,6,79,83,2,10,83,87,1,87,5,91,1,5,91,95,2,95,10,99,1,9,99,103,1,103,13,107,2,10,107,111,2,13,111,115,1,6,115,119,1,119,10,123,2,9,123,127,2,127,9,131,1,131,10,135,1,135,2,139,1,10,139,0,99,2,0,14,0\n",
      "\n"
     ]
    }
   ],
   "source": [
    "data = []\n",
    "\n",
    "with open('data/day_2.txt') as f:\n",
    "    data = f.read()\n",
    "    \n",
    "print(data)\n"
   ]
  },
  {
   "cell_type": "code",
   "execution_count": 19,
   "metadata": {},
   "outputs": [
    {
     "name": "stdout",
     "output_type": "stream",
     "text": [
      "[1, 0, 0, 3, 1, 1, 2, 3, 1, 3, 4, 3, 1, 5, 0, 3, 2, 1, 0, 1, 1, 9, 1, 5, 1, 9, 2, 3, 1, 2, 3, 5, 2, 7, 1, 2, 7, 1, 3, 3, 1, 1, 3, 1, 5, 3, 5, 1, 9, 3, 5, 3, 9, 2, 1, 3, 3, 9, 4, 3, 1, 4, 3, 1, 0, 4, 7, 1, 4, 7, 1, 3, 5, 1, 2, 1, 0, 5, 1, 5, 5, 1, 5, 5, 5, 5, 9, 1, 5, 9, 5, 6, 3, 1, 6, 3, 1, 3, 6, 7, 1, 1, 3, 6, 7, 7, 1, 1, 7, 1, 1, 0, 7, 5, 1, 6, 7, 5, 7, 9, 1, 6, 7, 9, 8, 3, 2, 1, 0, 8, 3, 8, 7, 1, 8, 7, 5, 9, 1, 1, 5, 9, 1, 9, 5, 2, 9, 5, 1, 0, 9, 9, 1, 9, 9, 9, 1, 0, 3, 1, 1, 0, 3, 1, 3, 1, 0, 7, 2, 1, 0, 1, 0, 7, 1, 1, 1, 2, 1, 3, 1, 1, 1, 1, 1, 5, 1, 6, 1, 1, 5, 1, 1, 9, 1, 1, 1, 9, 1, 0, 1, 2, 3, 2, 9, 1, 2, 3, 1, 2, 7, 2, 1, 2, 7, 9, 1, 3, 1, 1, 1, 3, 1, 1, 0, 1, 3, 5, 1, 1, 3, 5, 2, 1, 3, 9, 1, 1, 0, 1, 3, 9, 0, 9, 9, 2, 0, 1, 4, 0]\n"
     ]
    }
   ],
   "source": [
    "program = [int(character) for character in data if character not in (',', '\\n')]\n",
    "print(program)\n",
    "\n",
    "# Problem: this split all the digits"
   ]
  },
  {
   "cell_type": "code",
   "execution_count": null,
   "metadata": {},
   "outputs": [],
   "source": []
  }
 ],
 "metadata": {
  "kernelspec": {
   "display_name": "Python 3",
   "language": "python",
   "name": "python3"
  },
  "language_info": {
   "codemirror_mode": {
    "name": "ipython",
    "version": 3
   },
   "file_extension": ".py",
   "mimetype": "text/x-python",
   "name": "python",
   "nbconvert_exporter": "python",
   "pygments_lexer": "ipython3",
   "version": "3.8.0"
  }
 },
 "nbformat": 4,
 "nbformat_minor": 2
}
