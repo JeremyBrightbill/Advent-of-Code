{
 "cells": [
  {
   "cell_type": "markdown",
   "metadata": {},
   "source": [
    "Need to modify existing opcode computer: \n",
    "\n",
    "First, you'll need to add two new instructions:\n",
    "\n",
    "* Opcode 3 takes a single integer as input and saves it to the position given by its only parameter. For example, the instruction 3,50 would take an input value and store it at address 50.\n",
    "* Opcode 4 outputs the value of its only parameter. For example, the instruction 4,50 would output the value at address 50. \n",
    "\n",
    "Programs that use these instructions will come with documentation that explains what should be connected to the input and output. The program 3,0,4,0,99 outputs whatever it gets as input, then halts."
   ]
  },
  {
   "cell_type": "markdown",
   "metadata": {},
   "source": [
    "Functions to load and parse data:"
   ]
  },
  {
   "cell_type": "code",
   "execution_count": 1,
   "metadata": {},
   "outputs": [],
   "source": [
    "def load_data(path):\n",
    "    with open(path) as f:\n",
    "        program = f.read()\n",
    "    return program\n",
    "\n",
    "def parse_data(program): \n",
    "    \"\"\"Function to split string at every comma and return list of strings.\n",
    "    Some will be converted to int later, but need to start as strings.\"\"\"\n",
    "    \n",
    "    program = program.split(',')\n",
    "    program = [value for value in program]\n",
    "    return program"
   ]
  },
  {
   "cell_type": "code",
   "execution_count": 2,
   "metadata": {},
   "outputs": [
    {
     "name": "stdout",
     "output_type": "stream",
     "text": [
      "['3', '225', '1', '225', '6', '6', '1100', '1', '238', '225', '104', '0', '1102', '9', '19', '225', '1', '136', '139', '224', '101', '-17', '224', '224', '4', '224', '102', '8', '223', '223', '101', '6', '224', '224', '1', '223', '224', '223', '2', '218', '213', '224', '1001', '224', '-4560', '224', '4', '224', '102', '8']\n"
     ]
    }
   ],
   "source": [
    "program = parse_data(load_data('data/day_5.txt'))\n",
    "print(program[:50])"
   ]
  },
  {
   "cell_type": "markdown",
   "metadata": {},
   "source": [
    "Have to think carefully here. What lengths can the strings come in? How to identify each one? \n",
    "\n",
    "* Code 1 is 4 digits, from right to left: 2-digit code (01), parameter 1, parameter 2 (unstated parameter 3, always 0)\n",
    "* Code 2 is 4 digits, from right to left: 2-digit code (02), parameter 1, parameter 2 (unstated parameter 3, always 0)\n",
    "* Code 3 is 3 digits, from right to left: 2-digit code (03), parameter 1\n",
    "* Code 4 is 3 digits, from right to left: 2-digit code (04), parameter 1\n",
    "* Code 99 is 2 digits: 99"
   ]
  },
  {
   "cell_type": "code",
   "execution_count": 3,
   "metadata": {},
   "outputs": [
    {
     "name": "stdout",
     "output_type": "stream",
     "text": [
      "(3, 1, 0)\n",
      "(99, None, None)\n",
      "(3, None, None)\n"
     ]
    }
   ],
   "source": [
    "def parse_opcode(opcode): \n",
    "    \"\"\"Given an opcode string as part of a program, this function\n",
    "    splits the string to identify: \n",
    "    1) The opcode number, \n",
    "    2) The modes of the first two parameters. Omitting parameter 3 because \n",
    "    it's a write operation and will always be 0 (position mode).\"\"\"\n",
    "    \n",
    "    full = str(opcode)\n",
    "    code = int(full[-2:])\n",
    "    \n",
    "    if len(full) == 4: \n",
    "        mode_1 = int(full[-3])\n",
    "        mode_2 = int(full[-4])\n",
    "    \n",
    "    elif len(full) == 3:\n",
    "        mode_1 = int(full[-3])\n",
    "        mode_2 = None\n",
    "    \n",
    "    else: # Code is 3 or 99\n",
    "        mode_1 = None\n",
    "        mode_2 = None\n",
    "        \n",
    "    return (code, mode_1, mode_2)\n",
    "\n",
    "# Test\n",
    "\n",
    "print(parse_opcode('0103'))\n",
    "print(parse_opcode('99'))\n",
    "print(parse_opcode('03'))"
   ]
  },
  {
   "cell_type": "markdown",
   "metadata": {},
   "source": [
    "New approach: Create sub-function to process a single opcode. Keep the while loop to call it for each opcode, skipping ahead as determined by the pointer. "
   ]
  },
  {
   "cell_type": "code",
   "execution_count": 30,
   "metadata": {},
   "outputs": [],
   "source": [
    "def run_opcode(program, index, code, input_val = None):\n",
    "    \"\"\"Function to process a single opcode located at the index specified, \n",
    "    given a full program and a tuple of code plus parameter modes.\"\"\"\n",
    "    \n",
    "    p = program.copy()\n",
    "    output = None\n",
    "    \n",
    "    if code[0] in [1, 2]:\n",
    "        param_1_dict = {0: p[int(p[index + 1])], \n",
    "                        1: p[index + 1]}\n",
    "        param_2_dict = {0: p[int(p[index + 2])], \n",
    "                        1: p[index + 2]}\n",
    "    \n",
    "    if code[0] == 1:\n",
    "        p[int(p[index + 3])] = str(int(param_1_dict[code[1]]) + int(param_2_dict[code[2]]))\n",
    "        index += 4\n",
    "    elif code[0] == 2:\n",
    "        p[int(p[index + 3])] = str(int(param_1_dict[code[1]]) * int(param_2_dict[code[2]]))\n",
    "        index += 4\n",
    "    elif code[0] == 3: \n",
    "        p[int(p[index + 1])] = str(input_val)\n",
    "        index += 2\n",
    "    elif code[0] == 4:\n",
    "        output = p[index + 1]\n",
    "        index += 2\n",
    "    elif code[0] == 99:\n",
    "        output = \"finished\"\n",
    "    else:\n",
    "        raise Exception(\"Not a valid opcode\")\n",
    "        \n",
    "    return (p, index, output) # In calling function, can retrieve tuple values by index"
   ]
  },
  {
   "cell_type": "code",
   "execution_count": 31,
   "metadata": {},
   "outputs": [
    {
     "name": "stdout",
     "output_type": "stream",
     "text": [
      "code 0\n"
     ]
    }
   ],
   "source": [
    "param_dict = {0: \"code 0\", \n",
    "             1: \"code 1\"}\n",
    "\n",
    "code = [0, 1]\n",
    "\n",
    "print(param_dict[code[0]])"
   ]
  },
  {
   "cell_type": "markdown",
   "metadata": {},
   "source": [
    "Run some tests on this function:"
   ]
  },
  {
   "cell_type": "code",
   "execution_count": 32,
   "metadata": {},
   "outputs": [
    {
     "name": "stdout",
     "output_type": "stream",
     "text": [
      "['1002', '4', '3', '4', '33']\n"
     ]
    }
   ],
   "source": [
    "test3 = ['1002','4','3','4','33']\n",
    "print(test3)"
   ]
  },
  {
   "cell_type": "code",
   "execution_count": 33,
   "metadata": {},
   "outputs": [
    {
     "name": "stdout",
     "output_type": "stream",
     "text": [
      "(2, 0, 1)\n"
     ]
    }
   ],
   "source": [
    "a = parse_opcode(test3[0])\n",
    "print(a)"
   ]
  },
  {
   "cell_type": "code",
   "execution_count": 34,
   "metadata": {},
   "outputs": [
    {
     "name": "stdout",
     "output_type": "stream",
     "text": [
      "(['1002', '4', '3', '4', '99'], 4, None)\n"
     ]
    },
    {
     "data": {
      "text/plain": [
       "tuple"
      ]
     },
     "execution_count": 34,
     "metadata": {},
     "output_type": "execute_result"
    }
   ],
   "source": [
    "b = run_opcode(program = test3, index = 0, code = a)\n",
    "print(b)\n",
    "type(b)"
   ]
  },
  {
   "cell_type": "code",
   "execution_count": 35,
   "metadata": {},
   "outputs": [
    {
     "name": "stdout",
     "output_type": "stream",
     "text": [
      "(['03', '2', '5'], 2, None)\n"
     ]
    }
   ],
   "source": [
    "test4 = ['03', '2', '0']\n",
    "c = parse_opcode(test4[0])\n",
    "d = run_opcode(program = test4, index = 0, code = c, input_val = 5)\n",
    "print(d)"
   ]
  },
  {
   "cell_type": "markdown",
   "metadata": {},
   "source": [
    "Function to run the entire program:"
   ]
  },
  {
   "cell_type": "code",
   "execution_count": 36,
   "metadata": {},
   "outputs": [],
   "source": [
    "def run_program_v1(program, input_val): \n",
    "    \n",
    "    p = program.copy()\n",
    "    pointer = 0\n",
    "    finished = False\n",
    "    output = []\n",
    "\n",
    "    while pointer < len(p) and not finished: \n",
    "        #print(pointer)\n",
    "        code = parse_opcode(p[pointer]) \n",
    "        result = run_opcode(p, pointer, code, input_val)\n",
    "        p = result[0]\n",
    "        if result[2] == \"finished\":\n",
    "            finished = True \n",
    "        else: \n",
    "            pointer = result[1]\n",
    "        \n",
    "    return output"
   ]
  },
  {
   "cell_type": "code",
   "execution_count": 37,
   "metadata": {},
   "outputs": [
    {
     "name": "stdout",
     "output_type": "stream",
     "text": [
      "['1002', '4', '3', '4', '33']\n"
     ]
    }
   ],
   "source": [
    "test3 = ['1002','4','3','4','33']\n",
    "print(test3)"
   ]
  },
  {
   "cell_type": "code",
   "execution_count": 38,
   "metadata": {},
   "outputs": [
    {
     "name": "stdout",
     "output_type": "stream",
     "text": [
      "(2, 0, 1)\n"
     ]
    }
   ],
   "source": [
    "k = parse_opcode(test3[0])\n",
    "print(k)"
   ]
  },
  {
   "cell_type": "code",
   "execution_count": 39,
   "metadata": {},
   "outputs": [
    {
     "name": "stdout",
     "output_type": "stream",
     "text": [
      "(['1002', '4', '3', '4', '99'], 4, None)\n"
     ]
    }
   ],
   "source": [
    "print(run_opcode(test3, 0, k))"
   ]
  },
  {
   "cell_type": "code",
   "execution_count": 40,
   "metadata": {},
   "outputs": [
    {
     "name": "stdout",
     "output_type": "stream",
     "text": [
      "[]\n"
     ]
    }
   ],
   "source": [
    "x = run_program_v1(test3, input_val = 3)\n",
    "print(x)"
   ]
  },
  {
   "cell_type": "markdown",
   "metadata": {},
   "source": [
    "That's something to build on."
   ]
  },
  {
   "cell_type": "markdown",
   "metadata": {},
   "source": [
    "If necessary, see Ray's answer: https://github.com/raybuhr/adventofcode/commit/ce754779f006b572ddee38fbb14ef055ce2cd017"
   ]
  }
 ],
 "metadata": {
  "kernelspec": {
   "display_name": "Python 3",
   "language": "python",
   "name": "python3"
  },
  "language_info": {
   "codemirror_mode": {
    "name": "ipython",
    "version": 3
   },
   "file_extension": ".py",
   "mimetype": "text/x-python",
   "name": "python",
   "nbconvert_exporter": "python",
   "pygments_lexer": "ipython3",
   "version": "3.8.0"
  }
 },
 "nbformat": 4,
 "nbformat_minor": 2
}
