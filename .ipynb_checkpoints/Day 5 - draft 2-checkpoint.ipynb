{
 "cells": [
  {
   "cell_type": "markdown",
   "metadata": {},
   "source": [
    "Need to modify existing opcode computer: \n",
    "\n",
    "First, you'll need to add two new instructions:\n",
    "\n",
    "* Opcode 3 takes a single integer as input and saves it to the position given by its only parameter. For example, the instruction 3,50 would take an input value and store it at address 50.\n",
    "* Opcode 4 outputs the value of its only parameter. For example, the instruction 4,50 would output the value at address 50. \n",
    "\n",
    "Programs that use these instructions will come with documentation that explains what should be connected to the input and output. The program 3,0,4,0,99 outputs whatever it gets as input, then halts."
   ]
  },
  {
   "cell_type": "markdown",
   "metadata": {},
   "source": [
    "Functions to load and parse data:"
   ]
  },
  {
   "cell_type": "code",
   "execution_count": 1,
   "metadata": {},
   "outputs": [],
   "source": [
    "def load_data(path):\n",
    "    with open(path) as f:\n",
    "        program = f.read()\n",
    "    return program\n",
    "\n",
    "def parse_data(program): \n",
    "    \"\"\"Function to split string at every comma and return list of strings.\n",
    "    Some will be converted to int later, but need to start as strings.\"\"\"\n",
    "    \n",
    "    program = program.split(',')\n",
    "    program = [value for value in program]\n",
    "    return program"
   ]
  },
  {
   "cell_type": "code",
   "execution_count": 2,
   "metadata": {},
   "outputs": [
    {
     "name": "stdout",
     "output_type": "stream",
     "text": [
      "['3', '225', '1', '225', '6', '6', '1100', '1', '238', '225', '104', '0', '1102', '9', '19', '225', '1', '136', '139', '224', '101', '-17', '224', '224', '4', '224', '102', '8', '223', '223', '101', '6', '224', '224', '1', '223', '224', '223', '2', '218', '213', '224', '1001', '224', '-4560', '224', '4', '224', '102', '8']\n"
     ]
    }
   ],
   "source": [
    "program = parse_data(load_data('data/day_5.txt'))\n",
    "print(program[:50])"
   ]
  },
  {
   "cell_type": "markdown",
   "metadata": {},
   "source": [
    "Have to think carefully here. What lengths can the strings come in? How to identify each one? \n",
    "\n",
    "* Code 1 is 4 digits, from right to left: 2-digit code (01), parameter 1, parameter 2 (unstated parameter 3, always 0)\n",
    "* Code 2 is 4 digits, from right to left: 2-digit code (02), parameter 1, parameter 2 (unstated parameter 3, always 0)\n",
    "* Code 3 is 3 digits, from right to left: 2-digit code (03), parameter 1\n",
    "* Code 4 is 3 digits, from right to left: 2-digit code (04), parameter 1\n",
    "* Code 99 is 2 digits: 99"
   ]
  },
  {
   "cell_type": "code",
   "execution_count": 3,
   "metadata": {},
   "outputs": [
    {
     "name": "stdout",
     "output_type": "stream",
     "text": [
      "4\n",
      "1\n",
      "2\n"
     ]
    }
   ],
   "source": [
    "def parse_opcode(opcode): \n",
    "    \"\"\"Given an opcode string as part of a program, this function\n",
    "    splits the string to identify: \n",
    "    1) The opcode number, \n",
    "    2) The modes of the first three parameters. Parameter 3 will always\n",
    "    have a mode of 0 (position) because it's a write operation.\"\"\"\n",
    "    \n",
    "    full = str(opcode)\n",
    "    code = full[-2:]\n",
    "    \n",
    "    if len(full) == 4: \n",
    "        mode_1 = full[-3]\n",
    "        mode_2 = full[-4]\n",
    "        mode_3 = '0'\n",
    "    \n",
    "        return (code, mode_1, mode_2, mode_3)\n",
    "    \n",
    "    elif len(full) == 3:\n",
    "        mode_1 = full[-3]\n",
    "                \n",
    "        return(code, mode_1)\n",
    "    \n",
    "    else: # Code is 99\n",
    "        return(code,)\n",
    "\n",
    "# Test\n",
    "\n",
    "print(len(parse_opcode('0123')))\n",
    "print(len(parse_opcode('99')))\n",
    "print(len(parse_opcode('030')))"
   ]
  },
  {
   "cell_type": "code",
   "execution_count": 26,
   "metadata": {},
   "outputs": [],
   "source": [
    "def run_opcode_v2(program, input_val): \n",
    "    \n",
    "    p = program.copy()\n",
    "    pointer = 0\n",
    "    finished = False\n",
    "    output = []\n",
    "\n",
    "    while pointer < len(p) and not finished: \n",
    "        codes = parse_opcode(p[pointer]) \n",
    "                \n",
    "        if len(codes) == 4:\n",
    "            code, mode_1, mode_2, mode_3 = codes\n",
    "            pointer += 4\n",
    "        elif len(codes) == 2:\n",
    "            code, mode_1 = codes\n",
    "            pointer += 2\n",
    "        else: # len(codes) == 1, so it's just 99\n",
    "            code = codes\n",
    "        \n",
    "#         if code == '01': \n",
    "#             if mode_1 == 0 and mode_2 == 0:\n",
    "#                 p[p[pointer + 3]] = p[p[pointer + 1]] + p[p[pointer + 2]]\n",
    "#             elif mode_1 == 0 and mode_2 == 1:\n",
    "#                 p[p[pointer + 3]] = p[p[pointer + 1]] + p[pointer + 2]\n",
    "#             elif mode_1 == 1 and mode_2 == 0:\n",
    "#                 p[p[pointer + 3]] = p[pointer + 1] + p[p[pointer + 2]]\n",
    "#             elif mode_1 == 1 and mode_2 == 1: # Both == 1\n",
    "#                 p[p[pointer + 3]] = p[pointer + 1] + p[pointer + 2]\n",
    "#             else:\n",
    "#                 print(\"Error\")\n",
    "#             pointer += 4\n",
    "#         elif code == '02': \n",
    "#             if mode_1 == 0 and mode_2 == 0:\n",
    "#                 p[p[pointer + 3]] = p[p[pointer + 1]] * p[p[pointer + 2]]\n",
    "#             elif mode_1 == 0 and mode_2 == 1:\n",
    "#                 p[p[pointer + 3]] = p[p[pointer + 1]] * p[pointer + 2]\n",
    "#             elif mode_1 == 1 and mode_2 == 0:\n",
    "#                 p[p[pointer + 3]] = p[pointer + 1] * p[p[pointer + 2]]\n",
    "#             else: # Both == 1\n",
    "#                 p[p[pointer + 3]] = p[pointer + 1] * p[pointer + 2]\n",
    "#             pointer += 4\n",
    "#         elif code == '03':\n",
    "#             p[p[pointer + 1]] = input_val\n",
    "#             pointer += 2\n",
    "#         elif code == '04': \n",
    "#             if mode_1 == 0:\n",
    "#                 output.append(p[p[pointer + 1]])\n",
    "#             else: # mode_1 == 1\n",
    "#                 output.append(p[pointer + 1])\n",
    "#             pointer += 2\n",
    "#         elif code == '99':\n",
    "#             finished = True\n",
    "        \n",
    "    return code #output"
   ]
  },
  {
   "cell_type": "code",
   "execution_count": 27,
   "metadata": {},
   "outputs": [
    {
     "name": "stdout",
     "output_type": "stream",
     "text": [
      "['1002', '4', '3', '4', '33']\n"
     ]
    }
   ],
   "source": [
    "test3 = ['1002','4','3','4','33']\n",
    "print(test3)"
   ]
  },
  {
   "cell_type": "code",
   "execution_count": null,
   "metadata": {},
   "outputs": [],
   "source": [
    "x = run_opcode_v2(test3, input_val = '3')\n",
    "print(x)"
   ]
  },
  {
   "cell_type": "code",
   "execution_count": 19,
   "metadata": {},
   "outputs": [
    {
     "name": "stdout",
     "output_type": "stream",
     "text": [
      "[]\n"
     ]
    }
   ],
   "source": [
    "test4 = ['0020']\n",
    "y = run_opcode_v2(test4, input_val = 3)\n",
    "print(y)"
   ]
  },
  {
   "cell_type": "code",
   "execution_count": 20,
   "metadata": {},
   "outputs": [
    {
     "name": "stdout",
     "output_type": "stream",
     "text": [
      "[]\n"
     ]
    }
   ],
   "source": [
    "test5 = ['030']\n",
    "z = run_opcode_v2(test5, input_val = 3)\n",
    "print(z)"
   ]
  },
  {
   "cell_type": "markdown",
   "metadata": {},
   "source": [
    "If necessary, see Ray's answer: https://github.com/raybuhr/adventofcode/commit/ce754779f006b572ddee38fbb14ef055ce2cd017"
   ]
  }
 ],
 "metadata": {
  "kernelspec": {
   "display_name": "Python 3",
   "language": "python",
   "name": "python3"
  },
  "language_info": {
   "codemirror_mode": {
    "name": "ipython",
    "version": 3
   },
   "file_extension": ".py",
   "mimetype": "text/x-python",
   "name": "python",
   "nbconvert_exporter": "python",
   "pygments_lexer": "ipython3",
   "version": "3.7.0"
  }
 },
 "nbformat": 4,
 "nbformat_minor": 2
}
