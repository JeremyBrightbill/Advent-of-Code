{
 "cells": [
  {
   "cell_type": "code",
   "execution_count": 1,
   "metadata": {},
   "outputs": [
    {
     "name": "stdout",
     "output_type": "stream",
     "text": [
      "1,0,0,3,1,1,2,3,1,3,4,3,1,5,0,3,2,9,1,19,1,19,6,23,2,6,23,27,2,27,9,31,1,5,31,35,1,35,10,39,2,39,9,43,1,5,43,47,2,47,10,51,1,51,6,55,1,5,55,59,2,6,59,63,2,63,6,67,1,5,67,71,1,71,9,75,2,75,10,79,1,79,5,83,1,10,83,87,1,5,87,91,2,13,91,95,1,95,10,99,2,99,13,103,1,103,5,107,1,107,13,111,2,111,9,115,1,6,115,119,2,119,6,123,1,123,6,127,1,127,9,131,1,6,131,135,1,135,2,139,1,139,10,0,99,2,0,14,0\n"
     ]
    }
   ],
   "source": [
    "with open('data/day_2.txt') as f:\n",
    "    for line in f:\n",
    "        program_str = line\n",
    "\n",
    "print(program_str)"
   ]
  },
  {
   "cell_type": "code",
   "execution_count": 2,
   "metadata": {},
   "outputs": [
    {
     "name": "stdout",
     "output_type": "stream",
     "text": [
      "[1, 0, 0, 3, 1, 1, 2, 3, 1, 3, 4, 3, 1, 5, 0, 3, 2, 9, 1, 19, 1, 19, 6, 23, 2, 6, 23, 27, 2, 27, 9, 31, 1, 5, 31, 35, 1, 35, 10, 39, 2, 39, 9, 43, 1, 5, 43, 47, 2, 47, 10, 51, 1, 51, 6, 55, 1, 5, 55, 59, 2, 6, 59, 63, 2, 63, 6, 67, 1, 5, 67, 71, 1, 71, 9, 75, 2, 75, 10, 79, 1, 79, 5, 83, 1, 10, 83, 87, 1, 5, 87, 91, 2, 13, 91, 95, 1, 95, 10, 99, 2, 99, 13, 103, 1, 103, 5, 107, 1, 107, 13, 111, 2, 111, 9, 115, 1, 6, 115, 119, 2, 119, 6, 123, 1, 123, 6, 127, 1, 127, 9, 131, 1, 6, 131, 135, 1, 135, 2, 139, 1, 139, 10, 0, 99, 2, 0, 14, 0]\n"
     ]
    }
   ],
   "source": [
    "program_split = program_str.split(',')\n",
    "\n",
    "program = [int(value) for value in program_split]\n",
    "\n",
    "print(program)"
   ]
  },
  {
   "cell_type": "markdown",
   "metadata": {},
   "source": [
    "Restore the program to its state before the crash:"
   ]
  },
  {
   "cell_type": "code",
   "execution_count": 3,
   "metadata": {},
   "outputs": [
    {
     "name": "stdout",
     "output_type": "stream",
     "text": [
      "[1, 12, 2, 3, 1, 1, 2, 3, 1, 3, 4, 3, 1, 5, 0, 3, 2, 9, 1, 19, 1, 19, 6, 23, 2, 6, 23, 27, 2, 27, 9, 31, 1, 5, 31, 35, 1, 35, 10, 39, 2, 39, 9, 43, 1, 5, 43, 47, 2, 47, 10, 51, 1, 51, 6, 55, 1, 5, 55, 59, 2, 6, 59, 63, 2, 63, 6, 67, 1, 5, 67, 71, 1, 71, 9, 75, 2, 75, 10, 79, 1, 79, 5, 83, 1, 10, 83, 87, 1, 5, 87, 91, 2, 13, 91, 95, 1, 95, 10, 99, 2, 99, 13, 103, 1, 103, 5, 107, 1, 107, 13, 111, 2, 111, 9, 115, 1, 6, 115, 119, 2, 119, 6, 123, 1, 123, 6, 127, 1, 127, 9, 131, 1, 6, 131, 135, 1, 135, 2, 139, 1, 139, 10, 0, 99, 2, 0, 14, 0]\n"
     ]
    }
   ],
   "source": [
    "program[1] = 12\n",
    "program[2] = 2\n",
    "\n",
    "print(program)"
   ]
  },
  {
   "cell_type": "markdown",
   "metadata": {},
   "source": [
    "What value is left in position 0 after the program halts?"
   ]
  },
  {
   "cell_type": "code",
   "execution_count": 102,
   "metadata": {},
   "outputs": [],
   "source": [
    "def run_opcode_beta0(program):\n",
    "    \n",
    "    index = range(0, len(program))\n",
    "    \n",
    "    for i in index:\n",
    "        if program[i] == 1:\n",
    "            program[program[i + 3]] = program[i + 1] + program[i + 2]\n",
    "        elif program[i] == 2:\n",
    "            program[program[i + 3]] = program[i + 1] * program[i + 2]\n",
    "        elif program[i] == 99:\n",
    "            break\n",
    "        else:\n",
    "            continue\n",
    "    \n",
    "    return program\n",
    "\n",
    "# TO DO: Make it skip ahead 4 after a 1 or 2"
   ]
  },
  {
   "cell_type": "markdown",
   "metadata": {},
   "source": [
    "Build up to function:"
   ]
  },
  {
   "cell_type": "code",
   "execution_count": 7,
   "metadata": {},
   "outputs": [],
   "source": [
    "# First, see if the indexing works\n",
    "\n",
    "def run_opcode_beta1(program):\n",
    "    \n",
    "    index = range(len(program))\n",
    "    \n",
    "    for i in index: \n",
    "        program[i] = index[i]\n",
    "    \n",
    "    return program"
   ]
  },
  {
   "cell_type": "markdown",
   "metadata": {},
   "source": [
    "Run some tests:"
   ]
  },
  {
   "cell_type": "code",
   "execution_count": 8,
   "metadata": {},
   "outputs": [
    {
     "name": "stdout",
     "output_type": "stream",
     "text": [
      "[0, 1, 2, 3, 4]\n"
     ]
    }
   ],
   "source": [
    "test1 = [1, 0, 0, 0, 99]\n",
    "print(run_opcode_beta1(test1))"
   ]
  },
  {
   "cell_type": "code",
   "execution_count": 12,
   "metadata": {},
   "outputs": [],
   "source": [
    "def run_opcode_beta2(program):\n",
    "    \n",
    "    index = range(len(program))\n",
    "    \n",
    "    for i in index: \n",
    "        if program[i] == 1:\n",
    "            program[program[i + 3]] = program[program[i + 1]] + program[program[i + 2]]\n",
    "        elif program[i] == 2: \n",
    "            program[program[i + 3]] = program[program[i + 1]] * program[program[i + 2]]\n",
    "        elif program[i] == 99:\n",
    "            break\n",
    "        else: \n",
    "            continue\n",
    "    \n",
    "    return program"
   ]
  },
  {
   "cell_type": "code",
   "execution_count": 13,
   "metadata": {},
   "outputs": [
    {
     "name": "stdout",
     "output_type": "stream",
     "text": [
      "[2, 0, 0, 0, 99]\n"
     ]
    }
   ],
   "source": [
    "test1 = [1, 0, 0, 0, 99]\n",
    "print(run_opcode_beta2(test1))"
   ]
  },
  {
   "cell_type": "markdown",
   "metadata": {},
   "source": [
    "Ah I see - the last 4 positions won't run because they're preceded by 99. Looking before, the last opcode was to add the values in position 139 and 10 and store them in position 0. "
   ]
  },
  {
   "cell_type": "code",
   "execution_count": 14,
   "metadata": {},
   "outputs": [
    {
     "name": "stdout",
     "output_type": "stream",
     "text": [
      "[2, 3, 0, 6, 99]\n"
     ]
    }
   ],
   "source": [
    "test2 = [2,3,0,3,99]\n",
    "print(run_opcode_beta2(test2))"
   ]
  },
  {
   "cell_type": "code",
   "execution_count": 16,
   "metadata": {},
   "outputs": [
    {
     "name": "stdout",
     "output_type": "stream",
     "text": [
      "[2, 4, 4, 5, 99, 9801]\n"
     ]
    }
   ],
   "source": [
    "test3 = [2,4,4,5,99,0]\n",
    "print(run_opcode_beta2(test3))"
   ]
  },
  {
   "cell_type": "code",
   "execution_count": 19,
   "metadata": {},
   "outputs": [
    {
     "name": "stdout",
     "output_type": "stream",
     "text": [
      "[30, 1, 3, 4, 2, 5, 6, 0, 99]\n"
     ]
    }
   ],
   "source": [
    "test4 = [1, 1, 1, 4, 99, 5, 6, 0, 99]\n",
    "print(run_opcode_beta2(test4))"
   ]
  },
  {
   "cell_type": "markdown",
   "metadata": {},
   "source": [
    "The problem is that it needs to skip ahead 4 positions after each operator:"
   ]
  },
  {
   "cell_type": "code",
   "execution_count": 22,
   "metadata": {},
   "outputs": [],
   "source": [
    "def run_opcode_beta3(program):\n",
    "    \n",
    "    position = 0\n",
    "    \n",
    "    while position < len(program): \n",
    "        if program[position] == 1:\n",
    "            program[program[position + 3]] = program[program[position + 1]] + program[program[position + 2]]\n",
    "            position += 4\n",
    "        if program[position] == 2:\n",
    "            program[program[position + 3]] = program[program[position + 1]] * program[program[position + 2]]\n",
    "            position += 4\n",
    "        if program[position] == 99:\n",
    "            break\n",
    "        \n",
    "    return program"
   ]
  },
  {
   "cell_type": "code",
   "execution_count": 23,
   "metadata": {},
   "outputs": [
    {
     "name": "stdout",
     "output_type": "stream",
     "text": [
      "[2, 0, 0, 0, 99]\n"
     ]
    }
   ],
   "source": [
    "test1 = [1, 0, 0, 0, 99]\n",
    "print(run_opcode_beta3(test1))"
   ]
  },
  {
   "cell_type": "code",
   "execution_count": 24,
   "metadata": {},
   "outputs": [
    {
     "name": "stdout",
     "output_type": "stream",
     "text": [
      "[2, 3, 0, 6, 99]\n"
     ]
    }
   ],
   "source": [
    "test2 = [2,3,0,3,99]\n",
    "print(run_opcode_beta3(test2))"
   ]
  },
  {
   "cell_type": "code",
   "execution_count": 25,
   "metadata": {},
   "outputs": [
    {
     "name": "stdout",
     "output_type": "stream",
     "text": [
      "[2, 4, 4, 5, 99, 9801]\n"
     ]
    }
   ],
   "source": [
    "test3 = [2,4,4,5,99,0]\n",
    "print(run_opcode_beta3(test3))"
   ]
  },
  {
   "cell_type": "code",
   "execution_count": 26,
   "metadata": {},
   "outputs": [
    {
     "name": "stdout",
     "output_type": "stream",
     "text": [
      "[30, 1, 1, 4, 2, 5, 6, 0, 99]\n"
     ]
    }
   ],
   "source": [
    "test4 = [1, 1, 1, 4, 99, 5, 6, 0, 99]\n",
    "print(run_opcode_beta3(test4))"
   ]
  },
  {
   "cell_type": "markdown",
   "metadata": {},
   "source": [
    "So we're going with this version:"
   ]
  },
  {
   "cell_type": "code",
   "execution_count": 4,
   "metadata": {},
   "outputs": [],
   "source": [
    "def run_opcode(program):\n",
    "    \n",
    "    pointer = 0\n",
    "    \n",
    "    while pointer < len(program): \n",
    "        if program[pointer] == 1:\n",
    "            program[program[pointer + 3]] = program[program[pointer + 1]] + program[program[pointer + 2]]\n",
    "            pointer += 4\n",
    "        if program[pointer] == 2:\n",
    "            program[program[pointer + 3]] = program[program[pointer + 1]] * program[program[pointer + 2]]\n",
    "            pointer += 4\n",
    "        if program[pointer] == 99:\n",
    "            break\n",
    "        \n",
    "    return program"
   ]
  },
  {
   "cell_type": "code",
   "execution_count": 5,
   "metadata": {
    "scrolled": true
   },
   "outputs": [
    {
     "name": "stdout",
     "output_type": "stream",
     "text": [
      "[6730673, 12, 2, 2, 1, 1, 2, 3, 1, 3, 4, 3, 1, 5, 0, 3, 2, 9, 1, 36, 1, 19, 6, 38, 2, 6, 23, 76, 2, 27, 9, 228, 1, 5, 31, 229, 1, 35, 10, 233, 2, 39, 9, 699, 1, 5, 43, 700, 2, 47, 10, 2800, 1, 51, 6, 2802, 1, 5, 55, 2803, 2, 6, 59, 5606, 2, 63, 6, 11212, 1, 5, 67, 11213, 1, 71, 9, 11216, 2, 75, 10, 44864, 1, 79, 5, 44865, 1, 10, 83, 44869, 1, 5, 87, 44870, 2, 13, 91, 224350, 1, 95, 10, 224354, 2, 99, 13, 1121770, 1, 103, 5, 1121771, 1, 107, 13, 1121776, 2, 111, 9, 3365328, 1, 6, 115, 3365330, 2, 119, 6, 6730660, 1, 123, 6, 6730662, 1, 127, 9, 6730665, 1, 6, 131, 6730667, 1, 135, 2, 6730669, 1, 139, 10, 0, 99, 2, 0, 14, 0]\n"
     ]
    }
   ],
   "source": [
    "print(run_opcode(program))"
   ]
  },
  {
   "cell_type": "markdown",
   "metadata": {},
   "source": [
    "Answer: The value in position 0 is 6730673"
   ]
  },
  {
   "cell_type": "markdown",
   "metadata": {},
   "source": [
    "## Part 2"
   ]
  },
  {
   "cell_type": "code",
   "execution_count": 4,
   "metadata": {},
   "outputs": [
    {
     "name": "stdout",
     "output_type": "stream",
     "text": [
      "[1, 12, 2, 3, 1, 1, 2, 3, 1, 3, 4, 3, 1, 5, 0, 3, 2, 9, 1, 19, 1, 19, 6, 23, 2, 6, 23, 27, 2, 27, 9, 31, 1, 5, 31, 35, 1, 35, 10, 39, 2, 39, 9, 43, 1, 5, 43, 47, 2, 47, 10, 51, 1, 51, 6, 55, 1, 5, 55, 59, 2, 6, 59, 63, 2, 63, 6, 67, 1, 5, 67, 71, 1, 71, 9, 75, 2, 75, 10, 79, 1, 79, 5, 83, 1, 10, 83, 87, 1, 5, 87, 91, 2, 13, 91, 95, 1, 95, 10, 99, 2, 99, 13, 103, 1, 103, 5, 107, 1, 107, 13, 111, 2, 111, 9, 115, 1, 6, 115, 119, 2, 119, 6, 123, 1, 123, 6, 127, 1, 127, 9, 131, 1, 6, 131, 135, 1, 135, 2, 139, 1, 139, 10, 0, 99, 2, 0, 14, 0]\n"
     ]
    }
   ],
   "source": [
    "print(program) # In its state before the crash. \n",
    "\n",
    "# Position 0 = Output\n",
    "# Position 1 = Noun (Input)\n",
    "# Position 2 = Verb (Input)"
   ]
  },
  {
   "cell_type": "markdown",
   "metadata": {},
   "source": [
    "**Instructions:** Find the input noun and verb that cause the program to produce the output 19690720. What is 100 * noun + verb? (For example, if noun=12 and verb=2, the answer would be 1202.)"
   ]
  },
  {
   "cell_type": "markdown",
   "metadata": {},
   "source": [
    "Try brute force method, trying values from 0 to 10"
   ]
  },
  {
   "cell_type": "code",
   "execution_count": 6,
   "metadata": {},
   "outputs": [],
   "source": [
    "def test_output(program, input1, input2):\n",
    "    \n",
    "    program[1] = input1\n",
    "    program[2] = input2\n",
    "    \n",
    "    new = run_opcode(program)\n",
    "    output = new[0]\n",
    "    return output"
   ]
  },
  {
   "cell_type": "code",
   "execution_count": null,
   "metadata": {},
   "outputs": [],
   "source": [
    "print(test_output(program, 1, 3))"
   ]
  },
  {
   "cell_type": "code",
   "execution_count": null,
   "metadata": {},
   "outputs": [],
   "source": [
    "print(\"hello\")"
   ]
  },
  {
   "cell_type": "code",
   "execution_count": null,
   "metadata": {},
   "outputs": [],
   "source": []
  }
 ],
 "metadata": {
  "kernelspec": {
   "display_name": "Python 3",
   "language": "python",
   "name": "python3"
  },
  "language_info": {
   "codemirror_mode": {
    "name": "ipython",
    "version": 3
   },
   "file_extension": ".py",
   "mimetype": "text/x-python",
   "name": "python",
   "nbconvert_exporter": "python",
   "pygments_lexer": "ipython3",
   "version": "3.7.0"
  }
 },
 "nbformat": 4,
 "nbformat_minor": 2
}
