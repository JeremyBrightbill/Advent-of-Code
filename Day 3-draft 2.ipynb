{
 "cells": [
  {
   "cell_type": "code",
   "execution_count": 1,
   "metadata": {},
   "outputs": [
    {
     "name": "stdout",
     "output_type": "stream",
     "text": [
      "R1003,U741,L919,U341,L204,U723,L113,D340,L810,D238,R750,U409,L104,U65,R119,U58,R94,D738,L543,U702,R6\n"
     ]
    }
   ],
   "source": [
    "wire1 = \"R1003,U741,L919,U341,L204,U723,L113,D340,L810,D238,R750,U409,L104,U65,R119,U58,R94,D738,L543,U702,R612,D998,L580,U887,R664,D988,R232,D575,R462,U130,L386,U386,L217,U155,L68,U798,R792,U149,L573,D448,R76,U896,L745,D640,L783,D19,R567,D271,R618,U677,L449,D651,L843,D117,L636,U329,R484,U853,L523,U815,L765,U834,L500,U321,R874,U90,R473,U31,R846,U549,L70,U848,R677,D557,L702,U90,R78,U234,R282,D289,L952,D514,R308,U255,R752,D338,L134,D335,L207,U167,R746,U328,L65,D579,R894,U716,R510,D932,L396,U766,L981,D115,L668,U197,R773,U898,L22,U294,L548,D634,L31,U626,R596,U442,L103,U448,R826,U511,R732,U680,L279,D693,R292,U641,R253,U977,R699,U861,R534,D482,L481,U929,L244,U863,L951,D744,R775,U198,L658,U700,L740,U725,R286,D105,L629,D117,L991,D778,L627,D389,R942,D17,L791,D515,R231,U418,L497,D421,L508,U91,R841,D823,L88,U265,L223,D393,L399,D390,L431,D553,R40,U724,L566,U121,L436,U797,L42,U13,R19,D858,R912,D571,L207,D5,L981,D996,R814,D918,L16,U872,L5,U281,R706,U596,R827,D19,R976,D664,L930,U56,R168,D892,R661,D751,R219,U343,R120,U21,L659,U976,R498,U282,R1,U721,R475,D798,L5,U396,R268,D454,R118,U260,L709,D369,R96,D232,L320,D763,R548,U670,R102,D253,L947,U845,R888,D645,L734,D734,L459,D638,L82,U933,L485,U235,R181,D51,L45,D979,L74,D186,L513,U974,R283,D493,R128,U909,L96,D861,L291,U640,R793,D712,R421,D315,L152,U220,L252,U642,R126,D417,R137,D73,R1,D711,R880,U718,R104,U444,L36,D974,L360,U12,L890,D337,R184,D745,R164,D931,R915,D999,R452,U221,L399,D761,L987,U562,R25,D642,R411,D605,R964\"\n",
    "wire2 = \"L1010,U302,L697,D105,R618,U591,R185,U931,R595,D881,L50,D744,L320,D342,L221,D201,L862,D959,R553,D135,L238,U719,L418,U798,R861,U80,L571,U774,L896,U772,L960,U368,R415,D560,R276,U33,L532,U957,R621,D137,R373,U53,L842,U118,L299,U203,L352,D531,R118,U816,R355,U678,L983,D175,R652,U230,R190,D402,R111,D842,R756,D961,L82,U206,L576,U910,R622,D494,R630,D893,L200,U943,L696,D573,L143,D640,L885,D184,L52,D96,L580,U204,L793,D806,R477,D651,L348,D318,L924,D700,R675,D689,L723,D418,L156,D215,L943,D397,L301,U350,R922,D721,R14,U399,L774,U326,L14,D465,L65,U697,R564,D4,L40,D250,R914,U901,R316,U366,R877,D222,L672,D329,L560,U882,R321,D169,R161,U891,L552,U86,L194,D274,L567,D669,L682,U60,L985,U401,R587,U569,L1,D325,L73,U814,L338,U618,L49,U67,L258,D596,R493,D249,L310,D603,R810,D735,L829,D378,R65,U85,L765,D854,L863,U989,L595,U564,L373,U76,R923,U760,L965,U458,L610,U461,R900,U151,L650,D437,L1,U464,L65,D349,R256,D376,L686,U183,L403,D354,R867,U993,R819,D333,L249,U466,L39,D878,R855,U166,L254,D532,L909,U48,L980,U652,R393,D291,L502,U230,L738,U681,L393,U935,L333,D139,L499,D813,R302,D415,L693,D404,L308,D603,R968,U753,L510,D356,L356,U620,R386,D205,R587,U212,R715,U360,L603,U792,R58,U619,R73,D958,L53,D666,L756,U71,L621,D576,L174,U779,L382,U977,R890,D830,R822,U312,R716,U767,R36,U340,R322,D175,L417,U710,L313,D526,L573,D90,L493,D257,L918,U425,R93,D552,L691,U792,R189,U43,L633,U934,L953,U817,L404,D904,L384,D15,L670,D889,L648,U751,L928,D744,L932,U761,R879,D229,R491,U902,R134,D219,L634,U423,L241\"\n",
    "\n",
    "print(wire1[:100])"
   ]
  },
  {
   "cell_type": "code",
   "execution_count": 2,
   "metadata": {},
   "outputs": [
    {
     "name": "stdout",
     "output_type": "stream",
     "text": [
      "['R1003', 'U741', 'L919', 'U341', 'L204', 'U723', 'L113', 'D340', 'L810', 'D238', 'R750', 'U409', 'L104', 'U65', 'R119', 'U58', 'R94', 'D738', 'L543', 'U702', 'R612', 'D998', 'L580', 'U887', 'R664', 'D988', 'R232', 'D575', 'R462', 'U130', 'L386', 'U386', 'L217', 'U155', 'L68', 'U798', 'R792', 'U149', 'L573', 'D448', 'R76', 'U896', 'L745', 'D640', 'L783', 'D19', 'R567', 'D271', 'R618', 'U677', 'L449', 'D651', 'L843', 'D117', 'L636', 'U329', 'R484', 'U853', 'L523', 'U815', 'L765', 'U834', 'L500', 'U321', 'R874', 'U90', 'R473', 'U31', 'R846', 'U549', 'L70', 'U848', 'R677', 'D557', 'L702', 'U90', 'R78', 'U234', 'R282', 'D289', 'L952', 'D514', 'R308', 'U255', 'R752', 'D338', 'L134', 'D335', 'L207', 'U167', 'R746', 'U328', 'L65', 'D579', 'R894', 'U716', 'R510', 'D932', 'L396', 'U766']\n"
     ]
    }
   ],
   "source": [
    "wire1 = wire1.split(',')\n",
    "wire2 = wire2.split(',')\n",
    "print(wire1[:100])"
   ]
  },
  {
   "cell_type": "code",
   "execution_count": 3,
   "metadata": {},
   "outputs": [
    {
     "name": "stdout",
     "output_type": "stream",
     "text": [
      "['R', 'U', 'L', 'U', 'L', 'U', 'L', 'D', 'L', 'D', 'R', 'U', 'L', 'U', 'R', 'U', 'R', 'D', 'L', 'U', 'R', 'D', 'L', 'U', 'R', 'D', 'R', 'D', 'R', 'U', 'L', 'U', 'L', 'U', 'L', 'U', 'R', 'U', 'L', 'D', 'R', 'U', 'L', 'D', 'L', 'D', 'R', 'D', 'R', 'U', 'L', 'D', 'L', 'D', 'L', 'U', 'R', 'U', 'L', 'U', 'L', 'U', 'L', 'U', 'R', 'U', 'R', 'U', 'R', 'U', 'L', 'U', 'R', 'D', 'L', 'U', 'R', 'U', 'R', 'D', 'L', 'D', 'R', 'U', 'R', 'D', 'L', 'D', 'L', 'U', 'R', 'U', 'L', 'D', 'R', 'U', 'R', 'D', 'L', 'U', 'L', 'D', 'L', 'U', 'R', 'U', 'L', 'U', 'L', 'D', 'L', 'U', 'R', 'U', 'L', 'U', 'R', 'U', 'R', 'U', 'L', 'D', 'R', 'U', 'R', 'U', 'R', 'U', 'R', 'D', 'L', 'U', 'L', 'U', 'L', 'D', 'R', 'U', 'L', 'U', 'L', 'U', 'R', 'D', 'L', 'D', 'L', 'D', 'L', 'D', 'R', 'D', 'L', 'D', 'R', 'U', 'L', 'D', 'L', 'U', 'R', 'D', 'L', 'U', 'L', 'D', 'L', 'D', 'L', 'D', 'R', 'U', 'L', 'U', 'L', 'U', 'L', 'U', 'R', 'D', 'R', 'D', 'L', 'D', 'L', 'D', 'R', 'D', 'L', 'U', 'L', 'U', 'R', 'U', 'R', 'D', 'R', 'D', 'L', 'U', 'R', 'D', 'R', 'D', 'R', 'U', 'R', 'U', 'L', 'U', 'R', 'U', 'R', 'U', 'R', 'D', 'L', 'U', 'R', 'D', 'R', 'U', 'L', 'D', 'R', 'D', 'L', 'D', 'R', 'U', 'R', 'D', 'L', 'U', 'R', 'D', 'L', 'D', 'L', 'D', 'L', 'U', 'L', 'U', 'R', 'D', 'L', 'D', 'L', 'D', 'L', 'U', 'R', 'D', 'R', 'U', 'L', 'D', 'L', 'U', 'R', 'D', 'R', 'D', 'L', 'U', 'L', 'U', 'R', 'D', 'R', 'D', 'R', 'D', 'R', 'U', 'R', 'U', 'L', 'D', 'L', 'U', 'L', 'D', 'R', 'D', 'R', 'D', 'R', 'D', 'R', 'U', 'L', 'D', 'L', 'U', 'R', 'D', 'R', 'D', 'R']\n"
     ]
    }
   ],
   "source": [
    "wire1_direction = [item[:1] for item in wire1]\n",
    "wire2_direction = [item[:1] for item in wire2]\n",
    "print(wire1_direction)"
   ]
  },
  {
   "cell_type": "code",
   "execution_count": 4,
   "metadata": {},
   "outputs": [
    {
     "name": "stdout",
     "output_type": "stream",
     "text": [
      "[1003, 741, 919, 341, 204, 723, 113, 340, 810, 238, 750, 409, 104, 65, 119, 58, 94, 738, 543, 702, 612, 998, 580, 887, 664, 988, 232, 575, 462, 130, 386, 386, 217, 155, 68, 798, 792, 149, 573, 448, 76, 896, 745, 640, 783, 19, 567, 271, 618, 677, 449, 651, 843, 117, 636, 329, 484, 853, 523, 815, 765, 834, 500, 321, 874, 90, 473, 31, 846, 549, 70, 848, 677, 557, 702, 90, 78, 234, 282, 289, 952, 514, 308, 255, 752, 338, 134, 335, 207, 167, 746, 328, 65, 579, 894, 716, 510, 932, 396, 766, 981, 115, 668, 197, 773, 898, 22, 294, 548, 634, 31, 626, 596, 442, 103, 448, 826, 511, 732, 680, 279, 693, 292, 641, 253, 977, 699, 861, 534, 482, 481, 929, 244, 863, 951, 744, 775, 198, 658, 700, 740, 725, 286, 105, 629, 117, 991, 778, 627, 389, 942, 17, 791, 515, 231, 418, 497, 421, 508, 91, 841, 823, 88, 265, 223, 393, 399, 390, 431, 553, 40, 724, 566, 121, 436, 797, 42, 13, 19, 858, 912, 571, 207, 5, 981, 996, 814, 918, 16, 872, 5, 281, 706, 596, 827, 19, 976, 664, 930, 56, 168, 892, 661, 751, 219, 343, 120, 21, 659, 976, 498, 282, 1, 721, 475, 798, 5, 396, 268, 454, 118, 260, 709, 369, 96, 232, 320, 763, 548, 670, 102, 253, 947, 845, 888, 645, 734, 734, 459, 638, 82, 933, 485, 235, 181, 51, 45, 979, 74, 186, 513, 974, 283, 493, 128, 909, 96, 861, 291, 640, 793, 712, 421, 315, 152, 220, 252, 642, 126, 417, 137, 73, 1, 711, 880, 718, 104, 444, 36, 974, 360, 12, 890, 337, 184, 745, 164, 931, 915, 999, 452, 221, 399, 761, 987, 562, 25, 642, 411, 605, 964]\n"
     ]
    }
   ],
   "source": [
    "wire1_distance = [int(item[1:]) for item in wire1]\n",
    "wire2_distance = [int(item[1:]) for item in wire2]\n",
    "print(wire1_distance)"
   ]
  },
  {
   "cell_type": "markdown",
   "metadata": {},
   "source": [
    "Now create function that will iterate over the direction and distance lists, and output all (integer) points that the line crosses. "
   ]
  },
  {
   "cell_type": "code",
   "execution_count": 5,
   "metadata": {},
   "outputs": [],
   "source": [
    "def find_points(directions, distances): \n",
    "    \n",
    "    output = [(0, 0)] # Starts at origin. Append tuples for each move\n",
    "    \n",
    "    for direction, distance in zip(directions, distances):\n",
    "        \n",
    "        for unit in range(distance): \n",
    "            \n",
    "            start = output[-1]\n",
    "        \n",
    "            if direction == 'R': # Add to x (index 0)\n",
    "                    nextpoint = (start[0] + 1, start[1])\n",
    "            elif direction == 'L': # Subtract from x (index 0)\n",
    "                nextpoint = (start[0] - 1, start[1])\n",
    "            elif direction == 'U': # Add to y (index 1)\n",
    "                nextpoint = (start[0], start[1] + 1)\n",
    "            else:                  # Subtract from y (index 1)\n",
    "                nextpoint = (start[0], start[1] - 1)\n",
    "                    \n",
    "            output.append(nextpoint)\n",
    "                \n",
    "    return output"
   ]
  },
  {
   "cell_type": "code",
   "execution_count": 6,
   "metadata": {},
   "outputs": [
    {
     "name": "stdout",
     "output_type": "stream",
     "text": [
      "[(0, 0), (1, 0), (2, 0), (3, 0), (4, 0), (5, 0), (6, 0), (7, 0), (8, 0), (9, 0), (10, 0), (11, 0), (12, 0), (13, 0), (14, 0), (15, 0), (16, 0), (17, 0), (18, 0), (19, 0), (20, 0), (21, 0), (22, 0), (23, 0), (24, 0), (25, 0), (26, 0), (27, 0), (28, 0), (29, 0), (30, 0), (31, 0), (32, 0), (33, 0), (34, 0), (35, 0), (36, 0), (37, 0), (38, 0), (39, 0), (40, 0), (41, 0), (42, 0), (43, 0), (44, 0), (45, 0), (46, 0), (47, 0), (48, 0), (49, 0), (50, 0), (51, 0), (52, 0), (53, 0), (54, 0), (55, 0), (56, 0), (57, 0), (58, 0), (59, 0), (60, 0), (61, 0), (62, 0), (63, 0), (64, 0), (65, 0), (66, 0), (67, 0), (68, 0), (69, 0), (70, 0), (71, 0), (72, 0), (73, 0), (74, 0), (75, 0), (76, 0), (77, 0), (78, 0), (79, 0), (80, 0), (81, 0), (82, 0), (83, 0), (84, 0), (85, 0), (86, 0), (87, 0), (88, 0), (89, 0), (90, 0), (91, 0), (92, 0), (93, 0), (94, 0), (95, 0), (96, 0), (97, 0), (98, 0), (99, 0)]\n"
     ]
    }
   ],
   "source": [
    "wire1_points = find_points(wire1_direction, wire1_distance)\n",
    "print(wire1_points[:100])"
   ]
  },
  {
   "cell_type": "code",
   "execution_count": 7,
   "metadata": {},
   "outputs": [
    {
     "name": "stdout",
     "output_type": "stream",
     "text": [
      "[(0, 0), (-1, 0), (-2, 0), (-3, 0), (-4, 0), (-5, 0), (-6, 0), (-7, 0), (-8, 0), (-9, 0), (-10, 0), (-11, 0), (-12, 0), (-13, 0), (-14, 0), (-15, 0), (-16, 0), (-17, 0), (-18, 0), (-19, 0), (-20, 0), (-21, 0), (-22, 0), (-23, 0), (-24, 0), (-25, 0), (-26, 0), (-27, 0), (-28, 0), (-29, 0), (-30, 0), (-31, 0), (-32, 0), (-33, 0), (-34, 0), (-35, 0), (-36, 0), (-37, 0), (-38, 0), (-39, 0), (-40, 0), (-41, 0), (-42, 0), (-43, 0), (-44, 0), (-45, 0), (-46, 0), (-47, 0), (-48, 0), (-49, 0), (-50, 0), (-51, 0), (-52, 0), (-53, 0), (-54, 0), (-55, 0), (-56, 0), (-57, 0), (-58, 0), (-59, 0), (-60, 0), (-61, 0), (-62, 0), (-63, 0), (-64, 0), (-65, 0), (-66, 0), (-67, 0), (-68, 0), (-69, 0), (-70, 0), (-71, 0), (-72, 0), (-73, 0), (-74, 0), (-75, 0), (-76, 0), (-77, 0), (-78, 0), (-79, 0), (-80, 0), (-81, 0), (-82, 0), (-83, 0), (-84, 0), (-85, 0), (-86, 0), (-87, 0), (-88, 0), (-89, 0), (-90, 0), (-91, 0), (-92, 0), (-93, 0), (-94, 0), (-95, 0), (-96, 0), (-97, 0), (-98, 0), (-99, 0)]\n"
     ]
    }
   ],
   "source": [
    "wire2_points = find_points(wire2_direction, wire2_distance)\n",
    "print(wire2_points[:100])"
   ]
  },
  {
   "cell_type": "markdown",
   "metadata": {},
   "source": [
    "Here's where we need to diverge. Instead of calculating the crossing points, find their indexes - on both wires."
   ]
  },
  {
   "cell_type": "code",
   "execution_count": 14,
   "metadata": {},
   "outputs": [
    {
     "name": "stdout",
     "output_type": "stream",
     "text": [
      "[(-1978, 1423), (-904, 1456), (-359, 725), (-904, 1227), (-904, 1465), (-1984, 1177), (-458, 1719), (-309, 1021), (-904, 1211), (-309, 1503), (-309, 1701), (-727, 1719), (-309, 1185), (-309, 1612), (-505, 1719), (-309, 1636), (-501, 1719), (-904, 1475), (-309, 1227), (-309, 1465)]\n"
     ]
    }
   ],
   "source": [
    "crossings = list(set(wire1_points).intersection(wire2_points))\n",
    "crossings.remove((0, 0))\n",
    "\n",
    "print(crossings)"
   ]
  },
  {
   "cell_type": "code",
   "execution_count": 15,
   "metadata": {},
   "outputs": [
    {
     "name": "stdout",
     "output_type": "stream",
     "text": [
      "[3401, 2360, 1084, 2131, 2369, 3161, 2177, 1330, 2115, 1812, 2010, 2446, 1494, 1921, 2224, 1945, 2220, 2379, 1536, 1774]\n"
     ]
    }
   ],
   "source": [
    "manhattan = [abs(crossing[0]) + abs(crossing[1]) for crossing in crossings]\n",
    "print(manhattan)"
   ]
  },
  {
   "cell_type": "code",
   "execution_count": 16,
   "metadata": {},
   "outputs": [
    {
     "name": "stdout",
     "output_type": "stream",
     "text": [
      "1084\n"
     ]
    }
   ],
   "source": [
    "print(min(manhattan))"
   ]
  },
  {
   "cell_type": "markdown",
   "metadata": {},
   "source": [
    "## Part 2"
   ]
  },
  {
   "cell_type": "markdown",
   "metadata": {},
   "source": [
    "Find the index of the crossing points in each list:"
   ]
  },
  {
   "cell_type": "code",
   "execution_count": 17,
   "metadata": {},
   "outputs": [
    {
     "name": "stdout",
     "output_type": "stream",
     "text": [
      "[27437, 22610, 10868, 5571, 5055, 27185, 21227, 7894, 25905, 147080, 6848, 9010, 23476, 12477, 24998, 6607, 146672, 21917, 6166, 4460]\n",
      "[35495, 4176, 6078, 3947, 4185, 35747, 4885, 5732, 3931, 5250, 5052, 4616, 5568, 5141, 4838, 5117, 4842, 4195, 5526, 5288]\n"
     ]
    }
   ],
   "source": [
    "wire1_ind = []\n",
    "wire2_ind = []\n",
    "\n",
    "for crossing in crossings: \n",
    "    ind1 = wire1_points.index(crossing)\n",
    "    ind2 = wire2_points.index(crossing)\n",
    "    wire1_ind.append(ind1)\n",
    "    wire2_ind.append(ind2)\n",
    "    \n",
    "print(wire1_ind)\n",
    "print(wire2_ind)"
   ]
  },
  {
   "cell_type": "markdown",
   "metadata": {},
   "source": [
    "There's a better way to do this: "
   ]
  },
  {
   "cell_type": "code",
   "execution_count": 18,
   "metadata": {},
   "outputs": [
    {
     "name": "stdout",
     "output_type": "stream",
     "text": [
      "[(27437, 35495), (22610, 4176), (10868, 6078), (5571, 3947), (5055, 4185), (27185, 35747), (21227, 4885), (7894, 5732), (25905, 3931), (147080, 5250), (6848, 5052), (9010, 4616), (23476, 5568), (12477, 5141), (24998, 4838), (6607, 5117), (146672, 4842), (21917, 4195), (6166, 5526), (4460, 5288)]\n"
     ]
    }
   ],
   "source": [
    "crossings_ind = []\n",
    "\n",
    "\n",
    "for crossing in crossings: \n",
    "    ind1 = wire1_points.index(crossing)\n",
    "    ind2 = wire2_points.index(crossing)\n",
    "    result = (ind1, ind2)\n",
    "    crossings_ind.append(result)\n",
    "\n",
    "print(crossings_ind)"
   ]
  },
  {
   "cell_type": "code",
   "execution_count": 19,
   "metadata": {},
   "outputs": [
    {
     "name": "stdout",
     "output_type": "stream",
     "text": [
      "[62932, 26786, 16946, 9518, 9240, 62932, 26112, 13626, 29836, 152330, 11900, 13626, 29044, 17618, 29836, 11724, 151514, 26112, 11692, 9748]\n"
     ]
    }
   ],
   "source": [
    "steps = [tuple[0] + tuple[1] for tuple in crossings_ind]\n",
    "\n",
    "print(steps)"
   ]
  },
  {
   "cell_type": "code",
   "execution_count": 21,
   "metadata": {},
   "outputs": [
    {
     "name": "stdout",
     "output_type": "stream",
     "text": [
      "9240\n"
     ]
    }
   ],
   "source": [
    "print(min(steps))"
   ]
  }
 ],
 "metadata": {
  "kernelspec": {
   "display_name": "Python 3",
   "language": "python",
   "name": "python3"
  },
  "language_info": {
   "codemirror_mode": {
    "name": "ipython",
    "version": 3
   },
   "file_extension": ".py",
   "mimetype": "text/x-python",
   "name": "python",
   "nbconvert_exporter": "python",
   "pygments_lexer": "ipython3",
   "version": "3.8.0"
  }
 },
 "nbformat": 4,
 "nbformat_minor": 2
}
