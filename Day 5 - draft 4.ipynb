{
 "cells": [
  {
   "cell_type": "markdown",
   "metadata": {},
   "source": [
    "## Opcode computer based on classes"
   ]
  },
  {
   "cell_type": "markdown",
   "metadata": {},
   "source": [
    "Need to modify existing opcode computer: \n",
    "\n",
    "First, you'll need to add two new instructions:\n",
    "\n",
    "* Opcode 3 takes a single integer as input and saves it to the position given by its only parameter. For example, the instruction 3,50 would take an input value and store it at address 50.\n",
    "* Opcode 4 outputs the value of its only parameter. For example, the instruction 4,50 would output the value at address 50. \n",
    "\n",
    "Programs that use these instructions will come with documentation that explains what should be connected to the input and output. The program 3,0,4,0,99 outputs whatever it gets as input, then halts."
   ]
  },
  {
   "cell_type": "markdown",
   "metadata": {},
   "source": [
    "Functions to load and parse data:"
   ]
  },
  {
   "cell_type": "code",
   "execution_count": 10,
   "metadata": {},
   "outputs": [],
   "source": [
    "class Computer():\n",
    "    \n",
    "    def __init():\n",
    "        pass\n",
    "    \n",
    "    def load_data(self, path):\n",
    "        with open(path) as f:\n",
    "            program = f.read()\n",
    "        self.program = program\n",
    "        return self.program\n",
    "\n",
    "    def parse_data(self): \n",
    "        \"\"\"Function to split string and convert to int\"\"\"\n",
    "\n",
    "        program = self.program.split(',')\n",
    "        program = [int(value.rstrip('\\n')) for value in program]\n",
    "        self.program = program\n",
    "        return self.program"
   ]
  },
  {
   "cell_type": "code",
   "execution_count": 12,
   "metadata": {},
   "outputs": [
    {
     "name": "stdout",
     "output_type": "stream",
     "text": [
      "[3, 225, 1, 225, 6, 6, 1100, 1, 238, 225, 104, 0, 1102, 9, 19, 225, 1, 136, 139, 224, 101, -17, 224, 224, 4, 224, 102, 8, 223, 223, 101, 6, 224, 224, 1, 223, 224, 223, 2, 218, 213, 224, 1001, 224, -4560, 224, 4, 224, 102, 8, 223, 223, 1001, 224, 4, 224, 1, 223, 224, 223, 1102, 25, 63, 224, 101, -1575, 224, 224, 4, 224, 102, 8, 223, 223, 1001, 224, 4, 224, 1, 223, 224, 223, 1102, 55, 31, 225, 1101, 38, 15, 225, 1001, 13, 88, 224, 1001, 224, -97, 224, 4, 224, 102, 8, 223, 223, 101, 5, 224, 224, 1, 224, 223, 223, 1002, 87, 88, 224, 101, -3344, 224, 224, 4, 224, 102, 8, 223, 223, 1001, 224, 7, 224, 1, 224, 223, 223, 1102, 39, 10, 225, 1102, 7, 70, 225, 1101, 19, 47, 224, 101, -66, 224, 224, 4, 224, 1002, 223, 8, 223, 1001, 224, 6, 224, 1, 224, 223, 223, 1102, 49, 72, 225, 102, 77, 166, 224, 101, -5544, 224, 224, 4, 224, 102, 8, 223, 223, 1001, 224, 4, 224, 1, 223, 224, 223, 101, 32, 83, 224, 101, -87, 224, 224, 4, 224, 102, 8, 223, 223, 1001, 224, 3, 224, 1, 224, 223, 223, 1101, 80, 5, 225, 1101, 47, 57, 225, 4, 223, 99, 0, 0, 0, 677, 0, 0, 0, 0, 0, 0, 0, 0, 0, 0, 0, 1105, 0, 99999, 1105, 227, 247, 1105, 1, 99999, 1005, 227, 99999, 1005, 0, 256, 1105, 1, 99999, 1106, 227, 99999, 1106, 0, 265, 1105, 1, 99999, 1006, 0, 99999, 1006, 227, 274, 1105, 1, 99999, 1105, 1, 280, 1105, 1, 99999, 1, 225, 225, 225, 1101, 294, 0, 0, 105, 1, 0, 1105, 1, 99999, 1106, 0, 300, 1105, 1, 99999, 1, 225, 225, 225, 1101, 314, 0, 0, 106, 0, 0, 1105, 1, 99999, 1008, 677, 226, 224, 1002, 223, 2, 223, 1005, 224, 329, 1001, 223, 1, 223, 107, 226, 677, 224, 1002, 223, 2, 223, 1006, 224, 344, 101, 1, 223, 223, 1007, 677, 677, 224, 1002, 223, 2, 223, 1006, 224, 359, 1001, 223, 1, 223, 8, 677, 226, 224, 102, 2, 223, 223, 1005, 224, 374, 101, 1, 223, 223, 108, 226, 677, 224, 102, 2, 223, 223, 1006, 224, 389, 1001, 223, 1, 223, 1008, 677, 677, 224, 1002, 223, 2, 223, 1006, 224, 404, 1001, 223, 1, 223, 1107, 677, 677, 224, 102, 2, 223, 223, 1005, 224, 419, 1001, 223, 1, 223, 1008, 226, 226, 224, 102, 2, 223, 223, 1005, 224, 434, 101, 1, 223, 223, 8, 226, 677, 224, 1002, 223, 2, 223, 1006, 224, 449, 101, 1, 223, 223, 1007, 677, 226, 224, 102, 2, 223, 223, 1005, 224, 464, 1001, 223, 1, 223, 107, 677, 677, 224, 1002, 223, 2, 223, 1005, 224, 479, 1001, 223, 1, 223, 1107, 226, 677, 224, 1002, 223, 2, 223, 1005, 224, 494, 1001, 223, 1, 223, 7, 677, 677, 224, 102, 2, 223, 223, 1006, 224, 509, 101, 1, 223, 223, 1007, 226, 226, 224, 1002, 223, 2, 223, 1005, 224, 524, 101, 1, 223, 223, 7, 677, 226, 224, 102, 2, 223, 223, 1005, 224, 539, 101, 1, 223, 223, 8, 226, 226, 224, 1002, 223, 2, 223, 1006, 224, 554, 101, 1, 223, 223, 7, 226, 677, 224, 102, 2, 223, 223, 1005, 224, 569, 101, 1, 223, 223, 1108, 677, 226, 224, 1002, 223, 2, 223, 1005, 224, 584, 101, 1, 223, 223, 108, 677, 677, 224, 1002, 223, 2, 223, 1006, 224, 599, 101, 1, 223, 223, 107, 226, 226, 224, 1002, 223, 2, 223, 1006, 224, 614, 101, 1, 223, 223, 1108, 226, 226, 224, 1002, 223, 2, 223, 1005, 224, 629, 1001, 223, 1, 223, 1107, 677, 226, 224, 1002, 223, 2, 223, 1005, 224, 644, 101, 1, 223, 223, 108, 226, 226, 224, 1002, 223, 2, 223, 1005, 224, 659, 101, 1, 223, 223, 1108, 226, 677, 224, 1002, 223, 2, 223, 1005, 224, 674, 1001, 223, 1, 223, 4, 223, 99, 226]\n"
     ]
    }
   ],
   "source": [
    "computer = Computer()\n",
    "computer.load_data('data/day_5.txt')\n",
    "print(computer.parse_data())"
   ]
  },
  {
   "cell_type": "markdown",
   "metadata": {},
   "source": [
    "Now we need a program to parse each opcode, identifying the code and its parameters. How to do this? Account for the fact that initial zeros will be missing, so 0001 would be just 1.  \n",
    "\n",
    "* Code 1 is 4 digits, from right to left: 2-digit code (01), parameter 1, parameter 2 (unstated parameter 3, always 0)\n",
    "    * But could be just 1 digit, if all parameters are 0\n",
    "* Code 2 is 4 digits, from right to left: 2-digit code (02), parameter 1, parameter 2 (unstated parameter 3, always 0)\n",
    "    * But could be just 1 digit, if all parameters are 0\n",
    "* Code 3 is 1 digit, just a '3'\n",
    "* Code 4 is 1 digit, just a '4'\n",
    "* Code 99 is 2 digits: 99"
   ]
  },
  {
   "cell_type": "code",
   "execution_count": 1,
   "metadata": {},
   "outputs": [],
   "source": [
    "import intcode"
   ]
  },
  {
   "cell_type": "code",
   "execution_count": 50,
   "metadata": {},
   "outputs": [
    {
     "name": "stdout",
     "output_type": "stream",
     "text": [
      "(2, 1, 0, 0)\n",
      "(99, 0, 0, 0)\n",
      "(3, 0, 0, 0)\n"
     ]
    }
   ],
   "source": [
    "def parse_opcode(opcode): \n",
    "    \"\"\"Given an opcode int as part of a program, this function\n",
    "    splits the string to identify: \n",
    "    1) The opcode number, \n",
    "    2) The modes of the first two parameters. Omitting parameter 3 because \n",
    "    it's a write operation and will always be 0 (position mode).\"\"\"\n",
    "    \n",
    "    full = str(opcode)\n",
    "    if len(full) < 5: \n",
    "        full = full.rjust(5, \"0\")\n",
    "    code = int(full[3:])\n",
    "    mode_3, mode_2, mode_1 = int(full[0]), int(full[1]), int(full[2])\n",
    "        \n",
    "    return (code, mode_1, mode_2, mode_3)\n",
    "\n",
    "# Test\n",
    "\n",
    "print(parse_opcode('0102'))\n",
    "print(parse_opcode('99'))\n",
    "print(parse_opcode('3'))"
   ]
  },
  {
   "cell_type": "markdown",
   "metadata": {},
   "source": [
    "New approach: Create sub-function to process a single opcode. Keep the while loop to call it for each opcode, skipping ahead as determined by the pointer. "
   ]
  },
  {
   "cell_type": "code",
   "execution_count": 61,
   "metadata": {},
   "outputs": [],
   "source": [
    "def run_opcode(program, index, code, input_val = None):\n",
    "    \"\"\"Function to process a single opcode int located at the index specified, \n",
    "    given a full program and a tuple of code plus parameter modes.\"\"\"\n",
    "    \n",
    "    p = program.copy()\n",
    "    output = \"No output\"\n",
    "    \n",
    "    if code[0] in [1, 2]: \n",
    "        \n",
    "        try: \n",
    "            param_1_dict = {0: p[p[index + 1]], # Use try except IndexError, as this can be out of range\n",
    "                            1: p[index + 1]}\n",
    "            param_2_dict = {0: p[p[index + 2]], # Same \n",
    "                            1: p[index + 2]}\n",
    "        except IndexError:\n",
    "            param_1_dict = {0: p[0], \n",
    "                            1: p[index + 1]}\n",
    "            param_2_dict = {0: p[0], \n",
    "                            1: p[index + 2]}\n",
    "            \n",
    "    if code[0] == 1:\n",
    "        p[p[index + 3]] = param_1_dict[code[1]] + param_2_dict[code[2]]\n",
    "        index += 4\n",
    "    elif code[0] == 2:\n",
    "        p[p[index + 3]] = param_1_dict[code[1]] * param_2_dict[code[2]]\n",
    "        index += 4\n",
    "    elif code[0] == 3: \n",
    "        p[p[index + 1]] = input_val\n",
    "        index += 2\n",
    "    elif code[0] == 4:\n",
    "        output = p[index + 1]\n",
    "        index += 2\n",
    "    elif code[0] == 99:\n",
    "        output = \"finished\"\n",
    "    else:\n",
    "        raise Exception(\"Not a valid opcode\")\n",
    "        \n",
    "    return (p, index, output) # In calling function, can retrieve tuple values by index"
   ]
  },
  {
   "cell_type": "markdown",
   "metadata": {},
   "source": [
    "Run some tests on this function:"
   ]
  },
  {
   "cell_type": "code",
   "execution_count": 62,
   "metadata": {},
   "outputs": [
    {
     "name": "stdout",
     "output_type": "stream",
     "text": [
      "[1002, 4, 3, 4, 33]\n"
     ]
    }
   ],
   "source": [
    "test3 = [1002, 4, 3, 4, 33]\n",
    "print(test3)"
   ]
  },
  {
   "cell_type": "code",
   "execution_count": 63,
   "metadata": {},
   "outputs": [
    {
     "name": "stdout",
     "output_type": "stream",
     "text": [
      "(2, 0, 1, 0)\n"
     ]
    }
   ],
   "source": [
    "a = parse_opcode(test3[0])\n",
    "print(a)"
   ]
  },
  {
   "cell_type": "code",
   "execution_count": 64,
   "metadata": {},
   "outputs": [
    {
     "name": "stdout",
     "output_type": "stream",
     "text": [
      "([1002, 4, 3, 4, 99], 4, 'No output')\n"
     ]
    },
    {
     "data": {
      "text/plain": [
       "tuple"
      ]
     },
     "execution_count": 64,
     "metadata": {},
     "output_type": "execute_result"
    }
   ],
   "source": [
    "b = run_opcode(program = test3, index = 0, code = a)\n",
    "print(b)\n",
    "type(b)"
   ]
  },
  {
   "cell_type": "code",
   "execution_count": 65,
   "metadata": {},
   "outputs": [
    {
     "name": "stdout",
     "output_type": "stream",
     "text": [
      "([3, 2, 5], 2, 'No output')\n"
     ]
    }
   ],
   "source": [
    "test4 = [3, 2, 0]\n",
    "c = parse_opcode(test4[0])\n",
    "d = run_opcode(program = test4, index = 0, code = c, input_val = 5)\n",
    "print(d)"
   ]
  },
  {
   "cell_type": "markdown",
   "metadata": {},
   "source": [
    "Function to run the entire program:"
   ]
  },
  {
   "cell_type": "code",
   "execution_count": 73,
   "metadata": {},
   "outputs": [],
   "source": [
    "def run_program_v1(program, input_val): \n",
    "    \n",
    "    p = program.copy()\n",
    "    pointer = 0\n",
    "    finished = False\n",
    "    output = []\n",
    "\n",
    "    while pointer < len(p) and not finished: \n",
    "        code = parse_opcode(p[pointer]) \n",
    "        result = run_opcode(p, pointer, code, input_val)\n",
    "        p = result[0]\n",
    "        if result[2] == \"finished\":\n",
    "            finished = True \n",
    "        else: \n",
    "            pointer = result[1]\n",
    "            output.append((pointer, result[2]))\n",
    "        \n",
    "    return output, p"
   ]
  },
  {
   "cell_type": "code",
   "execution_count": 74,
   "metadata": {},
   "outputs": [
    {
     "name": "stdout",
     "output_type": "stream",
     "text": [
      "(2, 0, 1, 0)\n"
     ]
    }
   ],
   "source": [
    "k = parse_opcode(test3[0])\n",
    "print(k)"
   ]
  },
  {
   "cell_type": "code",
   "execution_count": 75,
   "metadata": {},
   "outputs": [
    {
     "name": "stdout",
     "output_type": "stream",
     "text": [
      "([1002, 4, 3, 4, 99], 4, 'No output')\n"
     ]
    }
   ],
   "source": [
    "print(run_opcode(test3, 0, k))"
   ]
  },
  {
   "cell_type": "code",
   "execution_count": 76,
   "metadata": {},
   "outputs": [
    {
     "name": "stdout",
     "output_type": "stream",
     "text": [
      "([(4, 'No output')], [1002, 4, 3, 4, 99])\n"
     ]
    }
   ],
   "source": [
    "x = run_program_v1(test3, input_val = None)\n",
    "print(x)"
   ]
  },
  {
   "cell_type": "markdown",
   "metadata": {},
   "source": [
    "If necessary, see Ray's answer: https://github.com/raybuhr/adventofcode/commit/ce754779f006b572ddee38fbb14ef055ce2cd017"
   ]
  },
  {
   "cell_type": "markdown",
   "metadata": {},
   "source": [
    "Now run it on the entire program:"
   ]
  },
  {
   "cell_type": "code",
   "execution_count": 77,
   "metadata": {},
   "outputs": [
    {
     "name": "stdout",
     "output_type": "stream",
     "text": [
      "([(2, 'No output'), (6, 'No output'), (10, 'No output'), (12, 0), (16, 'No output'), (20, 'No output'), (24, 'No output'), (26, 224), (30, 'No output'), (34, 'No output'), (38, 'No output'), (42, 'No output'), (46, 'No output'), (48, 224), (52, 'No output'), (56, 'No output'), (60, 'No output'), (64, 'No output'), (68, 'No output'), (70, 224), (74, 'No output'), (78, 'No output'), (82, 'No output'), (86, 'No output'), (90, 'No output'), (94, 'No output'), (98, 'No output'), (100, 224), (104, 'No output'), (108, 'No output'), (112, 'No output'), (116, 'No output'), (120, 'No output'), (122, 224), (126, 'No output'), (130, 'No output'), (134, 'No output'), (138, 'No output'), (142, 'No output'), (146, 'No output'), (150, 'No output'), (152, 224), (156, 'No output'), (160, 'No output'), (164, 'No output'), (168, 'No output'), (172, 'No output'), (176, 'No output'), (178, 224), (182, 'No output'), (186, 'No output'), (190, 'No output'), (194, 'No output'), (198, 'No output'), (200, 224), (204, 'No output'), (208, 'No output'), (212, 'No output'), (216, 'No output'), (220, 'No output'), (222, 223)], [3, 225, 1, 225, 6, 6, 1101, 1, 238, 225, 104, 0, 1102, 9, 19, 225, 1, 136, 139, 224, 101, -17, 224, 224, 4, 224, 102, 8, 223, 223, 101, 6, 224, 224, 1, 223, 224, 223, 2, 218, 213, 224, 1001, 224, -4560, 224, 4, 224, 102, 8, 223, 223, 1001, 224, 4, 224, 1, 223, 224, 223, 1102, 25, 63, 224, 101, -1575, 224, 224, 4, 224, 102, 8, 223, 223, 1001, 224, 4, 224, 1, 223, 224, 223, 1102, 55, 31, 225, 1101, 38, 15, 225, 1001, 13, 88, 224, 1001, 224, -97, 224, 4, 224, 102, 8, 223, 223, 101, 5, 224, 224, 1, 224, 223, 223, 1002, 87, 88, 224, 101, -3344, 224, 224, 4, 224, 102, 8, 223, 223, 1001, 224, 7, 224, 1, 224, 223, 223, 1102, 39, 10, 225, 1102, 7, 70, 225, 1101, 19, 47, 224, 101, -66, 224, 224, 4, 224, 1002, 223, 8, 223, 1001, 224, 6, 224, 1, 224, 223, 223, 1102, 49, 72, 225, 102, 77, 166, 224, 101, -5544, 224, 224, 4, 224, 102, 8, 223, 223, 1001, 224, 4, 224, 1, 223, 224, 223, 101, 32, 83, 224, 101, -87, 224, 224, 4, 224, 102, 8, 223, 223, 1001, 224, 3, 224, 1, 224, 223, 223, 1101, 80, 5, 225, 1101, 47, 57, 225, 4, 223, 99, -1234069381, 3, 104, 677, 0, 0, 0, 0, 0, 0, 0, 0, 0, 0, 0, 1105, 0, 99999, 1105, 227, 247, 1105, 1, 99999, 1005, 227, 99999, 1005, 0, 256, 1105, 1, 99999, 1106, 227, 99999, 1106, 0, 265, 1105, 1, 99999, 1006, 0, 99999, 1006, 227, 274, 1105, 1, 99999, 1105, 1, 280, 1105, 1, 99999, 1, 225, 225, 225, 1101, 294, 0, 0, 105, 1, 0, 1105, 1, 99999, 1106, 0, 300, 1105, 1, 99999, 1, 225, 225, 225, 1101, 314, 0, 0, 106, 0, 0, 1105, 1, 99999, 1008, 677, 226, 224, 1002, 223, 2, 223, 1005, 224, 329, 1001, 223, 1, 223, 107, 226, 677, 224, 1002, 223, 2, 223, 1006, 224, 344, 101, 1, 223, 223, 1007, 677, 677, 224, 1002, 223, 2, 223, 1006, 224, 359, 1001, 223, 1, 223, 8, 677, 226, 224, 102, 2, 223, 223, 1005, 224, 374, 101, 1, 223, 223, 108, 226, 677, 224, 102, 2, 223, 223, 1006, 224, 389, 1001, 223, 1, 223, 1008, 677, 677, 224, 1002, 223, 2, 223, 1006, 224, 404, 1001, 223, 1, 223, 1107, 677, 677, 224, 102, 2, 223, 223, 1005, 224, 419, 1001, 223, 1, 223, 1008, 226, 226, 224, 102, 2, 223, 223, 1005, 224, 434, 101, 1, 223, 223, 8, 226, 677, 224, 1002, 223, 2, 223, 1006, 224, 449, 101, 1, 223, 223, 1007, 677, 226, 224, 102, 2, 223, 223, 1005, 224, 464, 1001, 223, 1, 223, 107, 677, 677, 224, 1002, 223, 2, 223, 1005, 224, 479, 1001, 223, 1, 223, 1107, 226, 677, 224, 1002, 223, 2, 223, 1005, 224, 494, 1001, 223, 1, 223, 7, 677, 677, 224, 102, 2, 223, 223, 1006, 224, 509, 101, 1, 223, 223, 1007, 226, 226, 224, 1002, 223, 2, 223, 1005, 224, 524, 101, 1, 223, 223, 7, 677, 226, 224, 102, 2, 223, 223, 1005, 224, 539, 101, 1, 223, 223, 8, 226, 226, 224, 1002, 223, 2, 223, 1006, 224, 554, 101, 1, 223, 223, 7, 226, 677, 224, 102, 2, 223, 223, 1005, 224, 569, 101, 1, 223, 223, 1108, 677, 226, 224, 1002, 223, 2, 223, 1005, 224, 584, 101, 1, 223, 223, 108, 677, 677, 224, 1002, 223, 2, 223, 1006, 224, 599, 101, 1, 223, 223, 107, 226, 226, 224, 1002, 223, 2, 223, 1006, 224, 614, 101, 1, 223, 223, 1108, 226, 226, 224, 1002, 223, 2, 223, 1005, 224, 629, 1001, 223, 1, 223, 1107, 677, 226, 224, 1002, 223, 2, 223, 1005, 224, 644, 101, 1, 223, 223, 108, 226, 226, 224, 1002, 223, 2, 223, 1005, 224, 659, 101, 1, 223, 223, 1108, 226, 677, 224, 1002, 223, 2, 223, 1005, 224, 674, 1001, 223, 1, 223, 4, 223, 99, 226])\n"
     ]
    }
   ],
   "source": [
    "z = run_program_v1(program, input_val = 1)\n",
    "print(z)"
   ]
  },
  {
   "cell_type": "code",
   "execution_count": 71,
   "metadata": {},
   "outputs": [
    {
     "data": {
      "text/plain": [
       "61"
      ]
     },
     "execution_count": 71,
     "metadata": {},
     "output_type": "execute_result"
    }
   ],
   "source": [
    "len(z[0])"
   ]
  },
  {
   "cell_type": "code",
   "execution_count": 78,
   "metadata": {},
   "outputs": [
    {
     "name": "stdout",
     "output_type": "stream",
     "text": [
      "102\n"
     ]
    }
   ],
   "source": [
    "print(program[48])"
   ]
  },
  {
   "cell_type": "code",
   "execution_count": null,
   "metadata": {},
   "outputs": [],
   "source": []
  }
 ],
 "metadata": {
  "kernelspec": {
   "display_name": "Python 3",
   "language": "python",
   "name": "python3"
  },
  "language_info": {
   "codemirror_mode": {
    "name": "ipython",
    "version": 3
   },
   "file_extension": ".py",
   "mimetype": "text/x-python",
   "name": "python",
   "nbconvert_exporter": "python",
   "pygments_lexer": "ipython3",
   "version": "3.8.0"
  }
 },
 "nbformat": 4,
 "nbformat_minor": 2
}
