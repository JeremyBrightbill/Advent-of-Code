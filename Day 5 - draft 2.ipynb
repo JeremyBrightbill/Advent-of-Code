{
 "cells": [
  {
   "cell_type": "markdown",
   "metadata": {},
   "source": [
    "Need to modify existing opcode computer: \n",
    "\n",
    "First, you'll need to add two new instructions:\n",
    "\n",
    "* Opcode 3 takes a single integer as input and saves it to the position given by its only parameter. For example, the instruction 3,50 would take an input value and store it at address 50.\n",
    "* Opcode 4 outputs the value of its only parameter. For example, the instruction 4,50 would output the value at address 50. \n",
    "\n",
    "Programs that use these instructions will come with documentation that explains what should be connected to the input and output. The program 3,0,4,0,99 outputs whatever it gets as input, then halts."
   ]
  },
  {
   "cell_type": "markdown",
   "metadata": {},
   "source": [
    "Existing opcode computer: "
   ]
  },
  {
   "cell_type": "code",
   "execution_count": null,
   "metadata": {},
   "outputs": [],
   "source": [
    "def run_opcode_v1(program):\n",
    "    \n",
    "    out = program.copy()\n",
    "    pointer = 0\n",
    "    \n",
    "    while pointer < len(out): \n",
    "        if out[pointer] == 1:\n",
    "            out[out[pointer + 3]] = out[out[pointer + 1]] + out[out[pointer + 2]]\n",
    "            pointer += 4\n",
    "        if out[pointer] == 2:\n",
    "            out[out[pointer + 3]] = out[out[pointer + 1]] * out[out[pointer + 2]]\n",
    "            pointer += 4\n",
    "        if out[pointer] == 99:\n",
    "            break\n",
    "        \n",
    "    return out"
   ]
  },
  {
   "cell_type": "markdown",
   "metadata": {},
   "source": [
    "Function to load data:"
   ]
  },
  {
   "cell_type": "code",
   "execution_count": 8,
   "metadata": {},
   "outputs": [],
   "source": [
    "def load_data(path):\n",
    "    with open(path) as f:\n",
    "        for line in f:\n",
    "            program = line\n",
    "    return program"
   ]
  },
  {
   "cell_type": "code",
   "execution_count": 9,
   "metadata": {},
   "outputs": [],
   "source": [
    "def parse_data(program): \n",
    "    program = program.split(',')\n",
    "    program = [int(value) for value in program]\n",
    "    return program"
   ]
  },
  {
   "cell_type": "code",
   "execution_count": 11,
   "metadata": {},
   "outputs": [
    {
     "name": "stdout",
     "output_type": "stream",
     "text": [
      "[3, 225, 1, 225, 6, 6, 1100, 1, 238, 225, 104, 0, 1102, 9, 19, 225, 1, 136, 139, 224, 101, -17, 224, 224, 4, 224, 102, 8, 223, 223, 101, 6, 224, 224, 1, 223, 224, 223, 2, 218, 213, 224, 1001, 224, -4560, 224, 4, 224, 102, 8]\n"
     ]
    }
   ],
   "source": [
    "program = parse_data(load_data('data/day_5.txt'))\n",
    "print(program[:50])"
   ]
  },
  {
   "cell_type": "code",
   "execution_count": null,
   "metadata": {},
   "outputs": [],
   "source": [
    "def parse_opcode(opcode): \n",
    "    \n",
    "    "
   ]
  },
  {
   "cell_type": "code",
   "execution_count": 14,
   "metadata": {},
   "outputs": [],
   "source": [
    "def run_opcode_v2(program, input_val):\n",
    "    \n",
    "    p = program.copy()\n",
    "    pointer = 0\n",
    "    output = []\n",
    "\n",
    "    while pointer < len(p): \n",
    "        \n",
    "        # Analyze opcode and parameters\n",
    "        point_str = str(pointer)\n",
    "        opcode = point_str[-2:]\n",
    "        \n",
    "        if len(opcode) == 4: # i.e. opcode is not 99\n",
    "            \n",
    "            # Parameter modes: 0 = position, 1 = immediate\n",
    "            mode_1 = int(point_str[-3])\n",
    "            mode_2 = int(point_str[-4])\n",
    "            \n",
    "            # Parameters indicated by modes\n",
    "            if mode_1 == 0: \n",
    "                param1 = p[p[pointer + 1]] # The position indicated by the value\n",
    "            else: \n",
    "                param1 = p[pointer + 1] # The value itself\n",
    "            \n",
    "            if (mode_2 == 0) & (opcode in [\"01\", \"02\"]): \n",
    "                param2 = p[p[pointer + 2]] \n",
    "            else: \n",
    "                param2 = p[pointer + 2] \n",
    "                \n",
    "            param3 = p[pointer + 3]\n",
    "            \n",
    "        else: # Opcode is 99\n",
    "            break\n",
    "                \n",
    "        # Perform operation\n",
    "        if opcode == \"01\": \n",
    "            p[param3] = param1 + param2\n",
    "            pointer += 4\n",
    "        elif opcode == \"02\":\n",
    "            p[param3] = param1 * param2\n",
    "            pointer += 4\n",
    "        elif opcode == \"03\": # Save input_val to position indicated by its only parameter\n",
    "            param1 = input_val\n",
    "            pointer += 2\n",
    "        else: # opcode == \"04\": Output the value in the position indicated by its only parameter\n",
    "            output.append(param1) # Not sure about this output method \n",
    "            pointer += 2\n",
    "        \n",
    "    return output"
   ]
  },
  {
   "cell_type": "code",
   "execution_count": 20,
   "metadata": {},
   "outputs": [
    {
     "name": "stdout",
     "output_type": "stream",
     "text": [
      "[3, 225, 1, 225, 6, 6, 1100, 1, 238, 225, 104, 0, 1102, 9, 19, 225, 1, 136, 139, 224, 101, -17, 224, 224, 4, 224, 102, 8, 223, 223, 101, 6, 224, 224, 1, 223, 224, 223, 2, 218, 213, 224, 1001, 224, -4560, 224, 4, 224, 102, 8, 223, 223, 1001, 224, 4, 224, 1, 223, 224, 223, 1102, 25, 63, 224, 101, -1575, 224, 224, 4, 224, 102, 8, 223, 223, 1001, 224, 4, 224, 1, 223, 224, 223, 1102, 55, 31, 225, 1101, 38, 15, 225, 1001, 13, 88, 224, 1001, 224, -97, 224, 4, 224, 102, 8, 223, 223, 101, 5, 224, 224, 1, 224, 223, 223, 1002, 87, 88, 224, 101, -3344, 224, 224, 4, 224, 102, 8, 223, 223, 1001, 224, 7, 224, 1, 224, 223, 223, 1102, 39, 10, 225, 1102, 7, 70, 225, 1101, 19, 47, 224, 101, -66, 224, 224, 4, 224, 1002, 223, 8, 223, 1001, 224, 6, 224, 1, 224, 223, 223, 1102, 49, 72, 225, 102, 77, 166, 224, 101, -5544, 224, 224, 4, 224, 102, 8, 223, 223, 1001, 224, 4, 224, 1, 223, 224, 223, 101, 32, 83, 224, 101, -87, 224, 224, 4, 224, 102, 8, 223, 223, 1001, 224, 3, 224, 1, 224, 223, 223, 1101, 80, 5, 225, 1101, 47, 57, 225, 4, 223, 99, 0, 0, 0, 677, 0, 0, 0, 0, 0, 0, 0, 0, 0, 0, 0, 1105, 0, 99999, 1105, 227, 247, 1105, 1, 99999, 1005, 227, 99999, 1005, 0, 256, 1105, 1, 99999, 1106, 227, 99999, 1106, 0, 265, 1105, 1, 99999, 1006, 0, 99999, 1006, 227, 274, 1105, 1, 99999, 1105, 1, 280, 1105, 1, 99999, 1, 225, 225, 225, 1101, 294, 0, 0, 105, 1, 0, 1105, 1, 99999, 1106, 0, 300, 1105, 1, 99999, 1, 225, 225, 225, 1101, 314, 0, 0, 106, 0, 0, 1105, 1, 99999, 1008, 677, 226, 224, 1002, 223, 2, 223, 1005, 224, 329, 1001, 223, 1, 223, 107, 226, 677, 224, 1002, 223, 2, 223, 1006, 224, 344, 101, 1, 223, 223, 1007, 677, 677, 224, 1002, 223, 2, 223, 1006, 224, 359, 1001, 223, 1, 223, 8, 677, 226, 224, 102, 2, 223, 223, 1005, 224, 374, 101, 1, 223, 223, 108, 226, 677, 224, 102, 2, 223, 223, 1006, 224, 389, 1001, 223, 1, 223, 1008, 677, 677, 224, 1002, 223, 2, 223, 1006, 224, 404, 1001, 223, 1, 223, 1107, 677, 677, 224, 102, 2, 223, 223, 1005, 224, 419, 1001, 223, 1, 223, 1008, 226, 226, 224, 102, 2, 223, 223, 1005, 224, 434, 101, 1, 223, 223, 8, 226, 677, 224, 1002, 223, 2, 223, 1006, 224, 449, 101, 1, 223, 223, 1007, 677, 226, 224, 102, 2, 223, 223, 1005, 224, 464, 1001, 223, 1, 223, 107, 677, 677, 224, 1002, 223, 2, 223, 1005, 224, 479, 1001, 223, 1, 223, 1107, 226, 677, 224, 1002, 223, 2, 223, 1005, 224, 494, 1001, 223, 1, 223, 7, 677, 677, 224, 102, 2, 223, 223, 1006, 224, 509, 101, 1, 223, 223, 1007, 226, 226, 224, 1002, 223, 2, 223, 1005, 224, 524, 101, 1, 223, 223, 7, 677, 226, 224, 102, 2, 223, 223, 1005, 224, 539, 101, 1, 223, 223, 8, 226, 226, 224, 1002, 223, 2, 223, 1006, 224, 554, 101, 1, 223, 223, 7, 226, 677, 224, 102, 2, 223, 223, 1005, 224, 569, 101, 1, 223, 223, 1108, 677, 226, 224, 1002, 223, 2, 223, 1005, 224, 584, 101, 1, 223, 223, 108, 677, 677, 224, 1002, 223, 2, 223, 1006, 224, 599, 101, 1, 223, 223, 107, 226, 226, 224, 1002, 223, 2, 223, 1006, 224, 614, 101, 1, 223, 223, 1108, 226, 226, 224, 1002, 223, 2, 223, 1005, 224, 629, 1001, 223, 1, 223, 1107, 677, 226, 224, 1002, 223, 2, 223, 1005, 224, 644, 101, 1, 223, 223, 108, 226, 226, 224, 1002, 223, 2, 223, 1005, 224, 659, 101, 1, 223, 223, 1108, 226, 677, 224, 1002, 223, 2, 223, 1005, 224, 674, 1001, 223, 1, 223, 4, 223, 99, 226]\n"
     ]
    }
   ],
   "source": [
    "with open('data/day_4.txt') as f:\n",
    "    for line in f:\n",
    "        program_str = line\n",
    "\n",
    "program_split = program_str.split(',')\n",
    "\n",
    "program = [int(value) for value in program_split]\n",
    "\n",
    "print(program)"
   ]
  },
  {
   "cell_type": "code",
   "execution_count": 19,
   "metadata": {},
   "outputs": [
    {
     "name": "stdout",
     "output_type": "stream",
     "text": [
      "1\n",
      "[]\n"
     ]
    }
   ],
   "source": [
    "results = run_opcode_v2(program)\n",
    "print(results)"
   ]
  },
  {
   "cell_type": "markdown",
   "metadata": {},
   "source": [
    "This is clearly wrong. Save another version and attack again! See Ray's answer: https://github.com/raybuhr/adventofcode/commit/ce754779f006b572ddee38fbb14ef055ce2cd017"
   ]
  },
  {
   "cell_type": "code",
   "execution_count": null,
   "metadata": {},
   "outputs": [],
   "source": []
  }
 ],
 "metadata": {
  "kernelspec": {
   "display_name": "Python 3",
   "language": "python",
   "name": "python3"
  },
  "language_info": {
   "codemirror_mode": {
    "name": "ipython",
    "version": 3
   },
   "file_extension": ".py",
   "mimetype": "text/x-python",
   "name": "python",
   "nbconvert_exporter": "python",
   "pygments_lexer": "ipython3",
   "version": "3.7.0"
  }
 },
 "nbformat": 4,
 "nbformat_minor": 2
}
