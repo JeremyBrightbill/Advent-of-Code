{
 "cells": [
  {
   "cell_type": "markdown",
   "metadata": {},
   "source": [
    "Try to do this using classes. The `__init__` method will need the other three as parameters:"
   ]
  },
  {
   "cell_type": "code",
   "execution_count": 53,
   "metadata": {},
   "outputs": [],
   "source": [
    "class Moon(): \n",
    "    \n",
    "    \"\"\"Fill out docstring when I figure out what the heck I'm doing\"\"\"\n",
    "    \n",
    "    def __init__(self): \n",
    "        \"\"\"Set all positions and velocities to 0 initially. \"\"\"\n",
    "        self.pos = None\n",
    "        self.vel = [0, 0, 0]\n",
    "        self.next = [None, None, None]\n",
    "        self.other_one = [None, None, None]\n",
    "        self.other_two = [None, None, None]\n",
    "        self.other_three = [None, None, None]\n",
    "    \n",
    "    def identify_others(self, x, y, z):\n",
    "        \"\"\"Identify the other three moons for each one. All must be created before they can identify\n",
    "        each other\"\"\"\n",
    "        self.others = (x, y, z)\n",
    "            \n",
    "    def find_others(self):\n",
    "        \"\"\"Find the positions of the other three moons\"\"\"\n",
    "        self.other_one = [self.others[0].pos[0], self.others[0].pos[1], self.others[0].pos[2]]\n",
    "        self.other_two = [self.others[1].pos[0], self.others[1].pos[1], self.others[1].pos[2]]\n",
    "        self.other_three = [self.others[2].pos[0], self.others[2].pos[1], self.others[2].pos[2]]\n",
    "                \n",
    "    def find_velocity(self, dimension, moon):\n",
    "        \"\"\"Find where another moon is in each of the three dimensions, then compute velocity\"\"\"\n",
    "        \n",
    "        change = 0\n",
    "        key = {'x': self.pos[0], \n",
    "               'y': self.pos[1], \n",
    "               'z': self.pos[2]}\n",
    "        dim = key[dimension]\n",
    "        key_other = {'x': 0, \n",
    "                     'y': 1, \n",
    "                     'z': 2}\n",
    "        other_dim = key_other[dimension]\n",
    "        key_moon = {self.others[0]: self.other_one, \n",
    "                    self.others[1]: self.other_two, \n",
    "                    self.others[2]: self.other_three}\n",
    "        moon_attr = key_moon[moon]\n",
    "        \n",
    "        if moon_attr[other_dim] > dim:\n",
    "            change += 1\n",
    "        elif moon_attr[other_dim] < dim:\n",
    "            change -+ 1\n",
    "            \n",
    "        if dimension == 'x':\n",
    "            self.vel[0] += change\n",
    "        elif dimension == 'y':\n",
    "            self.vel[1] += change\n",
    "        elif dimension == 'z':\n",
    "            self.vel[2] += change\n",
    "        else: \n",
    "            print(\"Error, dimension not recognized\")\n",
    "            \n",
    "    def find_velocities(self):\n",
    "        \"\"\"Apply self.find_velocity() in a for loop for each dimension and moon\"\"\"\n",
    "        for dimension in ['x', 'y', 'z']: \n",
    "            for moon in self.others:\n",
    "                self.find_velocity(dimension, moon)\n",
    "    \n",
    "    def find_next_position(self):\n",
    "        \"\"\"Find next position but don't apply yet - must compute for all 4 moons first\"\"\"\n",
    "        for i in range(3):\n",
    "            self.next[i] = self.pos[i] + self.vel[i]\n",
    "    \n",
    "    def move(self):\n",
    "        \"\"\"Once the next position of all 4 moons has been determined, move\"\"\"\n",
    "        for i in range(3):\n",
    "            self.pos[i] = self.next[i]"
   ]
  },
  {
   "cell_type": "code",
   "execution_count": 54,
   "metadata": {},
   "outputs": [],
   "source": [
    "moon_1, moon_2, moon_3, moon_4 = Moon(), Moon(), Moon(), Moon()"
   ]
  },
  {
   "cell_type": "markdown",
   "metadata": {},
   "source": [
    "Set initial positions:"
   ]
  },
  {
   "cell_type": "code",
   "execution_count": 55,
   "metadata": {},
   "outputs": [],
   "source": [
    "initial = [[6, 10, 10], [-9, 3, 17], [9, -4, 14], [4, 14, 4]]\n",
    "moons_all = [moon_1, moon_2, moon_3, moon_4]\n",
    "\n",
    "for moon, coords in zip(moons_all, initial): \n",
    "    moon.pos = coords"
   ]
  },
  {
   "cell_type": "markdown",
   "metadata": {},
   "source": [
    "Tell each moon which are the other 3:"
   ]
  },
  {
   "cell_type": "code",
   "execution_count": 56,
   "metadata": {},
   "outputs": [],
   "source": [
    "moon_1.identify_others(moon_2, moon_3, moon_4)\n",
    "moon_2.identify_others(moon_1, moon_3, moon_4)\n",
    "moon_3.identify_others(moon_1, moon_2, moon_4)\n",
    "moon_4.identify_others(moon_1, moon_2, moon_3)"
   ]
  },
  {
   "cell_type": "code",
   "execution_count": 57,
   "metadata": {},
   "outputs": [],
   "source": [
    "def run_step(moons):\n",
    "    \"\"\"Apply all the steps to all the moons\"\"\"\n",
    "    \n",
    "    output = []\n",
    "    \n",
    "    for moon in moons:\n",
    "        moon.find_others()\n",
    "        \n",
    "    for moon in moons:\n",
    "        moon.find_velocities()\n",
    "        \n",
    "    for moon in moons: \n",
    "        moon.find_next_position()\n",
    "        \n",
    "    for moon in moons:\n",
    "        moon.move\n",
    "    \n",
    "    for moon in moons:\n",
    "        output.append(moon.pos)\n",
    "        \n",
    "    return output"
   ]
  },
  {
   "cell_type": "code",
   "execution_count": 58,
   "metadata": {},
   "outputs": [
    {
     "name": "stdout",
     "output_type": "stream",
     "text": [
      "[[6, 10, 10], [-9, 3, 17], [9, -4, 14], [4, 14, 4]]\n"
     ]
    }
   ],
   "source": [
    "print(run_step(moons_all))"
   ]
  },
  {
   "cell_type": "markdown",
   "metadata": {},
   "source": [
    "Test on the inputs provided - SOMETHING IS WRONG. Go back and check the formulas in the Class. It probably has to do with the for loop that assigns a value of change; it might not be combining the effects of the moons and dimensions correctly."
   ]
  },
  {
   "cell_type": "code",
   "execution_count": 64,
   "metadata": {},
   "outputs": [],
   "source": [
    "initial_2 = [[1, 0, 2], [2, -10, -7], [4, -8, 8], [3, 5, -1]]\n",
    "moon_1, moon_2, moon_3, moon_4 = Moon(), Moon(), Moon(), Moon()\n",
    "moons_all = [moon_1, moon_2, moon_3, moon_4]\n",
    "\n",
    "for moon, coords in zip(moons_all, initial_2): \n",
    "    moon.pos = coords\n",
    "    \n",
    "moon_1.identify_others(moon_2, moon_3, moon_4)\n",
    "moon_2.identify_others(moon_1, moon_3, moon_4)\n",
    "moon_3.identify_others(moon_1, moon_2, moon_4)\n",
    "moon_4.identify_others(moon_1, moon_2, moon_3)"
   ]
  },
  {
   "cell_type": "code",
   "execution_count": 65,
   "metadata": {},
   "outputs": [
    {
     "name": "stdout",
     "output_type": "stream",
     "text": [
      "[[1, 0, 2], [2, -10, -7], [4, -8, 8], [3, 5, -1]]\n"
     ]
    }
   ],
   "source": [
    "print(run_step(moons_all))"
   ]
  },
  {
   "cell_type": "code",
   "execution_count": null,
   "metadata": {},
   "outputs": [],
   "source": []
  }
 ],
 "metadata": {
  "kernelspec": {
   "display_name": "Python 3",
   "language": "python",
   "name": "python3"
  },
  "language_info": {
   "codemirror_mode": {
    "name": "ipython",
    "version": 3
   },
   "file_extension": ".py",
   "mimetype": "text/x-python",
   "name": "python",
   "nbconvert_exporter": "python",
   "pygments_lexer": "ipython3",
   "version": "3.7.0"
  }
 },
 "nbformat": 4,
 "nbformat_minor": 2
}
