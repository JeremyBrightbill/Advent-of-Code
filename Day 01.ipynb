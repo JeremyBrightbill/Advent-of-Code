{
 "cells": [
  {
   "cell_type": "markdown",
   "metadata": {},
   "source": [
    "# Advent of Code: Day 1"
   ]
  },
  {
   "cell_type": "markdown",
   "metadata": {},
   "source": [
    "## Part 1"
   ]
  },
  {
   "cell_type": "code",
   "execution_count": 7,
   "metadata": {},
   "outputs": [
    {
     "name": "stdout",
     "output_type": "stream",
     "text": [
      "['56583\\n', '83363\\n', '127502\\n', '138143\\n', '113987\\n', '147407\\n', '111181\\n', '92655\\n', '79802\\n', '64636\\n', '108805\\n', '148885\\n', '51022\\n', '120002\\n', '52283\\n', '53573\\n', '142374\\n', '143523\\n', '121158\\n', '63332\\n', '63203\\n', '142400\\n', '105515\\n', '140150\\n', '89910\\n', '93081\\n', '129752\\n', '86731\\n', '128755\\n', '134756\\n', '131066\\n', '77990\\n', '77081\\n', '85779\\n', '137271\\n', '72889\\n', '117608\\n', '132442\\n', '115294\\n', '59414\\n', '75495\\n', '79459\\n', '107669\\n', '81496\\n', '144432\\n', '69138\\n', '53410\\n', '71199\\n', '141799\\n', '63964\\n', '110945\\n', '102174\\n', '87697\\n', '88838\\n', '93552\\n', '145531\\n', '54602\\n', '65080\\n', '66865\\n', '139693\\n', '98048\\n', '60409\\n', '88384\\n', '138807\\n', '130854\\n', '75997\\n', '130900\\n', '125974\\n', '129123\\n', '93480\\n', '86042\\n', '128187\\n', '74981\\n', '88144\\n', '96629\\n', '148836\\n', '124473\\n', '57616\\n', '93477\\n', '104174\\n', '97407\\n', '123017\\n', '85408\\n', '64862\\n', '85298\\n', '88142\\n', '62182\\n', '128983\\n', '62981\\n', '124580\\n', '56339\\n', '94335\\n', '125521\\n', '121373\\n', '78777\\n', '125132\\n', '94411\\n', '57789\\n', '97384\\n', '79900']\n"
     ]
    }
   ],
   "source": [
    "with open(\"data/day_1.txt\") as f:\n",
    "    module_mass = []\n",
    "    for line in f:\n",
    "        module_mass.append(line)\n",
    "\n",
    "print(module_mass)"
   ]
  },
  {
   "cell_type": "code",
   "execution_count": 8,
   "metadata": {},
   "outputs": [
    {
     "name": "stdout",
     "output_type": "stream",
     "text": [
      "[56583, 83363, 127502, 138143, 113987, 147407, 111181, 92655, 79802, 64636, 108805, 148885, 51022, 120002, 52283, 53573, 142374, 143523, 121158, 63332, 63203, 142400, 105515, 140150, 89910, 93081, 129752, 86731, 128755, 134756, 131066, 77990, 77081, 85779, 137271, 72889, 117608, 132442, 115294, 59414, 75495, 79459, 107669, 81496, 144432, 69138, 53410, 71199, 141799, 63964, 110945, 102174, 87697, 88838, 93552, 145531, 54602, 65080, 66865, 139693, 98048, 60409, 88384, 138807, 130854, 75997, 130900, 125974, 129123, 93480, 86042, 128187, 74981, 88144, 96629, 148836, 124473, 57616, 93477, 104174, 97407, 123017, 85408, 64862, 85298, 88142, 62182, 128983, 62981, 124580, 56339, 94335, 125521, 121373, 78777, 125132, 94411, 57789, 97384, 79900]\n"
     ]
    }
   ],
   "source": [
    "module_mass = [int(item.rstrip()) for item in module_mass]\n",
    "\n",
    "print(module_mass)"
   ]
  },
  {
   "cell_type": "markdown",
   "metadata": {},
   "source": [
    "Create and test function to calculate the amount of fuel needed for each mass:"
   ]
  },
  {
   "cell_type": "code",
   "execution_count": 9,
   "metadata": {},
   "outputs": [
    {
     "name": "stdout",
     "output_type": "stream",
     "text": [
      "2\n",
      "2\n",
      "654\n",
      "33583\n"
     ]
    }
   ],
   "source": [
    "def count_fuel(mass): \n",
    "    return int(mass / 3) - 2\n",
    "\n",
    "# Test on examples from the text: \n",
    "\n",
    "print(count_fuel(12))\n",
    "print(count_fuel(14))\n",
    "print(count_fuel(1969))\n",
    "print(count_fuel(100756))"
   ]
  },
  {
   "cell_type": "code",
   "execution_count": 10,
   "metadata": {},
   "outputs": [
    {
     "name": "stdout",
     "output_type": "stream",
     "text": [
      "[18859, 27785, 42498, 46045, 37993, 49133, 37058, 30883, 26598, 21543, 36266, 49626, 17005, 39998, 17425, 17855, 47456, 47839, 40384, 21108, 21065, 47464, 35169, 46714, 29968, 31025, 43248, 28908, 42916, 44916, 43686, 25994, 25691, 28591, 45755, 24294, 39200, 44145, 38429, 19802, 25163, 26484, 35887, 27163, 48142, 23044, 17801, 23731, 47264, 21319, 36979, 34056, 29230, 29610, 31182, 48508, 18198, 21691, 22286, 46562, 32680, 20134, 29459, 46267, 43616, 25330, 43631, 41989, 43039, 31158, 28678, 42727, 24991, 29379, 32207, 49610, 41489, 19203, 31157, 34722, 32467, 41003, 28467, 21618, 28430, 29378, 20725, 42992, 20991, 41524, 18777, 31443, 41838, 40455, 26257, 41708, 31468, 19261, 32459, 26631]\n"
     ]
    }
   ],
   "source": [
    "requirements = [count_fuel(module) for module in module_mass]\n",
    "\n",
    "print(requirements)"
   ]
  },
  {
   "cell_type": "code",
   "execution_count": 11,
   "metadata": {},
   "outputs": [
    {
     "data": {
      "text/plain": [
       "3303995"
      ]
     },
     "execution_count": 11,
     "metadata": {},
     "output_type": "execute_result"
    }
   ],
   "source": [
    "sum(requirements)"
   ]
  },
  {
   "cell_type": "markdown",
   "metadata": {},
   "source": [
    "## Part 2"
   ]
  },
  {
   "cell_type": "markdown",
   "metadata": {},
   "source": [
    "The mass of the fuel itself requires fuel."
   ]
  },
  {
   "cell_type": "code",
   "execution_count": 12,
   "metadata": {},
   "outputs": [
    {
     "name": "stdout",
     "output_type": "stream",
     "text": [
      "2\n",
      "966\n",
      "50346\n"
     ]
    }
   ],
   "source": [
    "def count_fuel_recursive(mass): \n",
    "    \n",
    "    def count_fuel(mass): \n",
    "        return int(mass / 3) - 2\n",
    "    \n",
    "    total = 0\n",
    "    req = count_fuel(mass)\n",
    "    while req > 0: \n",
    "        total += req\n",
    "        req = count_fuel(req)\n",
    "     \n",
    "    return total\n",
    "\n",
    "# Test\n",
    "\n",
    "print(count_fuel_recursive(14))\n",
    "print(count_fuel_recursive(1969))\n",
    "print(count_fuel_recursive(100756))"
   ]
  },
  {
   "cell_type": "code",
   "execution_count": 13,
   "metadata": {},
   "outputs": [
    {
     "name": "stdout",
     "output_type": "stream",
     "text": [
      "[28260, 41650, 63718, 69039, 56961, 73669, 55556, 46296, 39870, 32288, 54369, 74410, 25479, 59967, 26110, 26756, 71154, 71727, 60547, 31633, 31569, 71168, 52726, 70042, 44925, 46509, 64841, 43333, 64343, 67344, 65499, 38960, 38507, 42860, 68601, 36412, 58768, 66189, 57614, 29676, 37716, 39701, 53802, 40717, 72185, 34537, 26675, 35569, 70865, 31951, 55439, 51056, 43817, 44386, 46746, 72732, 27270, 32508, 33401, 69812, 48990, 30173, 44160, 69372, 65393, 37966, 65416, 62954, 64530, 46709, 42990, 64060, 37458, 44040, 48280, 74385, 62203, 28779, 46707, 52054, 48670, 61475, 42674, 32398, 42619, 44038, 31060, 64457, 31459, 62256, 28138, 47137, 62729, 60654, 39359, 62532, 47173, 28864, 48658, 39919]\n"
     ]
    }
   ],
   "source": [
    "recursive_requirements = [count_fuel_recursive(module) for module in module_mass]\n",
    "print(recursive_requirements)"
   ]
  },
  {
   "cell_type": "code",
   "execution_count": 14,
   "metadata": {},
   "outputs": [
    {
     "data": {
      "text/plain": [
       "4953118"
      ]
     },
     "execution_count": 14,
     "metadata": {},
     "output_type": "execute_result"
    }
   ],
   "source": [
    "sum(recursive_requirements)"
   ]
  },
  {
   "cell_type": "code",
   "execution_count": null,
   "metadata": {},
   "outputs": [],
   "source": []
  }
 ],
 "metadata": {
  "kernelspec": {
   "display_name": "Python 3",
   "language": "python",
   "name": "python3"
  },
  "language_info": {
   "codemirror_mode": {
    "name": "ipython",
    "version": 3
   },
   "file_extension": ".py",
   "mimetype": "text/x-python",
   "name": "python",
   "nbconvert_exporter": "python",
   "pygments_lexer": "ipython3",
   "version": "3.7.0"
  }
 },
 "nbformat": 4,
 "nbformat_minor": 2
}
